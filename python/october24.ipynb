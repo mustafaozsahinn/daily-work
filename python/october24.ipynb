{
  "nbformat": 4,
  "nbformat_minor": 0,
  "metadata": {
    "colab": {
      "provenance": [],
      "collapsed_sections": [],
      "authorship_tag": "ABX9TyM/CtysPiXtqy4d9TW3g1tl",
      "include_colab_link": true
    },
    "kernelspec": {
      "name": "python3",
      "display_name": "Python 3"
    },
    "language_info": {
      "name": "python"
    }
  },
  "cells": [
    {
      "cell_type": "markdown",
      "metadata": {
        "id": "view-in-github",
        "colab_type": "text"
      },
      "source": [
        "<a href=\"https://colab.research.google.com/github/mustafaozsahinn/daily-work/blob/main/october24.ipynb\" target=\"_parent\"><img src=\"https://colab.research.google.com/assets/colab-badge.svg\" alt=\"Open In Colab\"/></a>"
      ]
    },
    {
      "cell_type": "code",
      "execution_count": null,
      "metadata": {
        "colab": {
          "base_uri": "https://localhost:8080/"
        },
        "id": "Gi0Aud3E80qX",
        "outputId": "4d380c1d-dd57-44ee-8db5-fb954a26da25"
      },
      "outputs": [
        {
          "output_type": "execute_result",
          "data": {
            "text/plain": [
              "{'animal': 'dog',\n",
              " 'planet': 'neptun',\n",
              " 'number': 40,\n",
              " 'pi': 3.14,\n",
              " 'is_good': True}"
            ]
          },
          "metadata": {},
          "execution_count": 1
        }
      ],
      "source": [
        "# dict fonksiyonu içinde key leri \"quote\" yapmıyoruz.\n",
        "# value her veri tipinde olabilir.\n",
        "my_dict = dict(animal = \"dog\", planet = \"neptun\", number = 40, pi = 3.14, is_good = True )\n",
        "my_dict"
      ]
    },
    {
      "cell_type": "code",
      "source": [
        "my_dict[\"is_good\"]"
      ],
      "metadata": {
        "colab": {
          "base_uri": "https://localhost:8080/"
        },
        "id": "wfaneejeDDMU",
        "outputId": "7a8469f0-20a5-4fde-e286-c7b67a271b86"
      },
      "execution_count": null,
      "outputs": [
        {
          "output_type": "execute_result",
          "data": {
            "text/plain": [
              "True"
            ]
          },
          "metadata": {},
          "execution_count": 2
        }
      ]
    },
    {
      "cell_type": "code",
      "source": [
        "type(my_dict[\"is_good\"])"
      ],
      "metadata": {
        "colab": {
          "base_uri": "https://localhost:8080/"
        },
        "id": "Pqfvys0iDIxu",
        "outputId": "eb006f95-d92e-4ead-bed3-7c87467b549c"
      },
      "execution_count": null,
      "outputs": [
        {
          "output_type": "execute_result",
          "data": {
            "text/plain": [
              "bool"
            ]
          },
          "metadata": {},
          "execution_count": 3
        }
      ]
    },
    {
      "cell_type": "code",
      "source": [
        "my_dict[\"animal\"]\n",
        "# dict içinden alırken \"\" kullanmak gerekiyor."
      ],
      "metadata": {
        "colab": {
          "base_uri": "https://localhost:8080/",
          "height": 35
        },
        "id": "6_4LG5meCc6G",
        "outputId": "8d257c88-5b09-452f-f574-ca5a467d90e0"
      },
      "execution_count": null,
      "outputs": [
        {
          "output_type": "execute_result",
          "data": {
            "text/plain": [
              "'dog'"
            ],
            "application/vnd.google.colaboratory.intrinsic+json": {
              "type": "string"
            }
          },
          "metadata": {},
          "execution_count": 4
        }
      ]
    },
    {
      "cell_type": "code",
      "source": [
        "shoes_numbers = {\"ali\" : 1,\n",
        "                \"ahmet\" : 1,\n",
        "                \"mehmet\" : 1\n",
        "                }"
      ],
      "metadata": {
        "id": "3cmXgPWg_eXx"
      },
      "execution_count": null,
      "outputs": []
    },
    {
      "cell_type": "code",
      "source": [
        "shoes_numbers[\"ahmet\"]"
      ],
      "metadata": {
        "colab": {
          "base_uri": "https://localhost:8080/"
        },
        "id": "mbL8m2lkBLXV",
        "outputId": "07e2f7de-fca2-42a2-c290-0dd9f2bf36bf"
      },
      "execution_count": null,
      "outputs": [
        {
          "output_type": "execute_result",
          "data": {
            "text/plain": [
              "1"
            ]
          },
          "metadata": {},
          "execution_count": 6
        }
      ]
    },
    {
      "cell_type": "code",
      "source": [
        "shoes_numbers[\"ahmet\"] += 1\n",
        "\n",
        "# value ya 1 ekleme için bir defa çalıştırırız.\n",
        "\n",
        "shoes_numbers"
      ],
      "metadata": {
        "colab": {
          "base_uri": "https://localhost:8080/"
        },
        "id": "6Z4UurXIBdOm",
        "outputId": "a6481c04-b7f7-48e1-c79f-ea7b238d2a47"
      },
      "execution_count": null,
      "outputs": [
        {
          "output_type": "execute_result",
          "data": {
            "text/plain": [
              "{'ali': 1, 'ahmet': 2, 'mehmet': 1}"
            ]
          },
          "metadata": {},
          "execution_count": 7
        }
      ]
    },
    {
      "cell_type": "code",
      "source": [
        "# .items() key ve value lardan tuple oluşturup, tuple lardan list oluşturuyor.\n",
        "# .keys() liste formatında keys getiriyor.\n",
        "# .values() liste formatında values getiriyor.\n",
        "print(my_dict.items())\n",
        "print(my_dict.keys())\n",
        "print(my_dict.values())"
      ],
      "metadata": {
        "colab": {
          "base_uri": "https://localhost:8080/"
        },
        "id": "jHHGiaZ7ECyn",
        "outputId": "11779114-d1cc-4091-c304-8632f8fe6f3f"
      },
      "execution_count": null,
      "outputs": [
        {
          "output_type": "stream",
          "name": "stdout",
          "text": [
            "dict_items([('animal', 'dog'), ('planet', 'neptun'), ('number', 40), ('pi', 3.14), ('is_good', True)])\n",
            "dict_keys(['animal', 'planet', 'number', 'pi', 'is_good'])\n",
            "dict_values(['dog', 'neptun', 40, 3.14, True])\n"
          ]
        }
      ]
    },
    {
      "cell_type": "code",
      "source": [
        "# .update() methoduyla dict e ekelme yapma.\n",
        "my_dict.update( student = \"ayşe\")\n",
        "my_dict"
      ],
      "metadata": {
        "colab": {
          "base_uri": "https://localhost:8080/"
        },
        "id": "OrtyDGlFGEZR",
        "outputId": "f28a1e14-2224-4899-d0ea-4ecfd1a36a78"
      },
      "execution_count": null,
      "outputs": [
        {
          "output_type": "execute_result",
          "data": {
            "text/plain": [
              "{'animal': 'dog',\n",
              " 'planet': 'neptun',\n",
              " 'number': 40,\n",
              " 'pi': 3.14,\n",
              " 'is_good': True,\n",
              " 'student': 'ayşe'}"
            ]
          },
          "metadata": {},
          "execution_count": 9
        }
      ]
    },
    {
      "cell_type": "code",
      "source": [
        "my_dict.update({\"mehmet\" : \"bay\", 11 : \"integer\"})\n",
        "my_dict"
      ],
      "metadata": {
        "colab": {
          "base_uri": "https://localhost:8080/"
        },
        "id": "6UyL-AbjFldP",
        "outputId": "34f0a9a1-4a1a-40be-ae03-ec93ccdb5d29"
      },
      "execution_count": null,
      "outputs": [
        {
          "output_type": "execute_result",
          "data": {
            "text/plain": [
              "{'animal': 'dog',\n",
              " 'planet': 'neptun',\n",
              " 'number': 40,\n",
              " 'pi': 3.14,\n",
              " 'is_good': True,\n",
              " 'student': 'ayşe',\n",
              " 'mehmet': 'bay',\n",
              " 11: 'integer'}"
            ]
          },
          "metadata": {},
          "execution_count": 10
        }
      ]
    },
    {
      "cell_type": "code",
      "source": [
        "print(my_dict)"
      ],
      "metadata": {
        "colab": {
          "base_uri": "https://localhost:8080/"
        },
        "id": "hK-PiSAFF-A2",
        "outputId": "a508134f-557c-437e-d3e7-df5a91983e3b"
      },
      "execution_count": null,
      "outputs": [
        {
          "output_type": "stream",
          "name": "stdout",
          "text": [
            "{'animal': 'dog', 'planet': 'neptun', 'number': 40, 'pi': 3.14, 'is_good': True, 'student': 'ayşe', 'mehmet': 'bay', 11: 'integer'}\n"
          ]
        }
      ]
    },
    {
      "cell_type": "code",
      "source": [
        "# .items() kendine has bir type ı var\n",
        "type(my_dict.items())"
      ],
      "metadata": {
        "colab": {
          "base_uri": "https://localhost:8080/"
        },
        "id": "ljtbkXSVGZ7h",
        "outputId": "c7a27420-0b0e-49d8-e688-02c108328a2b"
      },
      "execution_count": null,
      "outputs": [
        {
          "output_type": "execute_result",
          "data": {
            "text/plain": [
              "dict_items"
            ]
          },
          "metadata": {},
          "execution_count": 12
        }
      ]
    },
    {
      "cell_type": "code",
      "source": [
        "len(my_dict.items())"
      ],
      "metadata": {
        "colab": {
          "base_uri": "https://localhost:8080/"
        },
        "id": "5n9tDvgqLQ7E",
        "outputId": "3e2df798-3063-4071-bca2-349565f65156"
      },
      "execution_count": null,
      "outputs": [
        {
          "output_type": "execute_result",
          "data": {
            "text/plain": [
              "8"
            ]
          },
          "metadata": {},
          "execution_count": 13
        }
      ]
    },
    {
      "cell_type": "code",
      "source": [
        "list(my_dict.items())"
      ],
      "metadata": {
        "colab": {
          "base_uri": "https://localhost:8080/"
        },
        "id": "X4mQLXfvLsO4",
        "outputId": "6803eef5-f394-45c9-ca13-c78ad9b46c8f"
      },
      "execution_count": null,
      "outputs": [
        {
          "output_type": "execute_result",
          "data": {
            "text/plain": [
              "[('animal', 'dog'),\n",
              " ('planet', 'neptun'),\n",
              " ('number', 40),\n",
              " ('pi', 3.14),\n",
              " ('is_good', True),\n",
              " ('student', 'ayşe'),\n",
              " ('mehmet', 'bay'),\n",
              " (11, 'integer')]"
            ]
          },
          "metadata": {},
          "execution_count": 14
        }
      ]
    },
    {
      "cell_type": "code",
      "source": [
        "type(my_dict.keys())"
      ],
      "metadata": {
        "colab": {
          "base_uri": "https://localhost:8080/"
        },
        "id": "V-cPPRSGMjtJ",
        "outputId": "527f5487-ba17-499f-a73c-596df2a2c9bf"
      },
      "execution_count": null,
      "outputs": [
        {
          "output_type": "execute_result",
          "data": {
            "text/plain": [
              "dict_keys"
            ]
          },
          "metadata": {},
          "execution_count": 15
        }
      ]
    },
    {
      "cell_type": "code",
      "source": [
        "tuple(my_dict.keys())"
      ],
      "metadata": {
        "colab": {
          "base_uri": "https://localhost:8080/"
        },
        "id": "Pu4MDN3TL94R",
        "outputId": "eecdcfc7-b78d-49f9-9c59-78b4d3588084"
      },
      "execution_count": null,
      "outputs": [
        {
          "output_type": "execute_result",
          "data": {
            "text/plain": [
              "('animal', 'planet', 'number', 'pi', 'is_good', 'student', 'mehmet', 11)"
            ]
          },
          "metadata": {},
          "execution_count": 16
        }
      ]
    },
    {
      "cell_type": "code",
      "source": [
        "type(tuple(my_dict.keys()))"
      ],
      "metadata": {
        "colab": {
          "base_uri": "https://localhost:8080/"
        },
        "id": "TBRDapIiMfAP",
        "outputId": "dbf20b37-2693-4a7f-b277-3d004d522d09"
      },
      "execution_count": null,
      "outputs": [
        {
          "output_type": "execute_result",
          "data": {
            "text/plain": [
              "tuple"
            ]
          },
          "metadata": {},
          "execution_count": 17
        }
      ]
    },
    {
      "cell_type": "code",
      "source": [
        "my_dict"
      ],
      "metadata": {
        "colab": {
          "base_uri": "https://localhost:8080/"
        },
        "id": "tqyVOdlRMqZL",
        "outputId": "5dd55803-4b8b-4738-b1a9-f6968decb180"
      },
      "execution_count": null,
      "outputs": [
        {
          "output_type": "execute_result",
          "data": {
            "text/plain": [
              "{'animal': 'dog',\n",
              " 'planet': 'neptun',\n",
              " 'number': 40,\n",
              " 'pi': 3.14,\n",
              " 'is_good': True,\n",
              " 'student': 'ayşe',\n",
              " 'mehmet': 'bay',\n",
              " 11: 'integer'}"
            ]
          },
          "metadata": {},
          "execution_count": 18
        }
      ]
    },
    {
      "cell_type": "code",
      "source": [
        "print(my_dict.items(), \"\\n\", my_dict.keys(), \"\\n\", my_dict.values())"
      ],
      "metadata": {
        "colab": {
          "base_uri": "https://localhost:8080/"
        },
        "id": "YSLixhjvMsiy",
        "outputId": "415c3fe4-155e-43cc-84ba-f4d459b0bbd3"
      },
      "execution_count": null,
      "outputs": [
        {
          "output_type": "stream",
          "name": "stdout",
          "text": [
            "dict_items([('animal', 'dog'), ('planet', 'neptun'), ('number', 40), ('pi', 3.14), ('is_good', True), ('student', 'ayşe'), ('mehmet', 'bay'), (11, 'integer')]) \n",
            " dict_keys(['animal', 'planet', 'number', 'pi', 'is_good', 'student', 'mehmet', 11]) \n",
            " dict_values(['dog', 'neptun', 40, 3.14, True, 'ayşe', 'bay', 'integer'])\n"
          ]
        }
      ]
    },
    {
      "cell_type": "code",
      "source": [
        "items = list(my_dict.items())"
      ],
      "metadata": {
        "id": "o58089bbMse4"
      },
      "execution_count": null,
      "outputs": []
    },
    {
      "cell_type": "code",
      "source": [
        "items[0]"
      ],
      "metadata": {
        "colab": {
          "base_uri": "https://localhost:8080/"
        },
        "id": "SURWo1B2MscS",
        "outputId": "8f04d44e-d34e-43f1-8e71-a4ef0f20cf6b"
      },
      "execution_count": null,
      "outputs": [
        {
          "output_type": "execute_result",
          "data": {
            "text/plain": [
              "('animal', 'dog')"
            ]
          },
          "metadata": {},
          "execution_count": 21
        }
      ]
    },
    {
      "cell_type": "code",
      "source": [
        "len(items[0])"
      ],
      "metadata": {
        "colab": {
          "base_uri": "https://localhost:8080/"
        },
        "id": "Ud9pJfxhMsYW",
        "outputId": "ae31272f-94e3-4c5e-bca5-3dab9dfa6b6a"
      },
      "execution_count": null,
      "outputs": [
        {
          "output_type": "execute_result",
          "data": {
            "text/plain": [
              "2"
            ]
          },
          "metadata": {},
          "execution_count": 22
        }
      ]
    },
    {
      "cell_type": "code",
      "source": [
        "x , y = items[0]\n",
        "print(x)\n",
        "print(y)"
      ],
      "metadata": {
        "colab": {
          "base_uri": "https://localhost:8080/"
        },
        "id": "cuXImWnoMsU9",
        "outputId": "057f6e2d-5478-49da-9b7e-e6b38fd9087d"
      },
      "execution_count": null,
      "outputs": [
        {
          "output_type": "stream",
          "name": "stdout",
          "text": [
            "animal\n",
            "dog\n"
          ]
        }
      ]
    },
    {
      "cell_type": "code",
      "source": [
        "x, y = \"animal\", \"dog\""
      ],
      "metadata": {
        "id": "wR06NWZYMsRw"
      },
      "execution_count": null,
      "outputs": []
    },
    {
      "cell_type": "code",
      "source": [
        "# , ile ayrılan items tuple dır.\n",
        "x, y"
      ],
      "metadata": {
        "colab": {
          "base_uri": "https://localhost:8080/"
        },
        "id": "Yc8E8qr8PkDQ",
        "outputId": "bc2bd5d1-4414-4aef-e543-325aa07fcbd3"
      },
      "execution_count": null,
      "outputs": [
        {
          "output_type": "execute_result",
          "data": {
            "text/plain": [
              "('animal', 'dog')"
            ]
          },
          "metadata": {},
          "execution_count": 25
        }
      ]
    },
    {
      "cell_type": "code",
      "source": [
        "tuple(my_dict.keys())"
      ],
      "metadata": {
        "colab": {
          "base_uri": "https://localhost:8080/"
        },
        "id": "11U5ksmDPnNo",
        "outputId": "2a23419b-e8dc-4db7-b80f-c7d6105c114e"
      },
      "execution_count": null,
      "outputs": [
        {
          "output_type": "execute_result",
          "data": {
            "text/plain": [
              "('animal', 'planet', 'number', 'pi', 'is_good', 'student', 'mehmet', 11)"
            ]
          },
          "metadata": {},
          "execution_count": 26
        }
      ]
    },
    {
      "cell_type": "code",
      "source": [
        "set(my_dict.values())"
      ],
      "metadata": {
        "colab": {
          "base_uri": "https://localhost:8080/"
        },
        "id": "beZIvaqKPrjc",
        "outputId": "430ca521-acc3-4867-9fc4-a7d12b56af21"
      },
      "execution_count": null,
      "outputs": [
        {
          "output_type": "execute_result",
          "data": {
            "text/plain": [
              "{3.14, 40, True, 'ayşe', 'bay', 'dog', 'integer', 'neptun'}"
            ]
          },
          "metadata": {},
          "execution_count": 27
        }
      ]
    },
    {
      "cell_type": "code",
      "source": [
        "# .update() ile birden çok item ekleyebiliyoruz - ve değiştirebiliyoruz\n",
        "# .insert() de ekelme yapar - eskiden"
      ],
      "metadata": {
        "id": "3feiuvs3QN0x"
      },
      "execution_count": null,
      "outputs": []
    },
    {
      "cell_type": "code",
      "source": [
        "my_dict.update({\"animal\" : \"cat\"})\n",
        "my_dict"
      ],
      "metadata": {
        "colab": {
          "base_uri": "https://localhost:8080/"
        },
        "id": "6rkXVqIiReX5",
        "outputId": "f1cc5d62-9067-4526-f935-d37c6a3aac46"
      },
      "execution_count": null,
      "outputs": [
        {
          "output_type": "execute_result",
          "data": {
            "text/plain": [
              "{'animal': 'cat',\n",
              " 'planet': 'neptun',\n",
              " 'number': 40,\n",
              " 'pi': 3.14,\n",
              " 'is_good': True,\n",
              " 'student': 'ayşe',\n",
              " 'mehmet': 'bay',\n",
              " 11: 'integer'}"
            ]
          },
          "metadata": {},
          "execution_count": 29
        }
      ]
    },
    {
      "cell_type": "code",
      "source": [
        "# değişken silmek için del fonksiyonu var.\n",
        "del my_dict[\"number\"]"
      ],
      "metadata": {
        "id": "j8PVtn_mR07l"
      },
      "execution_count": null,
      "outputs": []
    },
    {
      "cell_type": "code",
      "source": [
        "my_dict"
      ],
      "metadata": {
        "colab": {
          "base_uri": "https://localhost:8080/"
        },
        "id": "zRFmqL5UR_Wu",
        "outputId": "adfb7181-6ff6-40a4-965c-ed1a5f34e06f"
      },
      "execution_count": null,
      "outputs": [
        {
          "output_type": "execute_result",
          "data": {
            "text/plain": [
              "{'animal': 'cat',\n",
              " 'planet': 'neptun',\n",
              " 'pi': 3.14,\n",
              " 'is_good': True,\n",
              " 'student': 'ayşe',\n",
              " 'mehmet': 'bay',\n",
              " 11: 'integer'}"
            ]
          },
          "metadata": {},
          "execution_count": 31
        }
      ]
    },
    {
      "cell_type": "code",
      "source": [
        "# aynı anda birden çok değişken silebilriz.\n",
        "del my_dict[\"mehmet\"], my_dict[\"pi\"]"
      ],
      "metadata": {
        "id": "g4400fSKSb33"
      },
      "execution_count": null,
      "outputs": []
    },
    {
      "cell_type": "code",
      "source": [
        "my_dict"
      ],
      "metadata": {
        "colab": {
          "base_uri": "https://localhost:8080/"
        },
        "id": "LAmKwnnISnFL",
        "outputId": "267ce09d-da57-4a2e-d337-a7ad22d125a4"
      },
      "execution_count": null,
      "outputs": [
        {
          "output_type": "execute_result",
          "data": {
            "text/plain": [
              "{'animal': 'cat',\n",
              " 'planet': 'neptun',\n",
              " 'is_good': True,\n",
              " 'student': 'ayşe',\n",
              " 11: 'integer'}"
            ]
          },
          "metadata": {},
          "execution_count": 33
        }
      ]
    },
    {
      "cell_type": "code",
      "source": [
        "# in çok kullanışlı, condition yazarken\n",
        "\"a\" in \"adana\""
      ],
      "metadata": {
        "colab": {
          "base_uri": "https://localhost:8080/"
        },
        "id": "ECZh2_PlSoWR",
        "outputId": "9a075236-b13c-4560-b560-bfe40f3d3cbb"
      },
      "execution_count": null,
      "outputs": [
        {
          "output_type": "execute_result",
          "data": {
            "text/plain": [
              "True"
            ]
          },
          "metadata": {},
          "execution_count": 34
        }
      ]
    },
    {
      "cell_type": "code",
      "source": [
        "course = \"cours era\"\n",
        "course.split()"
      ],
      "metadata": {
        "colab": {
          "base_uri": "https://localhost:8080/"
        },
        "id": "P_EFjH6SS0GO",
        "outputId": "bcb354fa-ae06-40b2-c25b-64f73f546eef"
      },
      "execution_count": null,
      "outputs": [
        {
          "output_type": "execute_result",
          "data": {
            "text/plain": [
              "['cours', 'era']"
            ]
          },
          "metadata": {},
          "execution_count": 35
        }
      ]
    },
    {
      "cell_type": "code",
      "source": [
        "course = \"cours era\".split()\n",
        "course"
      ],
      "metadata": {
        "colab": {
          "base_uri": "https://localhost:8080/"
        },
        "id": "VORNDb__Tfh7",
        "outputId": "a2e08fc4-29c0-4e38-e00a-7ce81d564d7f"
      },
      "execution_count": null,
      "outputs": [
        {
          "output_type": "execute_result",
          "data": {
            "text/plain": [
              "['cours', 'era']"
            ]
          },
          "metadata": {},
          "execution_count": 38
        }
      ]
    },
    {
      "cell_type": "code",
      "source": [
        "example = \"ali-deli-veli\".split(\"-\")\n",
        "example"
      ],
      "metadata": {
        "colab": {
          "base_uri": "https://localhost:8080/"
        },
        "id": "ZaODM6gfTmYv",
        "outputId": "8124db97-d4e3-4622-ace0-d6ff9213ae1b"
      },
      "execution_count": null,
      "outputs": [
        {
          "output_type": "execute_result",
          "data": {
            "text/plain": [
              "['ali', 'deli', 'veli']"
            ]
          },
          "metadata": {},
          "execution_count": 39
        }
      ]
    },
    {
      "cell_type": "code",
      "source": [
        "\"a\" in course"
      ],
      "metadata": {
        "colab": {
          "base_uri": "https://localhost:8080/"
        },
        "id": "pJuPVUV7T_uJ",
        "outputId": "13100814-cce4-47e4-8486-089192652390"
      },
      "execution_count": null,
      "outputs": [
        {
          "output_type": "execute_result",
          "data": {
            "text/plain": [
              "False"
            ]
          },
          "metadata": {},
          "execution_count": 43
        }
      ]
    },
    {
      "cell_type": "code",
      "source": [
        "course = \"c o u r s e r a\".split()\n",
        "\"a\" in course"
      ],
      "metadata": {
        "colab": {
          "base_uri": "https://localhost:8080/"
        },
        "id": "TCuSPC0lUDep",
        "outputId": "f317749b-de05-4164-b83d-87c8d9978c21"
      },
      "execution_count": null,
      "outputs": [
        {
          "output_type": "execute_result",
          "data": {
            "text/plain": [
              "True"
            ]
          },
          "metadata": {},
          "execution_count": 44
        }
      ]
    },
    {
      "cell_type": "code",
      "source": [
        "my_dict"
      ],
      "metadata": {
        "colab": {
          "base_uri": "https://localhost:8080/"
        },
        "id": "CVAYd5QWUScJ",
        "outputId": "4eac0634-4752-4f12-f528-d5b76c70ea3d"
      },
      "execution_count": null,
      "outputs": [
        {
          "output_type": "execute_result",
          "data": {
            "text/plain": [
              "{'animal': 'cat',\n",
              " 'planet': 'neptun',\n",
              " 'is_good': True,\n",
              " 'student': 'ayşe',\n",
              " 11: 'integer'}"
            ]
          },
          "metadata": {},
          "execution_count": 45
        }
      ]
    },
    {
      "cell_type": "code",
      "source": [
        "# values arasında aramaz.\n",
        "\"neptun\" in my_dict"
      ],
      "metadata": {
        "colab": {
          "base_uri": "https://localhost:8080/"
        },
        "id": "uWALx11eUl9E",
        "outputId": "e6d7c195-596f-4af4-c15d-24c4588de99b"
      },
      "execution_count": null,
      "outputs": [
        {
          "output_type": "execute_result",
          "data": {
            "text/plain": [
              "False"
            ]
          },
          "metadata": {},
          "execution_count": 46
        }
      ]
    },
    {
      "cell_type": "code",
      "source": [
        "# keys arasında arar\n",
        "\"planet\" in my_dict"
      ],
      "metadata": {
        "colab": {
          "base_uri": "https://localhost:8080/"
        },
        "id": "C1e_zSF9Upwt",
        "outputId": "5d999a65-5c24-4934-b572-e607580c9db7"
      },
      "execution_count": null,
      "outputs": [
        {
          "output_type": "execute_result",
          "data": {
            "text/plain": [
              "True"
            ]
          },
          "metadata": {},
          "execution_count": 47
        }
      ]
    },
    {
      "cell_type": "code",
      "source": [
        "# .values() ile values arasdında da soegulama yapılabilir.\n",
        "\"cat\" in my_dict.values()"
      ],
      "metadata": {
        "colab": {
          "base_uri": "https://localhost:8080/"
        },
        "id": "MlPjdWNuUtgY",
        "outputId": "4c24ba32-dfa8-4299-fee0-3c4432f2cab5"
      },
      "execution_count": null,
      "outputs": [
        {
          "output_type": "execute_result",
          "data": {
            "text/plain": [
              "True"
            ]
          },
          "metadata": {},
          "execution_count": 49
        }
      ]
    },
    {
      "cell_type": "code",
      "source": [
        "# not in bildiğimiz gibi in tersi\n",
        "\"dog\" not in my_dict.values()"
      ],
      "metadata": {
        "colab": {
          "base_uri": "https://localhost:8080/"
        },
        "id": "H-0IZZ_8U8qo",
        "outputId": "70195c8b-4ca7-42f8-e3ee-5a8af18a9241"
      },
      "execution_count": null,
      "outputs": [
        {
          "output_type": "execute_result",
          "data": {
            "text/plain": [
              "True"
            ]
          },
          "metadata": {},
          "execution_count": 52
        }
      ]
    },
    {
      "cell_type": "markdown",
      "source": [
        "# Nested Dictionaries"
      ],
      "metadata": {
        "id": "z0JUBFBrdTzv"
      }
    },
    {
      "cell_type": "code",
      "source": [],
      "metadata": {
        "id": "fdOz6IevVLYJ"
      },
      "execution_count": null,
      "outputs": []
    }
  ]
}