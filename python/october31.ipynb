{
  "nbformat": 4,
  "nbformat_minor": 0,
  "metadata": {
    "colab": {
      "provenance": [],
      "collapsed_sections": [],
      "authorship_tag": "ABX9TyOOklG624GfdXLtEzBzAiNq",
      "include_colab_link": true
    },
    "kernelspec": {
      "name": "python3",
      "display_name": "Python 3"
    },
    "language_info": {
      "name": "python"
    }
  },
  "cells": [
    {
      "cell_type": "markdown",
      "metadata": {
        "id": "view-in-github",
        "colab_type": "text"
      },
      "source": [
        "<a href=\"https://colab.research.google.com/github/mustafaozsahinn/daily-work/blob/main/october31.ipynb\" target=\"_parent\"><img src=\"https://colab.research.google.com/assets/colab-badge.svg\" alt=\"Open In Colab\"/></a>"
      ]
    },
    {
      "cell_type": "code",
      "execution_count": 1,
      "metadata": {
        "id": "ITKQlOjRAueJ"
      },
      "outputs": [],
      "source": [
        "# geçmiş dersin kısaca tekrarı yapıldı."
      ]
    },
    {
      "cell_type": "markdown",
      "source": [
        "# Working with iterators\n",
        "*   str\n",
        "*   list\n",
        "*   tuple\n",
        "*   dict\n",
        "*   set"
      ],
      "metadata": {
        "id": "x77OYCHDBEiJ"
      }
    },
    {
      "cell_type": "code",
      "source": [
        "word = input(\"Enter a word: \")\n",
        "counter = 0\n",
        "\n",
        "for i in word:\n",
        "  counter +=1\n",
        "  if counter < len(word):\n",
        "    i += \"-\"\n",
        "  print(i, end = \"\")"
      ],
      "metadata": {
        "colab": {
          "base_uri": "https://localhost:8080/"
        },
        "id": "hxsKocJdA6jN",
        "outputId": "e68c7f48-c85b-46f9-c573-99eccb7b7af9"
      },
      "execution_count": 12,
      "outputs": [
        {
          "output_type": "stream",
          "name": "stdout",
          "text": [
            "Enter a word: aheyaheyahey\n",
            "a-h-e-y-a-h-e-y-a-h-e-y"
          ]
        }
      ]
    },
    {
      "cell_type": "code",
      "source": [
        "word = input(\"Enter a word: \")\n",
        "counter = 1\n",
        "\n",
        "for i in word:\n",
        "  counter +=1\n",
        "  if counter < len(word):\n",
        "    i += \"-\"\n",
        "  print(i, end = \"\")"
      ],
      "metadata": {
        "colab": {
          "base_uri": "https://localhost:8080/"
        },
        "id": "n7U1NP7ILw1X",
        "outputId": "0df2b7fe-82a0-4710-c7e5-99bdd1b279a3"
      },
      "execution_count": 19,
      "outputs": [
        {
          "output_type": "stream",
          "name": "stdout",
          "text": [
            "Enter a word: Clarusway\n",
            "C-l-a-r-u-s-w-ay"
          ]
        }
      ]
    },
    {
      "cell_type": "code",
      "source": [
        "user = {\n",
        "    \"name\" : \"Daniel\",\n",
        "    \"surname\" : \"Smith\",\n",
        "    \"age\" : 35\n",
        "}\n",
        "\n",
        "for attribute in user: # i veya attribute diyorsa keyleri al.\n",
        "  print(attribute)"
      ],
      "metadata": {
        "colab": {
          "base_uri": "https://localhost:8080/"
        },
        "id": "ahmdn8gtBr8R",
        "outputId": "e3614363-71a7-4c27-e437-347b4d7e3120"
      },
      "execution_count": 13,
      "outputs": [
        {
          "output_type": "stream",
          "name": "stdout",
          "text": [
            "name\n",
            "surname\n",
            "age\n"
          ]
        }
      ]
    },
    {
      "cell_type": "code",
      "source": [
        "# name in user True verir\n",
        "# Smith in user False verir"
      ],
      "metadata": {
        "id": "DdVsf7QMJWJ7"
      },
      "execution_count": 14,
      "outputs": []
    },
    {
      "cell_type": "code",
      "source": [
        "user = {\n",
        "    \"name\" : \"Daniel\",\n",
        "    \"surname\" : \"Smith\",\n",
        "    \"age\" : 35\n",
        "}\n",
        "\n",
        "for attribute in user.values(): # values u istiyor.\n",
        "  print(attribute, end = \" \")"
      ],
      "metadata": {
        "colab": {
          "base_uri": "https://localhost:8080/"
        },
        "id": "LAuQD6jyJeuJ",
        "outputId": "a663c832-31cd-4d29-e8c7-86cca37ae11e"
      },
      "execution_count": 17,
      "outputs": [
        {
          "output_type": "stream",
          "name": "stdout",
          "text": [
            "Daniel Smith 35 "
          ]
        }
      ]
    },
    {
      "cell_type": "code",
      "source": [
        "user = {\n",
        "    \"name\" : \"Daniel\",\n",
        "    \"surname\" : \"Smith\",\n",
        "    \"age\" : 35\n",
        "}\n",
        "\n",
        "for key, value in user.items(): # hem key hem value diyorsa ikisini de al.\n",
        "  print(key, \":\", value)"
      ],
      "metadata": {
        "colab": {
          "base_uri": "https://localhost:8080/"
        },
        "id": "4PB0kjlZJnBj",
        "outputId": "187ce684-f552-44b8-9227-8010d054c40e"
      },
      "execution_count": 18,
      "outputs": [
        {
          "output_type": "stream",
          "name": "stdout",
          "text": [
            "name : Daniel\n",
            "surname : Smith\n",
            "age : 35\n"
          ]
        }
      ]
    },
    {
      "cell_type": "code",
      "source": [
        "user.items()"
      ],
      "metadata": {
        "colab": {
          "base_uri": "https://localhost:8080/"
        },
        "id": "FQmi-FwDKKVy",
        "outputId": "0b60a57d-904b-4de4-bd58-8351b8b8d8f7"
      },
      "execution_count": 20,
      "outputs": [
        {
          "output_type": "execute_result",
          "data": {
            "text/plain": [
              "dict_items([('name', 'Daniel'), ('surname', 'Smith'), ('age', 35)])"
            ]
          },
          "metadata": {},
          "execution_count": 20
        }
      ]
    },
    {
      "cell_type": "code",
      "source": [
        "a, b, c = 3, 5, 7\n",
        "\n",
        "print(c)"
      ],
      "metadata": {
        "colab": {
          "base_uri": "https://localhost:8080/"
        },
        "id": "5Saf-Im8Om0f",
        "outputId": "674091ce-f119-4b17-eb92-81e182d7595d"
      },
      "execution_count": 22,
      "outputs": [
        {
          "output_type": "stream",
          "name": "stdout",
          "text": [
            "7\n"
          ]
        }
      ]
    },
    {
      "cell_type": "code",
      "source": [
        "for key, value in user.items():\n",
        "  print(key, value)"
      ],
      "metadata": {
        "colab": {
          "base_uri": "https://localhost:8080/"
        },
        "id": "a5t4W33iOew1",
        "outputId": "f4c99879-9f07-491e-efb0-8bef8402d5aa"
      },
      "execution_count": 28,
      "outputs": [
        {
          "output_type": "stream",
          "name": "stdout",
          "text": [
            "name Daniel\n",
            "surname Smith\n",
            "age 35\n"
          ]
        }
      ]
    },
    {
      "cell_type": "code",
      "source": [
        "test = [(1,2), (3,4), (5,6), (7,8)]\n",
        "test[1]"
      ],
      "metadata": {
        "colab": {
          "base_uri": "https://localhost:8080/"
        },
        "id": "n9r-tadTOkBk",
        "outputId": "abf681ca-282a-4a97-8f69-ec28769cd263"
      },
      "execution_count": 34,
      "outputs": [
        {
          "output_type": "execute_result",
          "data": {
            "text/plain": [
              "(3, 4)"
            ]
          },
          "metadata": {},
          "execution_count": 34
        }
      ]
    },
    {
      "cell_type": "code",
      "source": [
        "for i, j in test:\n",
        "  print(i, j)"
      ],
      "metadata": {
        "colab": {
          "base_uri": "https://localhost:8080/"
        },
        "id": "LnSNbb-6QEc9",
        "outputId": "63e22252-73d8-491a-f91f-7897f196ea37"
      },
      "execution_count": 36,
      "outputs": [
        {
          "output_type": "stream",
          "name": "stdout",
          "text": [
            "1 2\n",
            "3 4\n",
            "5 6\n",
            "7 8\n"
          ]
        }
      ]
    },
    {
      "cell_type": "code",
      "source": [
        "for i,j in test:\n",
        "  print(i * j)"
      ],
      "metadata": {
        "colab": {
          "base_uri": "https://localhost:8080/"
        },
        "id": "41ALDcwkQV5p",
        "outputId": "006412f1-4c68-472a-d250-47009e99b729"
      },
      "execution_count": 37,
      "outputs": [
        {
          "output_type": "stream",
          "name": "stdout",
          "text": [
            "2\n",
            "12\n",
            "30\n",
            "56\n"
          ]
        }
      ]
    },
    {
      "cell_type": "code",
      "source": [
        "number = int(input(\"enter a number :\"))\n",
        "\n",
        "for i in range(11):\n",
        "  print(i, \"*\", number, \"=\", i * number)"
      ],
      "metadata": {
        "colab": {
          "base_uri": "https://localhost:8080/"
        },
        "id": "vBUXThb3Q3XB",
        "outputId": "23ac6bf4-f587-4a8f-9c3d-d580a0a3283e"
      },
      "execution_count": 49,
      "outputs": [
        {
          "output_type": "stream",
          "name": "stdout",
          "text": [
            "enter a number :4\n",
            "0 * 4 = 0\n",
            "1 * 4 = 4\n",
            "2 * 4 = 8\n",
            "3 * 4 = 12\n",
            "4 * 4 = 16\n",
            "5 * 4 = 20\n",
            "6 * 4 = 24\n",
            "7 * 4 = 28\n",
            "8 * 4 = 32\n",
            "9 * 4 = 36\n",
            "10 * 4 = 40\n"
          ]
        }
      ]
    },
    {
      "cell_type": "code",
      "source": [
        "print(range(5))\n",
        "print(*range(5))\n",
        "print(set(range(5)))\n",
        "print(list(range(5)))"
      ],
      "metadata": {
        "colab": {
          "base_uri": "https://localhost:8080/"
        },
        "id": "6H63O3oMSyua",
        "outputId": "e59b511f-bdba-4bbf-9c0e-00704567d401"
      },
      "execution_count": 53,
      "outputs": [
        {
          "output_type": "stream",
          "name": "stdout",
          "text": [
            "range(0, 5)\n",
            "0 1 2 3 4\n",
            "{0, 1, 2, 3, 4}\n",
            "[0, 1, 2, 3, 4]\n"
          ]
        }
      ]
    },
    {
      "cell_type": "code",
      "source": [
        "# * on the air olanı görünür kılar\n",
        "print(*range(5,25,2))"
      ],
      "metadata": {
        "colab": {
          "base_uri": "https://localhost:8080/"
        },
        "id": "3DNzQK2TUQNf",
        "outputId": "7e432050-c504-4299-eca7-eb4d65eb0bb4"
      },
      "execution_count": 54,
      "outputs": [
        {
          "output_type": "stream",
          "name": "stdout",
          "text": [
            "5 7 9 11 13 15 17 19 21 23\n"
          ]
        }
      ]
    },
    {
      "cell_type": "code",
      "source": [
        "# * iterable olan objects i ayırır\n",
        "print(*(\"seperate\"))"
      ],
      "metadata": {
        "colab": {
          "base_uri": "https://localhost:8080/"
        },
        "id": "UtO3osBmURpL",
        "outputId": "d95bd08c-1143-436b-9a99-3b18d5a2af44"
      },
      "execution_count": 55,
      "outputs": [
        {
          "output_type": "stream",
          "name": "stdout",
          "text": [
            "s e p e r a t e\n"
          ]
        }
      ]
    },
    {
      "cell_type": "code",
      "source": [
        "for i in range(1,10):\n",
        "  print(i*str(i))"
      ],
      "metadata": {
        "colab": {
          "base_uri": "https://localhost:8080/"
        },
        "id": "yS5Eu1eRU9Ya",
        "outputId": "9508f862-be49-4a90-9f7d-4076d7a1e426"
      },
      "execution_count": 59,
      "outputs": [
        {
          "output_type": "stream",
          "name": "stdout",
          "text": [
            "1\n",
            "22\n",
            "333\n",
            "4444\n",
            "55555\n",
            "666666\n",
            "7777777\n",
            "88888888\n",
            "999999999\n"
          ]
        }
      ]
    },
    {
      "cell_type": "code",
      "source": [
        "text = [\"one\", \"two\", \"three\", \"four\", \"five\"]\n",
        "numbers = [1, 2, 3, 4, 5]\n",
        "print(zip(text, numbers)) # on the air\n",
        "print(*(text, numbers))"
      ],
      "metadata": {
        "colab": {
          "base_uri": "https://localhost:8080/"
        },
        "id": "wgKY09NbXqUe",
        "outputId": "ec38dbbe-a970-4ea2-c5b0-620917f12e16"
      },
      "execution_count": 63,
      "outputs": [
        {
          "output_type": "stream",
          "name": "stdout",
          "text": [
            "<zip object at 0x7f3b08161e10>\n",
            "['one', 'two', 'three', 'four', 'five'] [1, 2, 3, 4, 5]\n"
          ]
        }
      ]
    },
    {
      "cell_type": "code",
      "source": [
        "text = [\"one\", \"two\", \"three\", \"four\", \"five\"]\n",
        "numbers = [1, 2, 3, 4, 5]\n",
        "letters = [\"a\", \"b\", \"c\"]\n",
        "for x, y, z in zip(text, numbers, letters): # ziplerken adedi küçük olana göre çalışır.\n",
        "  print(x, \":\", y, \"-\", z)"
      ],
      "metadata": {
        "colab": {
          "base_uri": "https://localhost:8080/"
        },
        "id": "FiQzhqOsVx1v",
        "outputId": "789dc1f5-e800-453a-afaa-38a4b5413187"
      },
      "execution_count": 66,
      "outputs": [
        {
          "output_type": "stream",
          "name": "stdout",
          "text": [
            "one : 1 - a\n",
            "two : 2 - b\n",
            "three : 3 - c\n"
          ]
        }
      ]
    },
    {
      "cell_type": "code",
      "source": [
        "zipped = zip(text, numbers, letters)\n",
        "print(*zipped)"
      ],
      "metadata": {
        "colab": {
          "base_uri": "https://localhost:8080/"
        },
        "id": "NKT0aY15XPKr",
        "outputId": "9165875e-e04a-41f0-e902-5ab99783512c"
      },
      "execution_count": 70,
      "outputs": [
        {
          "output_type": "stream",
          "name": "stdout",
          "text": [
            "('one', 1, 'a') ('two', 2, 'b') ('three', 3, 'c')\n"
          ]
        }
      ]
    },
    {
      "cell_type": "code",
      "source": [
        "print(*zipped)\n",
        "list(*zipped)"
      ],
      "metadata": {
        "colab": {
          "base_uri": "https://localhost:8080/"
        },
        "id": "5iDni4xKcB1Z",
        "outputId": "dbdc0e43-92b8-4588-87df-bf68862c4f01"
      },
      "execution_count": 72,
      "outputs": [
        {
          "output_type": "stream",
          "name": "stdout",
          "text": [
            "\n"
          ]
        },
        {
          "output_type": "execute_result",
          "data": {
            "text/plain": [
              "[]"
            ]
          },
          "metadata": {},
          "execution_count": 72
        }
      ]
    },
    {
      "cell_type": "markdown",
      "source": [
        "Kahoot örnekler"
      ],
      "metadata": {
        "id": "Ex2XQwGCenW7"
      }
    },
    {
      "cell_type": "code",
      "source": [
        "count = 0\n",
        "while count >= 0:\n",
        "  print(count)\n",
        "  count += 1\n",
        "  if count == 10:\n",
        "    break # break te bırakır onu saymaz"
      ],
      "metadata": {
        "colab": {
          "base_uri": "https://localhost:8080/"
        },
        "id": "GlKg0naacRWO",
        "outputId": "4c6d2a84-8661-4056-ca5b-13e878a315b8"
      },
      "execution_count": 74,
      "outputs": [
        {
          "output_type": "stream",
          "name": "stdout",
          "text": [
            "0\n",
            "1\n",
            "2\n",
            "3\n",
            "4\n",
            "5\n",
            "6\n",
            "7\n",
            "8\n",
            "9\n"
          ]
        }
      ]
    },
    {
      "cell_type": "code",
      "source": [
        "evens = []\n",
        "odd = []\n",
        "\n",
        "for i in range(11):\n",
        "  if (i % 2) == 0:\n",
        "    evens.append(i)\n",
        "  else:\n",
        "    odd.append(i)\n",
        "print(evens, odd, sep = \"\\n\")"
      ],
      "metadata": {
        "colab": {
          "base_uri": "https://localhost:8080/"
        },
        "id": "Hl4VdObDebl-",
        "outputId": "0b835e15-4485-4d2e-9825-e50568dd1230"
      },
      "execution_count": 89,
      "outputs": [
        {
          "output_type": "stream",
          "name": "stdout",
          "text": [
            "[0, 2, 4, 6, 8, 10]\n",
            "[1, 3, 5, 7, 9]\n"
          ]
        }
      ]
    },
    {
      "cell_type": "code",
      "source": [
        "given_list = [11, 2, 24, 61, 48, 33, 3]\n",
        "evens = 0\n",
        "odds = 0\n",
        "\n",
        "for i in given_list:\n",
        "  if (i % 2) == 0:\n",
        "   evens += 1\n",
        "  else:\n",
        "    odds += 1\n",
        "\n",
        "print(\"evens:\", evens)\n",
        "print(\"odds:\", odds)"
      ],
      "metadata": {
        "colab": {
          "base_uri": "https://localhost:8080/"
        },
        "id": "OvigUI45jAWx",
        "outputId": "e31ff49f-89f8-43de-d93c-9e79b69325c8"
      },
      "execution_count": 94,
      "outputs": [
        {
          "output_type": "stream",
          "name": "stdout",
          "text": [
            "evens: 3\n",
            "odds: 4\n"
          ]
        }
      ]
    },
    {
      "cell_type": "code",
      "source": [
        "total = 0\n",
        "\n",
        "for i in range(75):\n",
        "  total += i\n",
        "print(total)"
      ],
      "metadata": {
        "colab": {
          "base_uri": "https://localhost:8080/"
        },
        "id": "1jmB6vSlk8AT",
        "outputId": "d0d588f8-ac2a-4e82-93ec-183c4cfea3e4"
      },
      "execution_count": 108,
      "outputs": [
        {
          "output_type": "stream",
          "name": "stdout",
          "text": [
            "2775\n"
          ]
        }
      ]
    },
    {
      "cell_type": "code",
      "source": [
        "names = [\"susan\", \"tom\", \"edward\"]\n",
        "mood = [\"happy\", \"sad\"]\n",
        "\n",
        "for i in names:\n",
        "  for ii in mood:\n",
        "    print(i, \"was\", ii) \n",
        "  print(\"life goes on\" )"
      ],
      "metadata": {
        "colab": {
          "base_uri": "https://localhost:8080/"
        },
        "id": "NuV5bibCln2p",
        "outputId": "fb6b1d7c-7261-48a3-ff9b-7bff6970899b"
      },
      "execution_count": 114,
      "outputs": [
        {
          "output_type": "stream",
          "name": "stdout",
          "text": [
            "susan was happy\n",
            "susan was sad\n",
            "life goes on\n",
            "tom was happy\n",
            "tom was sad\n",
            "life goes on\n",
            "edward was happy\n",
            "edward was sad\n",
            "life goes on\n"
          ]
        }
      ]
    },
    {
      "cell_type": "code",
      "source": [],
      "metadata": {
        "id": "3AUFvV7Tn91U"
      },
      "execution_count": null,
      "outputs": []
    }
  ]
}