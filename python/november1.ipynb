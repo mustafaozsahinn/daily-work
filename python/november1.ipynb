{
  "nbformat": 4,
  "nbformat_minor": 0,
  "metadata": {
    "colab": {
      "provenance": [],
      "collapsed_sections": [],
      "authorship_tag": "ABX9TyNRvQr0t8xgSWj06qT/bZPI",
      "include_colab_link": true
    },
    "kernelspec": {
      "name": "python3",
      "display_name": "Python 3"
    },
    "language_info": {
      "name": "python"
    }
  },
  "cells": [
    {
      "cell_type": "markdown",
      "metadata": {
        "id": "view-in-github",
        "colab_type": "text"
      },
      "source": [
        "<a href=\"https://colab.research.google.com/github/mustafaozsahinn/daily-work/blob/main/november1.ipynb\" target=\"_parent\"><img src=\"https://colab.research.google.com/assets/colab-badge.svg\" alt=\"Open In Colab\"/></a>"
      ]
    },
    {
      "cell_type": "markdown",
      "source": [
        "2. What is the proper way to write a list comprehension that represents all the keys in this dictionary in Python?\n",
        "\n",
        "fruits = {'Apples': 5, 'Oranges': 3, 'Bananas': 4}\n",
        "A. fruit_names = [x in fruits.keys() for x]\n",
        "B. fruit_names = for x in fruits.keys()\n",
        "C. fruit_names = [x for x in fruits.keys()]\n",
        "D. fruit_names = x for x in fruits.keys()"
      ],
      "metadata": {
        "id": "Svk5Tvqrg7Oc"
      }
    },
    {
      "cell_type": "code",
      "execution_count": 9,
      "metadata": {
        "colab": {
          "base_uri": "https://localhost:8080/"
        },
        "id": "CAivWmJRgIbH",
        "outputId": "a6dcfa02-da34-4337-b899-b0bc1027d920"
      },
      "outputs": [
        {
          "output_type": "stream",
          "name": "stdout",
          "text": [
            "['Apples', 'Oranges', 'Bananas']\n"
          ]
        }
      ],
      "source": [
        "fruits = {'Apples': 5, 'Oranges': 3, 'Bananas': 4}\n",
        "fruit_names = [x for x in fruits.keys()] # comprehension tek satırda for döngüsünü verir.\n",
        "print(fruit_names)"
      ]
    },
    {
      "cell_type": "code",
      "source": [
        "i = 5\n",
        "while True:\n",
        "    if i%0xe == 0:\n",
        "        break\n",
        "    print(i)\n",
        "    i += 1"
      ],
      "metadata": {
        "colab": {
          "base_uri": "https://localhost:8080/"
        },
        "id": "7CYionMcgJGb",
        "outputId": "d4455372-0bf6-4cd0-fcdd-7ba63b797355"
      },
      "execution_count": 10,
      "outputs": [
        {
          "output_type": "stream",
          "name": "stdout",
          "text": [
            "5\n",
            "6\n",
            "7\n",
            "8\n",
            "9\n",
            "10\n",
            "11\n",
            "12\n",
            "13\n"
          ]
        }
      ]
    },
    {
      "cell_type": "code",
      "source": [
        "x = 'abcd'\n",
        "for i in range(len(x)):\n",
        "    x[i]\n",
        "print (x.upper())"
      ],
      "metadata": {
        "colab": {
          "base_uri": "https://localhost:8080/"
        },
        "id": "DZ5zm43lgVAU",
        "outputId": "cdae3fe1-100a-46ef-a587-05f26df5b820"
      },
      "execution_count": 21,
      "outputs": [
        {
          "output_type": "stream",
          "name": "stdout",
          "text": [
            "ABCD\n"
          ]
        }
      ]
    },
    {
      "cell_type": "code",
      "source": [
        "a=[1,2,3,4]\n",
        "b=[sum(a[0:x+1]) for x in range(0,len(a))]\n",
        "print(b)"
      ],
      "metadata": {
        "colab": {
          "base_uri": "https://localhost:8080/"
        },
        "id": "x5S2US35i06c",
        "outputId": "14d1111c-bdae-4059-d022-8606f4cfb3a3"
      },
      "execution_count": 22,
      "outputs": [
        {
          "output_type": "stream",
          "name": "stdout",
          "text": [
            "[1, 3, 6, 10]\n"
          ]
        }
      ]
    },
    {
      "cell_type": "code",
      "source": [
        "for x in list('pqr'):\n",
        "\tprint(x*2, sep = \"-\", end = \"\") # sep ayırmıyor çünkü ???"
      ],
      "metadata": {
        "colab": {
          "base_uri": "https://localhost:8080/"
        },
        "id": "3iKjQgt7rLUp",
        "outputId": "f0bdbb66-3164-47ad-99e8-17c66cc8ce6d"
      },
      "execution_count": 29,
      "outputs": [
        {
          "output_type": "stream",
          "name": "stdout",
          "text": [
            "ppqqrr"
          ]
        }
      ]
    },
    {
      "cell_type": "code",
      "source": [
        "count = 0\n",
        "my_string = \"Clarusway\"\n",
        "my_char = \"a\"\n",
        "for i in my_string:\n",
        "    if i == my_char:\n",
        "        count += 1\n",
        "print(count)"
      ],
      "metadata": {
        "colab": {
          "base_uri": "https://localhost:8080/"
        },
        "id": "YxIos7hErWnQ",
        "outputId": "0d374c50-9eb0-464d-bbb7-5f7faae4d478"
      },
      "execution_count": 30,
      "outputs": [
        {
          "output_type": "stream",
          "name": "stdout",
          "text": [
            "2\n"
          ]
        }
      ]
    },
    {
      "cell_type": "code",
      "source": [
        "num = 1023\n",
        "reversed_num = 0\n",
        "\n",
        "while num != 0:\n",
        "    digit = num % 10\n",
        "    reversed_num = reversed_num * 10 + digit\n",
        "    num //= 10\n",
        "\n",
        "print(reversed_num)"
      ],
      "metadata": {
        "colab": {
          "base_uri": "https://localhost:8080/"
        },
        "id": "1OpclybPsSsy",
        "outputId": "7355023e-c449-4e25-dc86-1fea67652ffe"
      },
      "execution_count": 32,
      "outputs": [
        {
          "output_type": "stream",
          "name": "stdout",
          "text": [
            "3201\n"
          ]
        }
      ]
    },
    {
      "cell_type": "code",
      "source": [
        "# continue işlem yapmadan döngüye devam ediyor. \n",
        "# pass de benzer şey yapıyor."
      ],
      "metadata": {
        "id": "IDfyENP4srbK"
      },
      "execution_count": null,
      "outputs": []
    }
  ]
}