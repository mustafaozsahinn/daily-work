{
  "nbformat": 4,
  "nbformat_minor": 0,
  "metadata": {
    "colab": {
      "provenance": [],
      "collapsed_sections": [],
      "authorship_tag": "ABX9TyP+tzDBxNpxLgV1LuCuwiVL",
      "include_colab_link": true
    },
    "kernelspec": {
      "name": "python3",
      "display_name": "Python 3"
    },
    "language_info": {
      "name": "python"
    }
  },
  "cells": [
    {
      "cell_type": "markdown",
      "metadata": {
        "id": "view-in-github",
        "colab_type": "text"
      },
      "source": [
        "<a href=\"https://colab.research.google.com/github/mustafaozsahinn/daily-work/blob/main/november9.ipynb\" target=\"_parent\"><img src=\"https://colab.research.google.com/assets/colab-badge.svg\" alt=\"Open In Colab\"/></a>"
      ]
    },
    {
      "cell_type": "code",
      "execution_count": 1,
      "metadata": {
        "id": "5FPJc47ZVvbi"
      },
      "outputs": [],
      "source": [
        "finder = lambda x : \"odd\" if x % 2 != 0 else \"even\""
      ]
    },
    {
      "cell_type": "code",
      "source": [
        "finder(5)"
      ],
      "metadata": {
        "colab": {
          "base_uri": "https://localhost:8080/",
          "height": 35
        },
        "id": "lyc7aAqVXR1E",
        "outputId": "fb265fa7-b354-466d-95f6-071950b01644"
      },
      "execution_count": 2,
      "outputs": [
        {
          "output_type": "execute_result",
          "data": {
            "text/plain": [
              "'odd'"
            ],
            "application/vnd.google.colaboratory.intrinsic+json": {
              "type": "string"
            }
          },
          "metadata": {},
          "execution_count": 2
        }
      ]
    },
    {
      "cell_type": "code",
      "source": [
        "(lambda x: x**2)(2) # using with ()"
      ],
      "metadata": {
        "colab": {
          "base_uri": "https://localhost:8080/"
        },
        "id": "LpDdvHTthmGV",
        "outputId": "e59b342e-7a07-4ee5-a475-54423ce3243d"
      },
      "execution_count": 30,
      "outputs": [
        {
          "output_type": "execute_result",
          "data": {
            "text/plain": [
              "4"
            ]
          },
          "metadata": {},
          "execution_count": 30
        }
      ]
    },
    {
      "cell_type": "code",
      "source": [
        "print((lambda x, y: (x + y)*2)(3,5))\n",
        "print((lambda x, y: (x+y)/2)(3, 5))"
      ],
      "metadata": {
        "colab": {
          "base_uri": "https://localhost:8080/"
        },
        "id": "Nn7JJajyhwKC",
        "outputId": "31ac0d26-154c-4c3a-afdf-7473dab9c41c"
      },
      "execution_count": 32,
      "outputs": [
        {
          "output_type": "stream",
          "name": "stdout",
          "text": [
            "16\n",
            "4.0\n"
          ]
        }
      ]
    },
    {
      "cell_type": "code",
      "source": [
        "average = lambda x, y: (x+y)/2   # assing as a value \n",
        "print(average(3, 5))             # we call"
      ],
      "metadata": {
        "colab": {
          "base_uri": "https://localhost:8080/"
        },
        "id": "qtjGrFNBiBxX",
        "outputId": "27a133e6-3c28-472a-c694-5c83d3c404ba"
      },
      "execution_count": 33,
      "outputs": [
        {
          "output_type": "stream",
          "name": "stdout",
          "text": [
            "4.0\n"
          ]
        }
      ]
    },
    {
      "cell_type": "code",
      "source": [
        "echo_word = lambda x, y: x * y\n",
        "print(echo_word(\"hello\", 3))"
      ],
      "metadata": {
        "colab": {
          "base_uri": "https://localhost:8080/"
        },
        "id": "d3aoxr1Pi0IQ",
        "outputId": "ebea67a3-dda4-4fc9-a022-c42e3c08b574"
      },
      "execution_count": 35,
      "outputs": [
        {
          "output_type": "stream",
          "name": "stdout",
          "text": [
            "hellohellohello\n"
          ]
        }
      ]
    },
    {
      "cell_type": "markdown",
      "source": [
        "# map"
      ],
      "metadata": {
        "id": "JQAHNSnYlONU"
      }
    },
    {
      "cell_type": "code",
      "source": [
        "vocabs = [\"alice\", \"brain\", \"kai\"]\n",
        "map(len, vocabs)\n",
        "type(map(len, vocabs))"
      ],
      "metadata": {
        "colab": {
          "base_uri": "https://localhost:8080/"
        },
        "id": "rRNgM-UVXS9I",
        "outputId": "4e48f4bd-a595-4b5f-9cdb-21d39c26e8ae"
      },
      "execution_count": 7,
      "outputs": [
        {
          "output_type": "execute_result",
          "data": {
            "text/plain": [
              "map"
            ]
          },
          "metadata": {},
          "execution_count": 7
        }
      ]
    },
    {
      "cell_type": "code",
      "source": [
        "list(map(len, vocabs))"
      ],
      "metadata": {
        "colab": {
          "base_uri": "https://localhost:8080/"
        },
        "id": "fJxy4EyvX43y",
        "outputId": "06d22cfa-c764-45bf-c211-30ae5bf3dd9c"
      },
      "execution_count": 6,
      "outputs": [
        {
          "output_type": "execute_result",
          "data": {
            "text/plain": [
              "[5, 5, 3]"
            ]
          },
          "metadata": {},
          "execution_count": 6
        }
      ]
    },
    {
      "cell_type": "code",
      "source": [
        "lenght = []\n",
        "\n",
        "for i in vocabs:\n",
        "  lenght.append(len(i))\n",
        "\n",
        "print(lenght)"
      ],
      "metadata": {
        "colab": {
          "base_uri": "https://localhost:8080/"
        },
        "id": "r7hbK-LHX-GF",
        "outputId": "d6e3b3c8-84ea-49e3-9903-48d060e1ab08"
      },
      "execution_count": 8,
      "outputs": [
        {
          "output_type": "stream",
          "name": "stdout",
          "text": [
            "[5, 5, 3]\n"
          ]
        }
      ]
    },
    {
      "cell_type": "code",
      "source": [
        "my_function = lambda x : x ** 2\n",
        "iterables = [1, 2, 3, 4, 5]\n",
        "result = map(my_function, iterables)\n",
        "print(result)\n",
        "print(* result)\n",
        "print(map(my_function, iterables))\n",
        "print(* map(my_function, iterables))"
      ],
      "metadata": {
        "colab": {
          "base_uri": "https://localhost:8080/"
        },
        "id": "F4ffQAtiZV5o",
        "outputId": "3a5aab47-4946-4edd-d750-c40a8e097f1f"
      },
      "execution_count": 13,
      "outputs": [
        {
          "output_type": "stream",
          "name": "stdout",
          "text": [
            "<map object at 0x7f23abdc0d50>\n",
            "1 4 9 16 25\n",
            "<map object at 0x7f23abd87fd0>\n",
            "1 4 9 16 25\n"
          ]
        }
      ]
    },
    {
      "cell_type": "code",
      "source": [
        "def square(x):\n",
        "  return x ** 2\n",
        "\n",
        "list(map(square, iterables))"
      ],
      "metadata": {
        "colab": {
          "base_uri": "https://localhost:8080/"
        },
        "id": "IXJ5AgCZZp0Z",
        "outputId": "ed158007-d349-446f-c8f4-845bb2a7d14b"
      },
      "execution_count": 20,
      "outputs": [
        {
          "output_type": "execute_result",
          "data": {
            "text/plain": [
              "[1, 4, 9, 16, 25]"
            ]
          },
          "metadata": {},
          "execution_count": 20
        }
      ]
    },
    {
      "cell_type": "code",
      "source": [
        "summ = lambda x, y, z : x + y + z\n",
        "summ(\"a\", \"l\", \"i\")"
      ],
      "metadata": {
        "colab": {
          "base_uri": "https://localhost:8080/",
          "height": 35
        },
        "id": "BlwXdFggaov7",
        "outputId": "d31b581c-35cb-49c3-b9e3-8915eafbdc8b"
      },
      "execution_count": 21,
      "outputs": [
        {
          "output_type": "execute_result",
          "data": {
            "text/plain": [
              "'ali'"
            ],
            "application/vnd.google.colaboratory.intrinsic+json": {
              "type": "string"
            }
          },
          "metadata": {},
          "execution_count": 21
        }
      ]
    },
    {
      "cell_type": "code",
      "source": [
        "letter1 = [\"o\", \"s\", \"t\", \"t\"]\n",
        "letter2 = [\"n\", \"i\", \"e\", \"w\"]\n",
        "letter3 = [\"e\", \"x\", \"n\", \"o\"]\n",
        "numbers = map(lambda x, y, z: x + y + z, letter1, letter2, letter3)\n",
        "\n",
        "print(list(numbers))"
      ],
      "metadata": {
        "colab": {
          "base_uri": "https://localhost:8080/"
        },
        "id": "CEfL3KlzcNZa",
        "outputId": "838bf8dd-820b-499e-a6f7-efeadba61e7f"
      },
      "execution_count": 22,
      "outputs": [
        {
          "output_type": "stream",
          "name": "stdout",
          "text": [
            "['one', 'six', 'ten', 'two']\n"
          ]
        }
      ]
    },
    {
      "cell_type": "code",
      "source": [
        "num1 = [9, 6, 7, 4]\n",
        "num2 = [3, 6, 5, 8]\n",
        "\n",
        "func = lambda x, y: (x + y) / 2\n",
        "print(list(map(func, num1, num2)))"
      ],
      "metadata": {
        "colab": {
          "base_uri": "https://localhost:8080/"
        },
        "id": "HBtGSqvpdC9F",
        "outputId": "b1616ca9-993d-46fd-9b14-6af592c2f3c2"
      },
      "execution_count": 26,
      "outputs": [
        {
          "output_type": "stream",
          "name": "stdout",
          "text": [
            "[6.0, 6.0, 6.0, 6.0]\n"
          ]
        }
      ]
    },
    {
      "cell_type": "code",
      "source": [
        "words1 = [\"you\", \"much\", \"hard\"]\n",
        "words2 = [\"i\", \"you\", \"he\"]\n",
        "words3 = [\"love\", \"ate\", \"works\"]\n",
        "\n",
        "print(list(map(lambda x, y, z : x + \" \" + y + \" \" + z, words2, words3, words1)))"
      ],
      "metadata": {
        "colab": {
          "base_uri": "https://localhost:8080/"
        },
        "id": "fycrqn_ieqaa",
        "outputId": "7f67b4e2-da22-4933-f259-65af98fe4664"
      },
      "execution_count": 29,
      "outputs": [
        {
          "output_type": "stream",
          "name": "stdout",
          "text": [
            "['i love you', 'you ate much', 'he works hard']\n"
          ]
        }
      ]
    },
    {
      "cell_type": "markdown",
      "source": [
        "# filter"
      ],
      "metadata": {
        "id": "5f623LXwlTln"
      }
    },
    {
      "cell_type": "code",
      "source": [
        "first_ten = [0, 1, 2, 3, 4, 5, 6, 7, 8, 9] \n",
        "  \n",
        "even = filter(lambda x:x%2==0, first_ten) \n",
        "print(type(even))  # it's 'filter' type, \n",
        "                   # in order to print the result,\n",
        "                   # we'd better convert it into the list type\n",
        "odd = filter(lambda x: x%2, first_ten) # x%2 tek sayılar için 1 verir, bu da True demek \n",
        "print('Odd numbers are :', list(odd))\n",
        "print('Even numbers are :', list(even))"
      ],
      "metadata": {
        "colab": {
          "base_uri": "https://localhost:8080/"
        },
        "id": "bAv3dgbHfYQs",
        "outputId": "355dd933-496f-464d-9ba8-0f666de6948a"
      },
      "execution_count": 43,
      "outputs": [
        {
          "output_type": "stream",
          "name": "stdout",
          "text": [
            "<class 'filter'>\n",
            "Odd numbers are : [1, 3, 5, 7, 9]\n",
            "Even numbers are : [0, 2, 4, 6, 8]\n"
          ]
        }
      ]
    },
    {
      "cell_type": "code",
      "source": [
        "# 5 haften kısa olan fruits listeler\n",
        "\n",
        "words = [\"apple\", \"swim\", \"clock\", \"me\", \"kiwi\", \"banana\"]\n",
        "\n",
        "print(list(filter(lambda x: len(x) < 5, words)))\n"
      ],
      "metadata": {
        "colab": {
          "base_uri": "https://localhost:8080/"
        },
        "id": "CpjaSbYfomQm",
        "outputId": "5e8225bf-401d-49ad-c271-1dd030e66142"
      },
      "execution_count": 52,
      "outputs": [
        {
          "output_type": "stream",
          "name": "stdout",
          "text": [
            "['swim', 'me', 'kiwi']\n"
          ]
        }
      ]
    },
    {
      "cell_type": "code",
      "source": [
        "letter1 = \"a b c\".split()\n",
        "letter2 = \"x y z\".split()\n",
        "\n",
        "zipped_map = map(zip, letter1, letter2) # bunu doğrudan yazdırırsak zipped note çıkar\n",
        "\n",
        "for i in zipped_map:   # for i in ile yaptığımızda da yine zipli çıkar\n",
        "  for j in i:\n",
        "    print(j, end = \" \") "
      ],
      "metadata": {
        "colab": {
          "base_uri": "https://localhost:8080/"
        },
        "id": "G1XVxO8grain",
        "outputId": "79aa844a-0c67-41c0-e559-13602da53cf3"
      },
      "execution_count": 59,
      "outputs": [
        {
          "output_type": "stream",
          "name": "stdout",
          "text": [
            "('a', 'x') ('b', 'y') ('c', 'z') "
          ]
        }
      ]
    },
    {
      "cell_type": "code",
      "source": [
        "list(zip(letter1[1], letter2[0]))"
      ],
      "metadata": {
        "colab": {
          "base_uri": "https://localhost:8080/"
        },
        "id": "KKJYFhxFsgfZ",
        "outputId": "c06a6d7b-241b-40ef-f9bc-59cf0910f97b"
      },
      "execution_count": 60,
      "outputs": [
        {
          "output_type": "execute_result",
          "data": {
            "text/plain": [
              "[('b', 'x')]"
            ]
          },
          "metadata": {},
          "execution_count": 60
        }
      ]
    },
    {
      "cell_type": "code",
      "source": [
        "vowel_list = ['a', 'e', 'i', 'o', 'u']\n",
        "first_ten_letter = ['a', 'b', 'c', 'd', 'e', 'f', 'g', 'h', 'i', 'j']\n",
        "  \n",
        "     # vovel_list içinde mi diye bakıyoruz, nerede ? first_ten_letter içinde\n",
        "vowels = filter(lambda x: True if x in vowel_list else False, first_ten_letter)\n",
        "                                   \n",
        "print('Vowels are :', list(vowels)) "
      ],
      "metadata": {
        "colab": {
          "base_uri": "https://localhost:8080/"
        },
        "id": "kcakK1FXlVn3",
        "outputId": "e5c741a1-e64f-42f0-a7c1-701141046a22"
      },
      "execution_count": 42,
      "outputs": [
        {
          "output_type": "stream",
          "name": "stdout",
          "text": [
            "Vowels are : ['a', 'e', 'i']\n"
          ]
        }
      ]
    },
    {
      "cell_type": "code",
      "source": [
        "vowel_list = ['a', 'e', 'i', 'o', 'u']\n",
        "first_ten_letter = ['a', 'b', 'c', 'd', 'e', 'f', 'g', 'h', 'i', 'j']\n",
        "\n",
        "vowels2 = filter(lambda x: x in vowel_list, first_ten_letter)\n",
        "print(list(vowels2))"
      ],
      "metadata": {
        "colab": {
          "base_uri": "https://localhost:8080/"
        },
        "id": "HXwKzuEMmG0y",
        "outputId": "e1b0a31f-4091-4d9b-dfd3-cc267bac6e27"
      },
      "execution_count": 64,
      "outputs": [
        {
          "output_type": "stream",
          "name": "stdout",
          "text": [
            "['a', 'e', 'i']\n"
          ]
        }
      ]
    },
    {
      "cell_type": "markdown",
      "source": [
        "# user-defined function"
      ],
      "metadata": {
        "id": "MkCjeUtnzIVT"
      }
    },
    {
      "cell_type": "code",
      "source": [
        "def modular_function(n):\n",
        "    return lambda x: x ** n\n",
        "    \n",
        "power_of_2 = modular_function(2)  # first sub-function derived from def\n",
        "power_of_3 = modular_function(3)  # second sub-function derived from def\n",
        "power_of_4 = modular_function(4)  # third sub-function derived from def\n",
        "\n",
        "print(power_of_2(2))  # 2 to the power of 2\n",
        "print(power_of_3(2))  # 2 to the power of 3\n",
        "print(power_of_4(3))  # 3 to the power of 4"
      ],
      "metadata": {
        "colab": {
          "base_uri": "https://localhost:8080/"
        },
        "id": "ScediTALoKJ7",
        "outputId": "0a4972d0-40b5-4b54-991e-1a35e2cfd2db"
      },
      "execution_count": 71,
      "outputs": [
        {
          "output_type": "stream",
          "name": "stdout",
          "text": [
            "4\n",
            "8\n",
            "81\n"
          ]
        }
      ]
    },
    {
      "cell_type": "code",
      "source": [
        "def repeater(n):\n",
        "    return lambda x: x * n\n",
        "    \n",
        "repeat_2_times = repeater(2)  # repeats 2 times\n",
        "repeat_3_times = repeater(3)  # repeats 3 times\n",
        "repeat_4_times = repeater(4)  # repeats 4 times\n",
        "\n",
        "print(repeat_2_times('ali '))\n",
        "print(repeat_3_times('deli '))\n",
        "print(repeat_4_times('veli '))"
      ],
      "metadata": {
        "colab": {
          "base_uri": "https://localhost:8080/"
        },
        "id": "oU0cBtcazRLG",
        "outputId": "6f5e2d66-12f1-44be-d0a4-b430e7aace43"
      },
      "execution_count": 72,
      "outputs": [
        {
          "output_type": "stream",
          "name": "stdout",
          "text": [
            "ali ali \n",
            "deli deli deli \n",
            "veli veli veli veli \n"
          ]
        }
      ]
    },
    {
      "cell_type": "code",
      "source": [
        "def face(n):\n",
        "  return lambda x: x + n\n",
        "\n",
        "myPrint_smile = face(\" :)\")\n",
        "myPrint_sad = face(\" :(\")\n",
        "myPrint_neutral = face(\" :I\")\n",
        "\n",
        "print(myPrint_smile(\"heyyy\"))\n",
        "print(myPrint_sad(\"hi\"))\n",
        "print(myPrint_neutral(\"hello\"))"
      ],
      "metadata": {
        "colab": {
          "base_uri": "https://localhost:8080/"
        },
        "id": "gExLJoHtz5cj",
        "outputId": "cba174c5-3db9-4ad5-9d9a-1563b652ce5d"
      },
      "execution_count": 78,
      "outputs": [
        {
          "output_type": "stream",
          "name": "stdout",
          "text": [
            "heyyy :)\n",
            "hi :(\n",
            "hello :I\n"
          ]
        }
      ]
    },
    {
      "cell_type": "markdown",
      "source": [
        "# my own function isprime()"
      ],
      "metadata": {
        "id": "-OgHIVYf9plJ"
      }
    },
    {
      "cell_type": "code",
      "source": [
        "prime_numbers = [2, 3, 5, 7, 11, 13, 17, 19, 23, 29, 31, 37, 41, 53, 61]\n",
        "\n",
        "def isprime(x):\n",
        "  return x in prime_numbers\n",
        "\n",
        "isprime(6)"
      ],
      "metadata": {
        "colab": {
          "base_uri": "https://localhost:8080/"
        },
        "id": "4zzNhAuv510n",
        "outputId": "2e33670d-6a67-4081-8a73-9ed43ad36d75"
      },
      "execution_count": 88,
      "outputs": [
        {
          "output_type": "execute_result",
          "data": {
            "text/plain": [
              "False"
            ]
          },
          "metadata": {},
          "execution_count": 88
        }
      ]
    },
    {
      "cell_type": "markdown",
      "source": [
        "extra example"
      ],
      "metadata": {
        "id": "4yh7kyFn9mqb"
      }
    },
    {
      "cell_type": "code",
      "source": [
        "def x():\n",
        "  return 1, 2, 3, 4\n",
        "\n",
        "a, b, c, d = x()\n",
        "a"
      ],
      "metadata": {
        "colab": {
          "base_uri": "https://localhost:8080/"
        },
        "id": "EqynUxSJ6Xor",
        "outputId": "b3466551-f954-4aec-e331-5797bc764850"
      },
      "execution_count": 89,
      "outputs": [
        {
          "output_type": "execute_result",
          "data": {
            "text/plain": [
              "1"
            ]
          },
          "metadata": {},
          "execution_count": 89
        }
      ]
    },
    {
      "cell_type": "code",
      "source": [
        "num = [1, 1, 1, 4, 5, 5]\n",
        "# en çok tekrar eden hangisi\n",
        "number = max(num, key=num.count)\n",
        "# kaç kez tekrar etmiş\n",
        "count = num.count(max(num, key= num.count))"
      ],
      "metadata": {
        "id": "c7VFx5IN9iPo"
      },
      "execution_count": 94,
      "outputs": []
    },
    {
      "cell_type": "code",
      "source": [
        "def equal(a, b, c):\n",
        "  num = [a, b, c]\n",
        "  result = num.count(max(num, key= num.count))\n",
        "  print(result) if result > 1 else print(0)"
      ],
      "metadata": {
        "id": "nGEY5Bnc-Ibi"
      },
      "execution_count": 108,
      "outputs": []
    },
    {
      "cell_type": "code",
      "source": [
        "equal(1, 1, 4)"
      ],
      "metadata": {
        "colab": {
          "base_uri": "https://localhost:8080/"
        },
        "id": "O18oCyIl-P__",
        "outputId": "12edc89b-9d92-47a5-d084-2e6ecfe25aa5"
      },
      "execution_count": 110,
      "outputs": [
        {
          "output_type": "stream",
          "name": "stdout",
          "text": [
            "2\n"
          ]
        }
      ]
    }
  ]
}