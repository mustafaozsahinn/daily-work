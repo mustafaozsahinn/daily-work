{
  "nbformat": 4,
  "nbformat_minor": 0,
  "metadata": {
    "colab": {
      "provenance": [],
      "collapsed_sections": [],
      "authorship_tag": "ABX9TyM3w4VvnnIpi/BWmayw9MGL",
      "include_colab_link": true
    },
    "kernelspec": {
      "name": "python3",
      "display_name": "Python 3"
    },
    "language_info": {
      "name": "python"
    }
  },
  "cells": [
    {
      "cell_type": "markdown",
      "metadata": {
        "id": "view-in-github",
        "colab_type": "text"
      },
      "source": [
        "<a href=\"https://colab.research.google.com/github/mustafaozsahinn/daily-work/blob/main/october_22.ipynb\" target=\"_parent\"><img src=\"https://colab.research.google.com/assets/colab-badge.svg\" alt=\"Open In Colab\"/></a>"
      ]
    },
    {
      "cell_type": "code",
      "execution_count": 1,
      "metadata": {
        "colab": {
          "base_uri": "https://localhost:8080/"
        },
        "id": "oFR-ci7RuOkC",
        "outputId": "c6f4afc7-018b-4a49-8233-d59d6b557097"
      },
      "outputs": [
        {
          "output_type": "stream",
          "name": "stdout",
          "text": [
            "<class 'list'> [1, 2, 3]\n"
          ]
        }
      ],
      "source": [
        "# list ve tuple arasında geçiş yapılabilir\n",
        "my_tuple = (1, 2, 3)\n",
        "my_list = list(my_tuple)\n",
        "print(type(my_list), my_list)"
      ]
    },
    {
      "cell_type": "code",
      "source": [
        "my_list = tuple(my_list)\n",
        "print(type(my_list), my_list)"
      ],
      "metadata": {
        "colab": {
          "base_uri": "https://localhost:8080/"
        },
        "id": "lKFlS6unv0YH",
        "outputId": "b4ec1c1d-0cec-4d92-a51d-63d7a66043da"
      },
      "execution_count": 2,
      "outputs": [
        {
          "output_type": "stream",
          "name": "stdout",
          "text": [
            "<class 'tuple'> (1, 2, 3)\n"
          ]
        }
      ]
    },
    {
      "cell_type": "code",
      "source": [
        "# tuple içindeki str itreable olduğu için itere edebiliriz\n",
        "mountain = tuple (\"Alps\")\n",
        "print(mountain)"
      ],
      "metadata": {
        "colab": {
          "base_uri": "https://localhost:8080/"
        },
        "id": "2rA-awXCwIwP",
        "outputId": "4b5a8c6a-efa2-45ae-c7da-aae9d49a1c53"
      },
      "execution_count": 3,
      "outputs": [
        {
          "output_type": "stream",
          "name": "stdout",
          "text": [
            "('A', 'l', 'p', 's')\n"
          ]
        }
      ]
    },
    {
      "cell_type": "code",
      "source": [
        "# value olarak yazıldığında tuple için () gerekmez.\n",
        "tuple_1 = \"h\", \"a\", \"p\", \"p\", \"y\"\n",
        "tuple_2 = 1, 3, 5\n",
        "print(type(tuple_1), type(tuple_2), tuple_1, tuple_2)"
      ],
      "metadata": {
        "colab": {
          "base_uri": "https://localhost:8080/"
        },
        "id": "50dsrI-KwmKA",
        "outputId": "94ea513d-3337-4a19-a480-78b2645fb5ed"
      },
      "execution_count": 4,
      "outputs": [
        {
          "output_type": "stream",
          "name": "stdout",
          "text": [
            "<class 'tuple'> <class 'tuple'> ('h', 'a', 'p', 'p', 'y') (1, 3, 5)\n"
          ]
        }
      ]
    },
    {
      "cell_type": "code",
      "source": [
        "#tek str tuple olmaz ama yanına , konulması tuple yapar\n",
        "tuple_x = \"david\"\n",
        "tuple_y = \"david\",\n",
        "print(tuple_x)\n",
        "print(tuple_y)"
      ],
      "metadata": {
        "colab": {
          "base_uri": "https://localhost:8080/"
        },
        "id": "HsU59mfKxZHW",
        "outputId": "295a674f-c646-4523-e299-50c4b6790716"
      },
      "execution_count": 5,
      "outputs": [
        {
          "output_type": "stream",
          "name": "stdout",
          "text": [
            "david\n",
            "('david',)\n"
          ]
        }
      ]
    },
    {
      "cell_type": "code",
      "source": [
        "a = range(1,11)\n",
        "print(a)\n",
        "print(list(a))\n",
        "print(*a)  # * ile range aralığındaki nesneleri görebiliriz"
      ],
      "metadata": {
        "colab": {
          "base_uri": "https://localhost:8080/"
        },
        "id": "uF3aNchRydkl",
        "outputId": "4dbc3deb-24a4-4622-d75a-dd2c203e5b17"
      },
      "execution_count": 6,
      "outputs": [
        {
          "output_type": "stream",
          "name": "stdout",
          "text": [
            "range(1, 11)\n",
            "[1, 2, 3, 4, 5, 6, 7, 8, 9, 10]\n",
            "1 2 3 4 5 6 7 8 9 10\n"
          ]
        }
      ]
    },
    {
      "cell_type": "code",
      "source": [
        "b = range(1,11)\n",
        "b = list(b)"
      ],
      "metadata": {
        "id": "tSYhNvzn0Rsa"
      },
      "execution_count": 7,
      "outputs": []
    },
    {
      "cell_type": "code",
      "source": [
        "b[-1] = \"ten\" # son elemanı değiştirmek için assign etmek istedik\n",
        "print(b)"
      ],
      "metadata": {
        "colab": {
          "base_uri": "https://localhost:8080/"
        },
        "id": "Y89uHUHM2b4L",
        "outputId": "da4bf17c-3402-461a-a931-91155c6d27b9"
      },
      "execution_count": 8,
      "outputs": [
        {
          "output_type": "stream",
          "name": "stdout",
          "text": [
            "[1, 2, 3, 4, 5, 6, 7, 8, 9, 'ten']\n"
          ]
        }
      ]
    },
    {
      "cell_type": "code",
      "source": [
        "sayılar = 1, 2, 3, 4\n",
        "sayılar[2] = \"tree\" # tuple içindekileri değiştiremeyiz. -şimdilik"
      ],
      "metadata": {
        "colab": {
          "base_uri": "https://localhost:8080/",
          "height": 187
        },
        "id": "iLTjMVcS2Lfq",
        "outputId": "a6562f01-0eb7-48cc-f147-4b60934f67bf"
      },
      "execution_count": 9,
      "outputs": [
        {
          "output_type": "error",
          "ename": "TypeError",
          "evalue": "ignored",
          "traceback": [
            "\u001b[0;31m---------------------------------------------------------------------------\u001b[0m",
            "\u001b[0;31mTypeError\u001b[0m                                 Traceback (most recent call last)",
            "\u001b[0;32m<ipython-input-9-5d49b9aa3255>\u001b[0m in \u001b[0;36m<module>\u001b[0;34m\u001b[0m\n\u001b[1;32m      1\u001b[0m \u001b[0msayılar\u001b[0m \u001b[0;34m=\u001b[0m \u001b[0;36m1\u001b[0m\u001b[0;34m,\u001b[0m \u001b[0;36m2\u001b[0m\u001b[0;34m,\u001b[0m \u001b[0;36m3\u001b[0m\u001b[0;34m,\u001b[0m \u001b[0;36m4\u001b[0m\u001b[0;34m\u001b[0m\u001b[0;34m\u001b[0m\u001b[0m\n\u001b[0;32m----> 2\u001b[0;31m \u001b[0msayılar\u001b[0m\u001b[0;34m[\u001b[0m\u001b[0;36m2\u001b[0m\u001b[0;34m]\u001b[0m \u001b[0;34m=\u001b[0m \u001b[0;34m\"tree\"\u001b[0m \u001b[0;31m# tuple içindekileri değiştiremeyiz. -şimdilik\u001b[0m\u001b[0;34m\u001b[0m\u001b[0;34m\u001b[0m\u001b[0m\n\u001b[0m",
            "\u001b[0;31mTypeError\u001b[0m: 'tuple' object does not support item assignment"
          ]
        }
      ]
    },
    {
      "cell_type": "code",
      "source": [
        "mix_tuple = (\"11\", 11, [2, \"two\", (\"six\", 6)], (5, \"fair\")) \n",
        "new_list = list(mix_tuple[2][2])\n",
        "print(new_list[0])"
      ],
      "metadata": {
        "colab": {
          "base_uri": "https://localhost:8080/"
        },
        "id": "HWJqvg6g3P9D",
        "outputId": "05ab0964-14ee-4943-99b7-5930a6f82d87"
      },
      "execution_count": 10,
      "outputs": [
        {
          "output_type": "stream",
          "name": "stdout",
          "text": [
            "six\n"
          ]
        }
      ]
    },
    {
      "cell_type": "code",
      "source": [
        "mix_tuple = (\"11\", 11, [2, \"two\", (\"six\", 6)], (5, \"fair\")) \n",
        "str_six = mix_tuple[2][1:3]\n",
        "print(str_six, type(str_six), sep = \"\\n\")"
      ],
      "metadata": {
        "colab": {
          "base_uri": "https://localhost:8080/"
        },
        "id": "Xr-tW4yE3-yA",
        "outputId": "be8ff62d-6df4-4e67-e0ef-1c187dce452d"
      },
      "execution_count": 11,
      "outputs": [
        {
          "output_type": "stream",
          "name": "stdout",
          "text": [
            "['two', ('six', 6)]\n",
            "<class 'list'>\n"
          ]
        }
      ]
    },
    {
      "cell_type": "code",
      "source": [
        "mix_tuple[-1][-1] # tupledan slice yapmak için list e çevirmeye gerek yok."
      ],
      "metadata": {
        "colab": {
          "base_uri": "https://localhost:8080/",
          "height": 35
        },
        "id": "rn6U_yej9-4k",
        "outputId": "5b496a0d-9d9e-4abd-b605-2881781d4bcd"
      },
      "execution_count": 12,
      "outputs": [
        {
          "output_type": "execute_result",
          "data": {
            "text/plain": [
              "'fair'"
            ],
            "application/vnd.google.colaboratory.intrinsic+json": {
              "type": "string"
            }
          },
          "metadata": {},
          "execution_count": 12
        }
      ]
    },
    {
      "cell_type": "markdown",
      "source": [
        "# Dictionaries\n",
        "key and value pairs which are ordered\n",
        "\n",
        "{key1 : value1,\n",
        "\n",
        " key2 : value2}\n",
        "\n",
        "dict()"
      ],
      "metadata": {
        "id": "D3O9CuDg_wNP"
      }
    },
    {
      "cell_type": "code",
      "source": [
        "thisdict = {\n",
        "  \"brand\": \"Ford\",\n",
        "  \"model\": \"Mustang\",\n",
        "  \"year\": 1964,\n",
        "}\n",
        "print(thisdict)  # key:value, şeklinde atama ile pairler çalışıyor"
      ],
      "metadata": {
        "colab": {
          "base_uri": "https://localhost:8080/"
        },
        "id": "oQjsUa7iBM7b",
        "outputId": "5622de26-7a6d-45ca-d671-f91e52f4442f"
      },
      "execution_count": 13,
      "outputs": [
        {
          "output_type": "stream",
          "name": "stdout",
          "text": [
            "{'brand': 'Ford', 'model': 'Mustang', 'year': 1964}\n"
          ]
        }
      ]
    },
    {
      "cell_type": "code",
      "source": [
        "thisdict = dict(brand= \"Ford\", model= \"Mustang\", year= 1964)  # bu şekilde de yazılabilir\n",
        "print(thisdict)"
      ],
      "metadata": {
        "colab": {
          "base_uri": "https://localhost:8080/"
        },
        "id": "ZqQ4YJoPB3fB",
        "outputId": "76f6b8ee-0523-4e45-f80c-566926c88ea1"
      },
      "execution_count": 14,
      "outputs": [
        {
          "output_type": "stream",
          "name": "stdout",
          "text": [
            "{'brand': 'Ford', 'model': 'Mustang', 'year': 1964}\n"
          ]
        }
      ]
    },
    {
      "cell_type": "code",
      "source": [
        "# dictionaries key olark hash edilemez değeri / değiştirilebilir verileri atayamayız\n",
        "# tuple, string, int, float bunlar immutable dır. bunlar key olabilir.\n",
        "second_dict = {[1,2] : \"one\"}"
      ],
      "metadata": {
        "colab": {
          "base_uri": "https://localhost:8080/",
          "height": 204
        },
        "id": "vuuFepgICdY0",
        "outputId": "75f967ac-51f5-487e-9474-25cb00511cdf"
      },
      "execution_count": 15,
      "outputs": [
        {
          "output_type": "error",
          "ename": "TypeError",
          "evalue": "ignored",
          "traceback": [
            "\u001b[0;31m---------------------------------------------------------------------------\u001b[0m",
            "\u001b[0;31mTypeError\u001b[0m                                 Traceback (most recent call last)",
            "\u001b[0;32m<ipython-input-15-6b3d7c12adf7>\u001b[0m in \u001b[0;36m<module>\u001b[0;34m\u001b[0m\n\u001b[1;32m      1\u001b[0m \u001b[0;31m# dictionaries key olark hash edilemez değeri / değiştirilebilir verileri atayamayız\u001b[0m\u001b[0;34m\u001b[0m\u001b[0;34m\u001b[0m\u001b[0;34m\u001b[0m\u001b[0m\n\u001b[1;32m      2\u001b[0m \u001b[0;31m# tuple, string, int, float bunlar immutable dır. bunlar key olabilir.\u001b[0m\u001b[0;34m\u001b[0m\u001b[0;34m\u001b[0m\u001b[0;34m\u001b[0m\u001b[0m\n\u001b[0;32m----> 3\u001b[0;31m \u001b[0msecond_dict\u001b[0m \u001b[0;34m=\u001b[0m \u001b[0;34m{\u001b[0m\u001b[0;34m[\u001b[0m\u001b[0;36m1\u001b[0m\u001b[0;34m,\u001b[0m\u001b[0;36m2\u001b[0m\u001b[0;34m]\u001b[0m \u001b[0;34m:\u001b[0m \u001b[0;34m\"one\"\u001b[0m\u001b[0;34m}\u001b[0m\u001b[0;34m\u001b[0m\u001b[0;34m\u001b[0m\u001b[0m\n\u001b[0m",
            "\u001b[0;31mTypeError\u001b[0m: unhashable type: 'list'"
          ]
        }
      ]
    },
    {
      "cell_type": "code",
      "source": [
        " # 1 = \"one\" çalışmaz çünkü 1 int halindeyken variable olamaz. dict içinde olur.\n",
        "dict = {\"one\" : 1, \"two\" : 2, \"three\" :3}\n",
        "dict"
      ],
      "metadata": {
        "colab": {
          "base_uri": "https://localhost:8080/"
        },
        "id": "822rhr6UEh7B",
        "outputId": "8ba615cf-87b8-4652-dcde-614719f64200"
      },
      "execution_count": 16,
      "outputs": [
        {
          "output_type": "execute_result",
          "data": {
            "text/plain": [
              "{'one': 1, 'two': 2, 'three': 3}"
            ]
          },
          "metadata": {},
          "execution_count": 16
        }
      ]
    },
    {
      "cell_type": "code",
      "source": [
        "dict(isim = \"ali\", isim = \"veli\") # aynı variable iki farklı yere eşitlenemiyor!\n",
        "dict "
      ],
      "metadata": {
        "colab": {
          "base_uri": "https://localhost:8080/",
          "height": 133
        },
        "id": "wS2cjq4HExof",
        "outputId": "d0fd429d-6c4d-4ec3-9d72-ab5b3cb062df"
      },
      "execution_count": 17,
      "outputs": [
        {
          "output_type": "error",
          "ename": "SyntaxError",
          "evalue": "ignored",
          "traceback": [
            "\u001b[0;36m  File \u001b[0;32m\"<ipython-input-17-20172811ace9>\"\u001b[0;36m, line \u001b[0;32m1\u001b[0m\n\u001b[0;31m    dict(isim = \"ali\", isim = \"veli\") # aynı variable iki farklı yere eşitlenemiyor!\u001b[0m\n\u001b[0m                      ^\u001b[0m\n\u001b[0;31mSyntaxError\u001b[0m\u001b[0;31m:\u001b[0m keyword argument repeated\n"
          ]
        }
      ]
    },
    {
      "cell_type": "code",
      "source": [
        "# yeni item ekleme\n",
        "dict = {\"one\" : 1, \"two\" : 2, \"three\" :3}\n",
        "dict[\"four\"] = 4\n",
        "print(dict)"
      ],
      "metadata": {
        "colab": {
          "base_uri": "https://localhost:8080/"
        },
        "id": "VEQN210EHphV",
        "outputId": "59f054ff-f4a1-448e-e79b-e177078be963"
      },
      "execution_count": 18,
      "outputs": [
        {
          "output_type": "stream",
          "name": "stdout",
          "text": [
            "{'one': 1, 'two': 2, 'three': 3, 'four': 4}\n"
          ]
        }
      ]
    },
    {
      "cell_type": "code",
      "source": [
        "# itemi bulma\n",
        "dict[\"one\"]"
      ],
      "metadata": {
        "colab": {
          "base_uri": "https://localhost:8080/"
        },
        "id": "Dqo7sCSpIVah",
        "outputId": "fbc0e4bc-28d3-476d-f2c0-e4f387d0f304"
      },
      "execution_count": 19,
      "outputs": [
        {
          "output_type": "execute_result",
          "data": {
            "text/plain": [
              "1"
            ]
          },
          "metadata": {},
          "execution_count": 19
        }
      ]
    },
    {
      "cell_type": "code",
      "source": [
        "type(dict[\"one\"])"
      ],
      "metadata": {
        "colab": {
          "base_uri": "https://localhost:8080/"
        },
        "id": "Qs6-hmjpIpHm",
        "outputId": "f9fbf059-6988-49ca-977a-bb07c6f0aa6e"
      },
      "execution_count": 20,
      "outputs": [
        {
          "output_type": "execute_result",
          "data": {
            "text/plain": [
              "int"
            ]
          },
          "metadata": {},
          "execution_count": 20
        }
      ]
    },
    {
      "cell_type": "code",
      "source": [
        "dict[\"one\"]*4"
      ],
      "metadata": {
        "colab": {
          "base_uri": "https://localhost:8080/"
        },
        "id": "gWxxoh8AI7jY",
        "outputId": "6ef6d322-d958-45dd-c1f8-eb58f1e989af"
      },
      "execution_count": 21,
      "outputs": [
        {
          "output_type": "execute_result",
          "data": {
            "text/plain": [
              "4"
            ]
          },
          "metadata": {},
          "execution_count": 21
        }
      ]
    },
    {
      "cell_type": "code",
      "source": [
        "family = {\"mom\" : \"anne\", \"dad\" : \"baba\", \"boy\" : \"oğlan\"}\n",
        "print(family)\n",
        "family[\"girl\"] = \"kız\"\n",
        "print(family)"
      ],
      "metadata": {
        "colab": {
          "base_uri": "https://localhost:8080/"
        },
        "id": "1HrtVK7-R_IY",
        "outputId": "af8093a5-7b6a-4b44-9d40-a8fd2e6d3628"
      },
      "execution_count": 22,
      "outputs": [
        {
          "output_type": "stream",
          "name": "stdout",
          "text": [
            "{'mom': 'anne', 'dad': 'baba', 'boy': 'oğlan'}\n",
            "{'mom': 'anne', 'dad': 'baba', 'boy': 'oğlan', 'girl': 'kız'}\n"
          ]
        }
      ]
    },
    {
      "cell_type": "code",
      "source": [
        "family2 = dict(mom = \"mother\", dad = \"father\", boy = \"kid\")\n",
        "print(family2)"
      ],
      "metadata": {
        "colab": {
          "base_uri": "https://localhost:8080/"
        },
        "id": "z-oQKxtQVPut",
        "outputId": "e8697522-4b93-423c-d248-f721b76739de"
      },
      "execution_count": 1,
      "outputs": [
        {
          "output_type": "stream",
          "name": "stdout",
          "text": [
            "{'mom': 'mother', 'dad': 'father', 'boy': 'kid'}\n"
          ]
        }
      ]
    },
    {
      "cell_type": "code",
      "source": [
        "dict(car = \"ford\", model = \"focus\", year = \"2010\")"
      ],
      "metadata": {
        "colab": {
          "base_uri": "https://localhost:8080/"
        },
        "id": "RRCvFtuiV-ap",
        "outputId": "8106209e-4184-463b-ff37-1aff3b6395e8"
      },
      "execution_count": 2,
      "outputs": [
        {
          "output_type": "execute_result",
          "data": {
            "text/plain": [
              "{'car': 'ford', 'model': 'focus', 'year': '2010'}"
            ]
          },
          "metadata": {},
          "execution_count": 2
        }
      ]
    },
    {
      "cell_type": "code",
      "source": [],
      "metadata": {
        "id": "TsZEMMilXRb_"
      },
      "execution_count": null,
      "outputs": []
    }
  ]
}