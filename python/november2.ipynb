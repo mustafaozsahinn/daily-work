{
  "nbformat": 4,
  "nbformat_minor": 0,
  "metadata": {
    "colab": {
      "provenance": [],
      "collapsed_sections": [],
      "authorship_tag": "ABX9TyPVp7fg+3zWamg0xVs0vIy8",
      "include_colab_link": true
    },
    "kernelspec": {
      "name": "python3",
      "display_name": "Python 3"
    },
    "language_info": {
      "name": "python"
    }
  },
  "cells": [
    {
      "cell_type": "markdown",
      "metadata": {
        "id": "view-in-github",
        "colab_type": "text"
      },
      "source": [
        "<a href=\"https://colab.research.google.com/github/mustafaozsahinn/daily-work/blob/main/november2.ipynb\" target=\"_parent\"><img src=\"https://colab.research.google.com/assets/colab-badge.svg\" alt=\"Open In Colab\"/></a>"
      ]
    },
    {
      "cell_type": "markdown",
      "source": [
        "# Tuple unpacking"
      ],
      "metadata": {
        "id": "0fL7YyeRr8Sq"
      }
    },
    {
      "cell_type": "code",
      "execution_count": 1,
      "metadata": {
        "colab": {
          "base_uri": "https://localhost:8080/",
          "height": 169
        },
        "id": "aMhxL0iPZYTE",
        "outputId": "e1228016-ec45-4c15-c0e1-e71f15e4cab9"
      },
      "outputs": [
        {
          "output_type": "error",
          "ename": "ValueError",
          "evalue": "ignored",
          "traceback": [
            "\u001b[0;31m---------------------------------------------------------------------------\u001b[0m",
            "\u001b[0;31mValueError\u001b[0m                                Traceback (most recent call last)",
            "\u001b[0;32m<ipython-input-1-0788392d25ce>\u001b[0m in \u001b[0;36m<module>\u001b[0;34m\u001b[0m\n\u001b[0;32m----> 1\u001b[0;31m \u001b[0ma\u001b[0m\u001b[0;34m,\u001b[0m \u001b[0mb\u001b[0m \u001b[0;34m=\u001b[0m \u001b[0;34m(\u001b[0m\u001b[0;36m10\u001b[0m\u001b[0;34m,\u001b[0m \u001b[0;36m20\u001b[0m\u001b[0;34m,\u001b[0m \u001b[0;36m30\u001b[0m\u001b[0;34m,\u001b[0m \u001b[0;36m40\u001b[0m\u001b[0;34m)\u001b[0m\u001b[0;34m\u001b[0m\u001b[0;34m\u001b[0m\u001b[0m\n\u001b[0m",
            "\u001b[0;31mValueError\u001b[0m: too many values to unpack (expected 2)"
          ]
        }
      ],
      "source": [
        "# value çok\n",
        "a, b = (10, 20, 30, 40)\n",
        "\n",
        "# value çok\n",
        "a, b, c = (10, 20)"
      ]
    },
    {
      "cell_type": "code",
      "source": [
        "# _ place holder, hata verilmesini engeller.\n",
        "a, _, b, _ = (10, 20, 30, 40)\n",
        "a"
      ],
      "metadata": {
        "colab": {
          "base_uri": "https://localhost:8080/"
        },
        "id": "M7uQAq4gZjGL",
        "outputId": "89e65fcb-7543-490d-80a7-4c7f877b31b3"
      },
      "execution_count": 2,
      "outputs": [
        {
          "output_type": "execute_result",
          "data": {
            "text/plain": [
              "10"
            ]
          },
          "metadata": {},
          "execution_count": 2
        }
      ]
    },
    {
      "cell_type": "code",
      "source": [
        "# _ e verilen son değeri tutar\n",
        "a, _, b, _ = (10, 20, 30, 40)\n",
        "_"
      ],
      "metadata": {
        "colab": {
          "base_uri": "https://localhost:8080/"
        },
        "id": "g64ZSyGhZuvy",
        "outputId": "1fc9fd3b-118f-4f48-8e1b-e08111e96d9b"
      },
      "execution_count": 3,
      "outputs": [
        {
          "output_type": "execute_result",
          "data": {
            "text/plain": [
              "40"
            ]
          },
          "metadata": {},
          "execution_count": 3
        }
      ]
    },
    {
      "cell_type": "code",
      "source": [
        "#* birden çok elemanı alır\n",
        "x, y, *z = (10, 20, 30, 40)\n",
        "z"
      ],
      "metadata": {
        "colab": {
          "base_uri": "https://localhost:8080/"
        },
        "id": "C3VWDgFqZzxS",
        "outputId": "11176b0a-db6e-4608-94f2-b79da2be685f"
      },
      "execution_count": 5,
      "outputs": [
        {
          "output_type": "execute_result",
          "data": {
            "text/plain": [
              "[30, 40]"
            ]
          },
          "metadata": {},
          "execution_count": 5
        }
      ]
    },
    {
      "cell_type": "code",
      "source": [
        "# *_ hem yer tutar hem de hepsini kapsar. kurtarıcı\n",
        "x, y, *_ = (10, 20, 30, 40)"
      ],
      "metadata": {
        "id": "dJ1_FWcIaDLi"
      },
      "execution_count": 6,
      "outputs": []
    },
    {
      "cell_type": "code",
      "source": [
        "# sondan da check eder.\n",
        "x, y, *_, z, t = (10, 20, 30, 40, 50, 60, 70)\n",
        "z"
      ],
      "metadata": {
        "colab": {
          "base_uri": "https://localhost:8080/"
        },
        "id": "ZVlgkbXRanmJ",
        "outputId": "eac26877-e7e3-45f9-c35b-e8c3a34842ff"
      },
      "execution_count": 9,
      "outputs": [
        {
          "output_type": "execute_result",
          "data": {
            "text/plain": [
              "60"
            ]
          },
          "metadata": {},
          "execution_count": 9
        }
      ]
    },
    {
      "cell_type": "code",
      "source": [
        "mytuple = (\"apple\", \"banana\", \"chery\")\n",
        "myiterator = iter(mytuple)"
      ],
      "metadata": {
        "id": "gx2m5riua-Le"
      },
      "execution_count": 10,
      "outputs": []
    },
    {
      "cell_type": "code",
      "source": [
        "print(*myiterator)"
      ],
      "metadata": {
        "colab": {
          "base_uri": "https://localhost:8080/"
        },
        "id": "uXnyIuxMb7gw",
        "outputId": "503d2f58-c59d-4d51-922e-86023c226dff"
      },
      "execution_count": 13,
      "outputs": [
        {
          "output_type": "stream",
          "name": "stdout",
          "text": [
            "apple banana chery\n"
          ]
        }
      ]
    },
    {
      "cell_type": "code",
      "source": [
        "myiterator = iter(mytuple)\n",
        "next(myiterator)"
      ],
      "metadata": {
        "colab": {
          "base_uri": "https://localhost:8080/",
          "height": 35
        },
        "id": "N4DClvsPb9QB",
        "outputId": "a6a630de-35ed-4b24-9a52-0609da397900"
      },
      "execution_count": 16,
      "outputs": [
        {
          "output_type": "execute_result",
          "data": {
            "text/plain": [
              "'apple'"
            ],
            "application/vnd.google.colaboratory.intrinsic+json": {
              "type": "string"
            }
          },
          "metadata": {},
          "execution_count": 16
        }
      ]
    },
    {
      "cell_type": "code",
      "source": [
        "next(myiterator)"
      ],
      "metadata": {
        "colab": {
          "base_uri": "https://localhost:8080/",
          "height": 35
        },
        "id": "adCasNLtcQR3",
        "outputId": "1c5443b1-7fe5-4538-eacd-ede6e20a6530"
      },
      "execution_count": 17,
      "outputs": [
        {
          "output_type": "execute_result",
          "data": {
            "text/plain": [
              "'banana'"
            ],
            "application/vnd.google.colaboratory.intrinsic+json": {
              "type": "string"
            }
          },
          "metadata": {},
          "execution_count": 17
        }
      ]
    },
    {
      "cell_type": "code",
      "source": [
        "next(myiterator)"
      ],
      "metadata": {
        "colab": {
          "base_uri": "https://localhost:8080/",
          "height": 35
        },
        "id": "nwvKKdhhcWvo",
        "outputId": "d03e720e-8dfa-434e-ec8b-4a2b030398d8"
      },
      "execution_count": 18,
      "outputs": [
        {
          "output_type": "execute_result",
          "data": {
            "text/plain": [
              "'chery'"
            ],
            "application/vnd.google.colaboratory.intrinsic+json": {
              "type": "string"
            }
          },
          "metadata": {},
          "execution_count": 18
        }
      ]
    },
    {
      "cell_type": "code",
      "source": [
        "# artık next kalmadı, hata verir.\n",
        "# if döngüsünün içinde bunlar oluyor aslında\n",
        "next(myiterator)"
      ],
      "metadata": {
        "colab": {
          "base_uri": "https://localhost:8080/",
          "height": 169
        },
        "id": "SChbP9aacXTz",
        "outputId": "3b804855-a0e5-4fb6-aeb9-a0a1ec860110"
      },
      "execution_count": 19,
      "outputs": [
        {
          "output_type": "error",
          "ename": "StopIteration",
          "evalue": "ignored",
          "traceback": [
            "\u001b[0;31m---------------------------------------------------------------------------\u001b[0m",
            "\u001b[0;31mStopIteration\u001b[0m                             Traceback (most recent call last)",
            "\u001b[0;32m<ipython-input-19-29fb3b4dbbec>\u001b[0m in \u001b[0;36m<module>\u001b[0;34m\u001b[0m\n\u001b[0;32m----> 1\u001b[0;31m \u001b[0mnext\u001b[0m\u001b[0;34m(\u001b[0m\u001b[0mmyiterator\u001b[0m\u001b[0;34m)\u001b[0m\u001b[0;34m\u001b[0m\u001b[0;34m\u001b[0m\u001b[0m\n\u001b[0m",
            "\u001b[0;31mStopIteration\u001b[0m: "
          ]
        }
      ]
    },
    {
      "cell_type": "markdown",
      "source": [
        "# List Comprehension"
      ],
      "metadata": {
        "id": "Ef_dw2a0gtDe"
      }
    },
    {
      "cell_type": "code",
      "source": [
        "for variable in iterable:\n",
        "  expression"
      ],
      "metadata": {
        "id": "QAJN3J-ccX57"
      },
      "execution_count": null,
      "outputs": []
    },
    {
      "cell_type": "code",
      "source": [
        "[expression for item in iterable]"
      ],
      "metadata": {
        "id": "aSSflVF-hPgS"
      },
      "execution_count": null,
      "outputs": []
    },
    {
      "cell_type": "code",
      "source": [
        "numbers = []\n",
        "\n",
        "for i in range(5):\n",
        "  numbers.append(i)\n",
        "  print(numbers)"
      ],
      "metadata": {
        "colab": {
          "base_uri": "https://localhost:8080/"
        },
        "id": "_Of5xAbEhWTt",
        "outputId": "40ca8ffa-a375-4881-b2b2-8c68a2aede53"
      },
      "execution_count": 25,
      "outputs": [
        {
          "output_type": "stream",
          "name": "stdout",
          "text": [
            "[0]\n",
            "[0, 1]\n",
            "[0, 1, 2]\n",
            "[0, 1, 2, 3]\n",
            "[0, 1, 2, 3, 4]\n"
          ]
        }
      ]
    },
    {
      "cell_type": "code",
      "source": [
        "[i for i in range(5)]"
      ],
      "metadata": {
        "colab": {
          "base_uri": "https://localhost:8080/"
        },
        "id": "LKV7aV5ChWPz",
        "outputId": "ff3d3972-9b57-48f9-9645-6ee4fb61fc17"
      },
      "execution_count": 31,
      "outputs": [
        {
          "output_type": "execute_result",
          "data": {
            "text/plain": [
              "[0, 1, 2, 3, 4]"
            ]
          },
          "metadata": {},
          "execution_count": 31
        }
      ]
    },
    {
      "cell_type": "code",
      "source": [
        "[i ** 2 for i in range(5)]\n",
        "\n",
        "# or\n",
        "# [i * i for i in range(5)]"
      ],
      "metadata": {
        "colab": {
          "base_uri": "https://localhost:8080/"
        },
        "id": "G_1w5RF3hVqA",
        "outputId": "3b54a3c0-1d14-4e8b-af8a-e5dd6f74d98d"
      },
      "execution_count": 32,
      "outputs": [
        {
          "output_type": "execute_result",
          "data": {
            "text/plain": [
              "[0, 1, 4, 9, 16]"
            ]
          },
          "metadata": {},
          "execution_count": 32
        }
      ]
    },
    {
      "cell_type": "code",
      "source": [
        "writers = [\"jane austen\", \"george orwell\", \"james joyce\"]\n",
        "\n",
        "list_writers = [i.title() for i in writers]\n",
        "\n",
        "print(list_writers)"
      ],
      "metadata": {
        "colab": {
          "base_uri": "https://localhost:8080/"
        },
        "id": "2ZzM-XdDixE2",
        "outputId": "c88fc3dd-b68e-4990-9237-8dd2dade6a67"
      },
      "execution_count": 33,
      "outputs": [
        {
          "output_type": "stream",
          "name": "stdout",
          "text": [
            "['Jane Austen', 'George Orwell', 'James Joyce']\n"
          ]
        }
      ]
    },
    {
      "cell_type": "code",
      "source": [
        "a = [4,5,6,7]\n",
        "b = [8,9,10,11]\n",
        "\n",
        "liste = list(zip(a,b))\n",
        "# bu görünmez list(zip(a,b)) şeklinde görebiliriz.\n",
        "\n",
        "area = [i * j for i, j in liste]\n",
        "\n",
        "area"
      ],
      "metadata": {
        "colab": {
          "base_uri": "https://localhost:8080/"
        },
        "id": "puB3DKhpk2Aj",
        "outputId": "7868db74-180e-43be-cfc5-32b4807b72dd"
      },
      "execution_count": 48,
      "outputs": [
        {
          "output_type": "execute_result",
          "data": {
            "text/plain": [
              "[32, 45, 60, 77]"
            ]
          },
          "metadata": {},
          "execution_count": 48
        }
      ]
    },
    {
      "cell_type": "code",
      "source": [
        "a = [4,5,6,7]\n",
        "b = [8,9,10,11]\n",
        "\n",
        "area = [i * j for i, j in list(zip(a,b))]\n",
        "area"
      ],
      "metadata": {
        "colab": {
          "base_uri": "https://localhost:8080/"
        },
        "id": "rL9sSkHolJ6m",
        "outputId": "c421cdcc-984a-4b57-db8f-29ded86bbe71"
      },
      "execution_count": 50,
      "outputs": [
        {
          "output_type": "execute_result",
          "data": {
            "text/plain": [
              "[32, 45, 60, 77]"
            ]
          },
          "metadata": {},
          "execution_count": 50
        }
      ]
    },
    {
      "cell_type": "markdown",
      "source": [
        "# Ternary conditional operator"
      ],
      "metadata": {
        "id": "ZUdNk06FpPY2"
      }
    },
    {
      "cell_type": "code",
      "source": [
        "a = 2\n",
        "b = 3\n",
        "\n",
        "print(\"a bigger than b\") if a > b else print(\"b bigger than a\")"
      ],
      "metadata": {
        "colab": {
          "base_uri": "https://localhost:8080/"
        },
        "id": "z_2Lh1qgoAFL",
        "outputId": "f365da58-369f-446a-95c7-788b8fc56588"
      },
      "execution_count": 51,
      "outputs": [
        {
          "output_type": "stream",
          "name": "stdout",
          "text": [
            "b bigger than a\n"
          ]
        }
      ]
    },
    {
      "cell_type": "code",
      "source": [
        "a = int(input(\"enter a number\"))\n",
        "angle = 60 \n",
        "\n",
        "round((a ** 2 * 3 ** 0.5),2) if angle == 60 else print(\"no way\")"
      ],
      "metadata": {
        "colab": {
          "base_uri": "https://localhost:8080/"
        },
        "id": "RZfgZ2_Ypg1x",
        "outputId": "c380fa50-9a3b-47ba-e1a0-0eb7c71e70d9"
      },
      "execution_count": 56,
      "outputs": [
        {
          "name": "stdout",
          "output_type": "stream",
          "text": [
            "enter a number4\n"
          ]
        },
        {
          "output_type": "execute_result",
          "data": {
            "text/plain": [
              "27.71"
            ]
          },
          "metadata": {},
          "execution_count": 56
        }
      ]
    },
    {
      "cell_type": "code",
      "source": [
        "# i % 2 == 0 ise i çift demektir.\n",
        "# i çift istiyorsak not i % 2 ile de yapabiliriz."
      ],
      "metadata": {
        "id": "zmABfOckwLI3"
      },
      "execution_count": null,
      "outputs": []
    },
    {
      "cell_type": "code",
      "source": [
        "my_list = [1, 2, 3, 4, 5]\n",
        "new_list = []\n",
        "\n",
        "for i in my_list:\n",
        "\n",
        "  if i % 2:\n",
        "    new_list.append(i**2)\n",
        "\n",
        "print(new_list)"
      ],
      "metadata": {
        "colab": {
          "base_uri": "https://localhost:8080/"
        },
        "id": "c2z4cKAGvLmt",
        "outputId": "43bdabb7-81b1-478b-eb18-765cb8423a49"
      },
      "execution_count": 82,
      "outputs": [
        {
          "output_type": "stream",
          "name": "stdout",
          "text": [
            "[1, 9, 25]\n"
          ]
        }
      ]
    },
    {
      "cell_type": "code",
      "source": [
        "my_list = [1, 2, 3, 4, 5]\n",
        "\n",
        "new_list = [i ** 2 if i % 2 else i ** 3 for i in my_list]\n",
        "\n",
        "print(new_list)"
      ],
      "metadata": {
        "colab": {
          "base_uri": "https://localhost:8080/"
        },
        "id": "y0b6s1ZcvLiB",
        "outputId": "3c3364b4-f6de-4526-eeb2-4d9c7d0a3b42"
      },
      "execution_count": 98,
      "outputs": [
        {
          "output_type": "stream",
          "name": "stdout",
          "text": [
            "[1, 8, 9, 64, 25]\n"
          ]
        }
      ]
    },
    {
      "cell_type": "markdown",
      "source": [
        "# Acquaintance with Functions\n"
      ],
      "metadata": {
        "id": "tuX4KCRcyXbt"
      }
    },
    {
      "cell_type": "markdown",
      "source": [
        "# Calling a Function"
      ],
      "metadata": {
        "id": "nGzxL_pc0Fjm"
      }
    },
    {
      "cell_type": "code",
      "source": [
        "# multiply(2,5)\n",
        "# name of func(arguments of func)"
      ],
      "metadata": {
        "id": "ItQeMNuPvLfp"
      },
      "execution_count": null,
      "outputs": []
    },
    {
      "cell_type": "code",
      "source": [
        "my_list = [0, \"1\", 2, 3, 4, 5, \"\"]\n",
        "\n",
        "aaa = filter(None,my_list)\n",
        "\n",
        "for i in aaa:\n",
        "  print(i)"
      ],
      "metadata": {
        "colab": {
          "base_uri": "https://localhost:8080/"
        },
        "id": "ki78y0d2vnLS",
        "outputId": "75152a93-c54b-4939-a6a8-3ec55b649b81"
      },
      "execution_count": 91,
      "outputs": [
        {
          "output_type": "stream",
          "name": "stdout",
          "text": [
            "1\n",
            "2\n",
            "3\n",
            "4\n",
            "5\n"
          ]
        }
      ]
    }
  ]
}