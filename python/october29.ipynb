{
  "nbformat": 4,
  "nbformat_minor": 0,
  "metadata": {
    "colab": {
      "provenance": [],
      "collapsed_sections": [],
      "authorship_tag": "ABX9TyNUJSMM8/TSWm4TDo3OdJAs",
      "include_colab_link": true
    },
    "kernelspec": {
      "name": "python3",
      "display_name": "Python 3"
    },
    "language_info": {
      "name": "python"
    }
  },
  "cells": [
    {
      "cell_type": "markdown",
      "metadata": {
        "id": "view-in-github",
        "colab_type": "text"
      },
      "source": [
        "<a href=\"https://colab.research.google.com/github/mustafaozsahinn/daily-work/blob/main/october29.ipynb\" target=\"_parent\"><img src=\"https://colab.research.google.com/assets/colab-badge.svg\" alt=\"Open In Colab\"/></a>"
      ]
    },
    {
      "cell_type": "markdown",
      "source": [
        "# Loops"
      ],
      "metadata": {
        "id": "ole8oHXQ0X60"
      }
    },
    {
      "cell_type": "code",
      "execution_count": 1,
      "metadata": {
        "id": "W32cHXoQzZT3",
        "colab": {
          "base_uri": "https://localhost:8080/"
        },
        "outputId": "edffb383-c22d-4852-ccfa-93d5766a5bbd"
      },
      "outputs": [
        {
          "output_type": "execute_result",
          "data": {
            "text/plain": [
              "range(0, 5)"
            ]
          },
          "metadata": {},
          "execution_count": 1
        }
      ],
      "source": [
        "range(5)"
      ]
    },
    {
      "cell_type": "code",
      "source": [
        "set(range(5))"
      ],
      "metadata": {
        "colab": {
          "base_uri": "https://localhost:8080/"
        },
        "id": "NRvvVrSWz461",
        "outputId": "26ab423c-7d6a-4f94-ec43-a433930b546d"
      },
      "execution_count": 2,
      "outputs": [
        {
          "output_type": "execute_result",
          "data": {
            "text/plain": [
              "{0, 1, 2, 3, 4}"
            ]
          },
          "metadata": {},
          "execution_count": 2
        }
      ]
    },
    {
      "cell_type": "code",
      "source": [
        "for i in range(5):\n",
        "  print(i)"
      ],
      "metadata": {
        "colab": {
          "base_uri": "https://localhost:8080/"
        },
        "id": "D2372Fdrz6SK",
        "outputId": "dd377bc1-3205-4624-a417-435f8e028877"
      },
      "execution_count": 3,
      "outputs": [
        {
          "output_type": "stream",
          "name": "stdout",
          "text": [
            "0\n",
            "1\n",
            "2\n",
            "3\n",
            "4\n"
          ]
        }
      ]
    },
    {
      "cell_type": "code",
      "source": [
        "# end = \" \" parametresi yaparak alta geçmesi yerine boşluk bırakmasını sağladık.\n",
        "for i in range(5):\n",
        "  print(i, end = \" \")"
      ],
      "metadata": {
        "colab": {
          "base_uri": "https://localhost:8080/"
        },
        "id": "l5bIob9T0BHN",
        "outputId": "2df12ed9-e397-401c-dd9d-0d34acf0004c"
      },
      "execution_count": 4,
      "outputs": [
        {
          "output_type": "stream",
          "name": "stdout",
          "text": [
            "0 1 2 3 4 "
          ]
        }
      ]
    },
    {
      "cell_type": "markdown",
      "source": [
        "while loop içinde condition vardır, True oldukça çalışır"
      ],
      "metadata": {
        "id": "G1SRM1ML12t8"
      }
    },
    {
      "cell_type": "code",
      "source": [
        "counter = 3 \n",
        "\n",
        "while counter < 5:\n",
        "  print(\"hi\")\n",
        "  counter += 1"
      ],
      "metadata": {
        "colab": {
          "base_uri": "https://localhost:8080/"
        },
        "id": "ZpgNgrpQ21XQ",
        "outputId": "7a4fff87-670f-46f2-b29e-83c112c4da4a"
      },
      "execution_count": 5,
      "outputs": [
        {
          "output_type": "stream",
          "name": "stdout",
          "text": [
            "hi\n",
            "hi\n"
          ]
        }
      ]
    },
    {
      "cell_type": "code",
      "source": [
        "# while statement -> condition -> True -> execute again condition\n",
        "#                              -> False = ends"
      ],
      "metadata": {
        "id": "e4DxwP8Y3BDC"
      },
      "execution_count": 6,
      "outputs": []
    },
    {
      "cell_type": "code",
      "source": [
        "number = 3\n",
        "\n",
        "while number < 6:\n",
        "  print(number)\n",
        "  number += 1"
      ],
      "metadata": {
        "colab": {
          "base_uri": "https://localhost:8080/"
        },
        "id": "fp-o_7OR5PlG",
        "outputId": "65b1006a-6225-4e0c-9ac3-6dfbbfb2496b"
      },
      "execution_count": 7,
      "outputs": [
        {
          "output_type": "stream",
          "name": "stdout",
          "text": [
            "3\n",
            "4\n",
            "5\n"
          ]
        }
      ]
    },
    {
      "cell_type": "code",
      "source": [
        "# bu durumda sonsuz döngü olur dikkat!\n",
        "# condition = 5\n",
        "\n",
        "# while condition:\n",
        "#  print(condition)"
      ],
      "metadata": {
        "id": "4WrIhExp5aBn"
      },
      "execution_count": 8,
      "outputs": []
    },
    {
      "cell_type": "code",
      "source": [
        "condition = 5\n",
        "\n",
        "while True:\n",
        "  print(condition)\n",
        "  condition -= 1\n",
        "\n",
        "  if condition == 0:\n",
        "    break"
      ],
      "metadata": {
        "colab": {
          "base_uri": "https://localhost:8080/"
        },
        "id": "bsU9A1Wy5qwW",
        "outputId": "41977a11-8641-4e7a-abe9-1d772df21c1e"
      },
      "execution_count": 9,
      "outputs": [
        {
          "output_type": "stream",
          "name": "stdout",
          "text": [
            "5\n",
            "4\n",
            "3\n",
            "2\n",
            "1\n"
          ]
        }
      ]
    },
    {
      "cell_type": "code",
      "source": [
        "# while condition1:\n",
        "#   body1\n",
        "#   while conditon2:\n",
        "#     body2\n",
        "#     break\n",
        "#   break"
      ],
      "metadata": {
        "id": "KVL6rgC-6i97"
      },
      "execution_count": 10,
      "outputs": []
    },
    {
      "cell_type": "code",
      "source": [
        "# bir ifadenin condition olmasını:\n",
        "#   comparison operators > < == <= >= !=\n",
        "#   logical operators and or not\n",
        "#   identity operators is, is not \n",
        "#   membership operators in, not in"
      ],
      "metadata": {
        "id": "Ra3wWpIL_LzI"
      },
      "execution_count": 11,
      "outputs": []
    },
    {
      "cell_type": "code",
      "source": [
        "a = 3\n",
        "b = 4\n",
        "print(a is b)\n",
        "print(a is not b)\n",
        "print(a == b)\n",
        "print(a != b)"
      ],
      "metadata": {
        "colab": {
          "base_uri": "https://localhost:8080/"
        },
        "id": "lNIkZJftAPZN",
        "outputId": "cb64b3b9-31bd-4f7f-bd74-0ee48d41970b"
      },
      "execution_count": 12,
      "outputs": [
        {
          "output_type": "stream",
          "name": "stdout",
          "text": [
            "False\n",
            "True\n",
            "False\n",
            "True\n"
          ]
        }
      ]
    },
    {
      "cell_type": "code",
      "source": [
        "# burası bende eksik kalmıştı.\n",
        "\n",
        "# count = len(set(\"myset\"))\n",
        "\n",
        "# while "
      ],
      "metadata": {
        "id": "EbuO5sHdBMre"
      },
      "execution_count": 13,
      "outputs": []
    },
    {
      "cell_type": "code",
      "source": [
        "# yaş girişi doğru mu?\n",
        "\n",
        "age = input(\"enter your age:\")\n",
        "\n",
        "while age.isdigit() == 0:\n",
        "  print(\"try again\")\n",
        "  age = input(\"enter your age:\")\n",
        "\n",
        "print(\"thanks\")"
      ],
      "metadata": {
        "colab": {
          "base_uri": "https://localhost:8080/"
        },
        "id": "PgeblNIWCBBw",
        "outputId": "7a407183-3443-4c97-f56c-21ab19c91256"
      },
      "execution_count": 14,
      "outputs": [
        {
          "output_type": "stream",
          "name": "stdout",
          "text": [
            "enter your age:gdh\n",
            "try again\n",
            "enter your age:45\n",
            "thanks\n"
          ]
        }
      ]
    },
    {
      "cell_type": "code",
      "source": [
        "age = input(\"enter your age: \")\n",
        "\n",
        "while not age.isdigit():\n",
        "  print(\"try again!\")\n",
        "  age = input(\"enter your age: \")\n",
        "print(\"thanks\")"
      ],
      "metadata": {
        "colab": {
          "base_uri": "https://localhost:8080/"
        },
        "id": "-7KLUWdsDWq6",
        "outputId": "a916bae4-c51d-40a7-ab4a-f3387dd0274b"
      },
      "execution_count": 15,
      "outputs": [
        {
          "output_type": "stream",
          "name": "stdout",
          "text": [
            "enter your age: hhh\n",
            "try again!\n",
            "enter your age: 76\n",
            "thanks\n"
          ]
        }
      ]
    },
    {
      "cell_type": "code",
      "source": [
        "# sayı tahmin oyunu\n",
        "answer = 21\n",
        "\n",
        "while number != answer:\n",
        "  number = int(input(\"guess my number between 1-30: \"))\n",
        "  if number > answer:\n",
        "    print(\"please try lower:\")\n",
        "  if number < answer:\n",
        "    print(\"please try higher:\")\n",
        "print(\"congratilations\")"
      ],
      "metadata": {
        "colab": {
          "base_uri": "https://localhost:8080/"
        },
        "id": "8fexcy2dFOKg",
        "outputId": "1488ac06-db51-4507-c7e6-19f1791c6979"
      },
      "execution_count": 16,
      "outputs": [
        {
          "output_type": "stream",
          "name": "stdout",
          "text": [
            "guess my number between 1-30: 22\n",
            "please try lower:\n",
            "guess my number between 1-30: 20\n",
            "please try higher:\n",
            "guess my number between 1-30: 21\n",
            "congratilations\n"
          ]
        }
      ]
    },
    {
      "cell_type": "code",
      "source": [
        "# en uzun kelimenin harf sayısını bulma\n",
        "\n",
        "sentence = input(\"enter a sentence: \")\n",
        "words = sentence.split()\n",
        "\n",
        "longest = 0 # daha küçük değerleri almamak için 0 yaptık.\n",
        "i = 0 # counter işlevi görüyor\n",
        "\n",
        "while i < len(words):\n",
        "  if len(words[i]) > longest:\n",
        "    longest = len(words[i])\n",
        "  i += 1\n",
        "\n",
        "print(\"The longest word has\", longest, \"letters\")"
      ],
      "metadata": {
        "colab": {
          "base_uri": "https://localhost:8080/"
        },
        "id": "U6wKNTH9HFy2",
        "outputId": "f14cdba8-a4d9-4ca7-f942-fe3a7deb0899"
      },
      "execution_count": 23,
      "outputs": [
        {
          "output_type": "stream",
          "name": "stdout",
          "text": [
            "enter a sentence: sdaf asdf sadfsdgh\n",
            "The longest word has 8 letters\n"
          ]
        }
      ]
    }
  ]
}