{
  "nbformat": 4,
  "nbformat_minor": 0,
  "metadata": {
    "colab": {
      "provenance": [],
      "authorship_tag": "ABX9TyOEY45WoT0cawFVWh3gbtPD",
      "include_colab_link": true
    },
    "kernelspec": {
      "name": "python3",
      "display_name": "Python 3"
    },
    "language_info": {
      "name": "python"
    }
  },
  "cells": [
    {
      "cell_type": "markdown",
      "metadata": {
        "id": "view-in-github",
        "colab_type": "text"
      },
      "source": [
        "<a href=\"https://colab.research.google.com/github/mustafaozsahinn/daily-work/blob/main/kadir.ipynb\" target=\"_parent\"><img src=\"https://colab.research.google.com/assets/colab-badge.svg\" alt=\"Open In Colab\"/></a>"
      ]
    },
    {
      "cell_type": "code",
      "execution_count": 19,
      "metadata": {
        "colab": {
          "base_uri": "https://localhost:8080/"
        },
        "id": "KoMaJ00K3uIM",
        "outputId": "a10d0cae-6022-41cc-8a3c-861b70120dfa"
      },
      "outputs": [
        {
          "output_type": "stream",
          "name": "stdout",
          "text": [
            "[[ 0  1  2  3  4  5]\n",
            " [ 6  7  8  9 10 11]\n",
            " [12 13 14 15 16 17]\n",
            " [18 19 20 21 22 23]\n",
            " [24 25 26 27 28 29]\n",
            " [30 31 32 33 34 35]]\n",
            "8\n",
            "15\n",
            "22\n",
            "29\n",
            "[4 5]\n",
            "[28 29]\n",
            "[34 35]\n",
            "[ 0  5 10 15 20 25]\n"
          ]
        }
      ],
      "source": [
        "import numpy as np\n",
        "kadir = np.arange(36).reshape(6,6)\n",
        "print(kadir)\n",
        "print(kadir[1,2])\n",
        "print(kadir[2,3])\n",
        "print(kadir[3,4])\n",
        "print(kadir[4,5])\n",
        "print(kadir[0,4:6])\n",
        "print(kadir[4,4:6])\n",
        "print(kadir[5,4:6])\n",
        "kkadir = kadir[kadir < 30] \n",
        "print(kkadir[kkadir % 5 == 0])"
      ]
    },
    {
      "cell_type": "code",
      "source": [
        "a = np.arange(36).reshape(6,6)\n",
        "np.array([a[1,2],a[2,3],a[3,4],a[4,5]])"
      ],
      "metadata": {
        "colab": {
          "base_uri": "https://localhost:8080/"
        },
        "id": "XMD9AIZg3zAR",
        "outputId": "dd0fec94-89c2-4423-b543-a281d1cb3f23"
      },
      "execution_count": 24,
      "outputs": [
        {
          "output_type": "execute_result",
          "data": {
            "text/plain": [
              "array([ 8, 15, 22, 29])"
            ]
          },
          "metadata": {},
          "execution_count": 24
        }
      ]
    },
    {
      "cell_type": "code",
      "source": [
        "np.array([a[0,4:6],a[4,4:6],a[5,4:6]])"
      ],
      "metadata": {
        "colab": {
          "base_uri": "https://localhost:8080/"
        },
        "id": "L2CgV7857VU8",
        "outputId": "f1b94ea7-711c-41a3-ce2a-2b082bae984e"
      },
      "execution_count": 27,
      "outputs": [
        {
          "output_type": "execute_result",
          "data": {
            "text/plain": [
              "array([[ 4,  5],\n",
              "       [28, 29],\n",
              "       [34, 35]])"
            ]
          },
          "metadata": {},
          "execution_count": 27
        }
      ]
    },
    {
      "cell_type": "code",
      "source": [
        "kadir = a[a < 30]\n",
        "kadir[kadir % 5 == 0]"
      ],
      "metadata": {
        "colab": {
          "base_uri": "https://localhost:8080/"
        },
        "id": "OZRMaiN37_Iu",
        "outputId": "74026eb7-9a81-4241-8656-6a28f6707882"
      },
      "execution_count": 32,
      "outputs": [
        {
          "output_type": "execute_result",
          "data": {
            "text/plain": [
              "array([ 0,  5, 10, 15, 20, 25])"
            ]
          },
          "metadata": {},
          "execution_count": 32
        }
      ]
    }
  ]
}