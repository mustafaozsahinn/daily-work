{
  "nbformat": 4,
  "nbformat_minor": 0,
  "metadata": {
    "colab": {
      "provenance": [],
      "authorship_tag": "ABX9TyNytZqeCukfbqy4KrxJah/W",
      "include_colab_link": true
    },
    "kernelspec": {
      "name": "python3",
      "display_name": "Python 3"
    },
    "language_info": {
      "name": "python"
    }
  },
  "cells": [
    {
      "cell_type": "markdown",
      "metadata": {
        "id": "view-in-github",
        "colab_type": "text"
      },
      "source": [
        "<a href=\"https://colab.research.google.com/github/mustafaozsahinn/daily-work/blob/main/kadir.ipynb\" target=\"_parent\"><img src=\"https://colab.research.google.com/assets/colab-badge.svg\" alt=\"Open In Colab\"/></a>"
      ]
    },
    {
      "cell_type": "code",
      "execution_count": 19,
      "metadata": {
        "colab": {
          "base_uri": "https://localhost:8080/"
        },
        "id": "KoMaJ00K3uIM",
        "outputId": "a10d0cae-6022-41cc-8a3c-861b70120dfa"
      },
      "outputs": [
        {
          "output_type": "stream",
          "name": "stdout",
          "text": [
            "[[ 0  1  2  3  4  5]\n",
            " [ 6  7  8  9 10 11]\n",
            " [12 13 14 15 16 17]\n",
            " [18 19 20 21 22 23]\n",
            " [24 25 26 27 28 29]\n",
            " [30 31 32 33 34 35]]\n",
            "8\n",
            "15\n",
            "22\n",
            "29\n",
            "[4 5]\n",
            "[28 29]\n",
            "[34 35]\n",
            "[ 0  5 10 15 20 25]\n"
          ]
        }
      ],
      "source": [
        "import numpy as np\n",
        "kadir = np.arange(36).reshape(6,6)\n",
        "print(kadir)\n",
        "print(kadir[1,2])\n",
        "print(kadir[2,3])\n",
        "print(kadir[3,4])\n",
        "print(kadir[4,5])\n",
        "print(kadir[0,4:6])\n",
        "print(kadir[4,4:6])\n",
        "print(kadir[5,4:6])\n",
        "kkadir = kadir[kadir < 30] \n",
        "print(kkadir[kkadir % 5 == 0])"
      ]
    },
    {
      "cell_type": "code",
      "source": [],
      "metadata": {
        "id": "XMD9AIZg3zAR"
      },
      "execution_count": null,
      "outputs": []
    }
  ]
}