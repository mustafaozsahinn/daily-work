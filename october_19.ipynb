{
  "nbformat": 4,
  "nbformat_minor": 0,
  "metadata": {
    "colab": {
      "provenance": [],
      "collapsed_sections": [],
      "authorship_tag": "ABX9TyN+bljJmewXAw5Xq25GMCDK",
      "include_colab_link": true
    },
    "kernelspec": {
      "name": "python3",
      "display_name": "Python 3"
    },
    "language_info": {
      "name": "python"
    }
  },
  "cells": [
    {
      "cell_type": "markdown",
      "metadata": {
        "id": "view-in-github",
        "colab_type": "text"
      },
      "source": [
        "<a href=\"https://colab.research.google.com/github/mustafaozsahinn/daily-work/blob/main/october_19.ipynb\" target=\"_parent\"><img src=\"https://colab.research.google.com/assets/colab-badge.svg\" alt=\"Open In Colab\"/></a>"
      ]
    },
    {
      "cell_type": "code",
      "execution_count": null,
      "metadata": {
        "colab": {
          "base_uri": "https://localhost:8080/"
        },
        "id": "MqLg68p5Na-J",
        "outputId": "879e3d07-0e06-4a8a-c39b-c5ac54893c22"
      },
      "outputs": [
        {
          "output_type": "stream",
          "name": "stdout",
          "text": [
            "['USA', 'Brasil', 'UK', 'Germany']\n"
          ]
        }
      ],
      "source": [
        "# [] print edildiğinde sıralı olarak çıkarır.\n",
        "country = [\"USA\", \"Brasil\", \"UK\", \"Germany\"]\n",
        "print(country)"
      ]
    },
    {
      "cell_type": "code",
      "source": [
        "string = \"i quit smoking\"\n",
        "list1 = list(string)\n",
        "print(list1)\n",
        "list2 = [string]\n",
        "print(list2)"
      ],
      "metadata": {
        "colab": {
          "base_uri": "https://localhost:8080/"
        },
        "id": "U5ruWHYWN4YD",
        "outputId": "49a1c38c-6642-443f-f2b0-3a8aec8da02f"
      },
      "execution_count": null,
      "outputs": [
        {
          "output_type": "stream",
          "name": "stdout",
          "text": [
            "['i', ' ', 'q', 'u', 'i', 't', ' ', 's', 'm', 'o', 'k', 'i', 'n', 'g']\n",
            "['i quit smoking']\n"
          ]
        },
        {
          "output_type": "execute_result",
          "data": {
            "text/plain": [
              "1"
            ]
          },
          "metadata": {},
          "execution_count": 6
        }
      ]
    },
    {
      "cell_type": "code",
      "source": [
        "# list ve [] arasındaki temel fark list tüm bileşenleri ayırırken, \n",
        "# [] \"\" içindeki str yi tek parça olarak alıyor"
      ],
      "metadata": {
        "id": "YCu7yqoVOy8G"
      },
      "execution_count": null,
      "outputs": []
    },
    {
      "cell_type": "code",
      "source": [
        "len(list1)"
      ],
      "metadata": {
        "colab": {
          "base_uri": "https://localhost:8080/"
        },
        "id": "6QKNtoN4O_Oz",
        "outputId": "9da42582-273b-4229-b4db-7696368b6158"
      },
      "execution_count": null,
      "outputs": [
        {
          "output_type": "execute_result",
          "data": {
            "text/plain": [
              "14"
            ]
          },
          "metadata": {},
          "execution_count": 7
        }
      ]
    },
    {
      "cell_type": "code",
      "source": [
        "len(list2)"
      ],
      "metadata": {
        "colab": {
          "base_uri": "https://localhost:8080/"
        },
        "id": "LpPRSIe0PSp3",
        "outputId": "794d7d72-3634-4ca1-f702-e97d578e6ee4"
      },
      "execution_count": null,
      "outputs": [
        {
          "output_type": "execute_result",
          "data": {
            "text/plain": [
              "1"
            ]
          },
          "metadata": {},
          "execution_count": 8
        }
      ]
    },
    {
      "cell_type": "code",
      "source": [
        "# eleman sayıları, uzunlukları farklı olduğu yukarıda görüldü. list sayarken boşlukları da sayar"
      ],
      "metadata": {
        "id": "pbGrMIxyPUs5"
      },
      "execution_count": null,
      "outputs": []
    },
    {
      "cell_type": "code",
      "source": [
        "my_list = [\"Joseph\", \"Clarusway\", 2022]\n",
        "list1 = list(my_list)\n",
        "list2 = [list1]\n",
        "print(list1)\n",
        "print(len(list1))\n",
        "print(list2)\n",
        "print(len(list2))"
      ],
      "metadata": {
        "colab": {
          "base_uri": "https://localhost:8080/"
        },
        "id": "x5voEo0oPvmF",
        "outputId": "70bb0840-21e4-4c5e-ec20-588e2b8b2131"
      },
      "execution_count": null,
      "outputs": [
        {
          "output_type": "stream",
          "name": "stdout",
          "text": [
            "['Joseph', 'Clarusway', 2022]\n",
            "3\n",
            "[['Joseph', 'Clarusway', 2022]]\n",
            "1\n"
          ]
        }
      ]
    },
    {
      "cell_type": "code",
      "source": [
        "list1 = \"2020's hard\"\n",
        "print(list(list1), \"\\n\", [list1])"
      ],
      "metadata": {
        "colab": {
          "base_uri": "https://localhost:8080/"
        },
        "id": "ZElarQSWQV9T",
        "outputId": "97f371ec-f985-4b30-ec4d-159721ea6040"
      },
      "execution_count": null,
      "outputs": [
        {
          "output_type": "stream",
          "name": "stdout",
          "text": [
            "['2', '0', '2', '0', \"'\", 's', ' ', 'h', 'a', 'r', 'd'] \n",
            " [\"2020's hard\"]\n"
          ]
        }
      ]
    },
    {
      "cell_type": "code",
      "source": [
        "len([[[\" \"]]])"
      ],
      "metadata": {
        "colab": {
          "base_uri": "https://localhost:8080/"
        },
        "id": "hJ3y-6nDRTDj",
        "outputId": "e0891e53-01a8-4afa-9473-55e11f36fbc0"
      },
      "execution_count": null,
      "outputs": [
        {
          "output_type": "execute_result",
          "data": {
            "text/plain": [
              "1"
            ]
          },
          "metadata": {},
          "execution_count": 33
        }
      ]
    },
    {
      "cell_type": "code",
      "source": [
        "len([[[\" \", 12, \"asdf\"]]])\n",
        "# len içindekileri sayar ancak en dıştaki [] geçerlidir. iç içe parantez olduğu için sonuç 1 olur"
      ],
      "metadata": {
        "colab": {
          "base_uri": "https://localhost:8080/"
        },
        "id": "B-aac62lRYai",
        "outputId": "3b3d2918-b559-4bcf-b7d2-9cf9abf9e9af"
      },
      "execution_count": null,
      "outputs": [
        {
          "output_type": "execute_result",
          "data": {
            "text/plain": [
              "1"
            ]
          },
          "metadata": {},
          "execution_count": 36
        }
      ]
    },
    {
      "cell_type": "code",
      "source": [
        "# araya eski derslerden tekrarlar\n",
        "a = 11\n",
        "print(-a)\n",
        "print(a ** a)\n",
        "b = -3\n",
        "print(-b)"
      ],
      "metadata": {
        "colab": {
          "base_uri": "https://localhost:8080/"
        },
        "id": "CqMqdSnBUtvm",
        "outputId": "86bdd75b-234c-4d51-d373-401d8c42de51"
      },
      "execution_count": null,
      "outputs": [
        {
          "output_type": "stream",
          "name": "stdout",
          "text": [
            "-11\n",
            "285311670611\n",
            "3\n"
          ]
        }
      ]
    },
    {
      "cell_type": "code",
      "source": [
        "print(\"the multipication of {} and {} is = {}\".format(a, b, a * b))"
      ],
      "metadata": {
        "colab": {
          "base_uri": "https://localhost:8080/"
        },
        "id": "yg-6WnF_VN82",
        "outputId": "ffd00171-dbda-4147-c1f6-408ee6edfe9c"
      },
      "execution_count": null,
      "outputs": [
        {
          "output_type": "stream",
          "name": "stdout",
          "text": [
            "the multipication of 11 and -3 is = -33\n"
          ]
        }
      ]
    },
    {
      "cell_type": "code",
      "source": [
        "text = \"{}, {}, {}\".format(12.34, 345.6, 125.3534)\n",
        "text"
      ],
      "metadata": {
        "colab": {
          "base_uri": "https://localhost:8080/",
          "height": 35
        },
        "id": "KctO60qiV3fb",
        "outputId": "0763cea4-e72e-4e54-a3b6-e3de0d18f1ef"
      },
      "execution_count": null,
      "outputs": [
        {
          "output_type": "execute_result",
          "data": {
            "text/plain": [
              "'12.34, 345.6, 125.3534'"
            ],
            "application/vnd.google.colaboratory.intrinsic+json": {
              "type": "string"
            }
          },
          "metadata": {},
          "execution_count": 46
        }
      ]
    },
    {
      "cell_type": "code",
      "source": [
        "# {} içine :.2f yazarsak ondalık kısmını 2 haneye getirir\n",
        "text = \"{:.2f}, {:.1f}, {:.3f}\".format(12.34, 345.6, 125.3534)\n",
        "text"
      ],
      "metadata": {
        "colab": {
          "base_uri": "https://localhost:8080/",
          "height": 35
        },
        "id": "ONiZGZ1OWjVy",
        "outputId": "de4be12d-f40f-4ddb-e72a-af256cd04c2e"
      },
      "execution_count": null,
      "outputs": [
        {
          "output_type": "execute_result",
          "data": {
            "text/plain": [
              "'12.34, 345.6, 125.353'"
            ],
            "application/vnd.google.colaboratory.intrinsic+json": {
              "type": "string"
            }
          },
          "metadata": {},
          "execution_count": 50
        }
      ]
    },
    {
      "cell_type": "code",
      "source": [
        "not None or [2, False] and {}\n",
        "# True or True and False\n",
        "# True or False\n",
        "# True"
      ],
      "metadata": {
        "colab": {
          "base_uri": "https://localhost:8080/"
        },
        "id": "yS1o5I3LW00u",
        "outputId": "ed52f12f-2d56-47e9-940a-e83b5d57d2ec"
      },
      "execution_count": null,
      "outputs": [
        {
          "output_type": "execute_result",
          "data": {
            "text/plain": [
              "True"
            ]
          },
          "metadata": {},
          "execution_count": 55
        }
      ]
    },
    {
      "cell_type": "code",
      "source": [
        "# {} içine :.4 yazarsak baştan itibaren 4 hane yazar\n",
        "text2 = \"{:.4}, {:.5}, {:.5}\".format(12.34, 345.6, 125.3534)\n",
        "text2"
      ],
      "metadata": {
        "colab": {
          "base_uri": "https://localhost:8080/",
          "height": 35
        },
        "id": "k5ehf-vMYheG",
        "outputId": "c41aa215-420a-4d19-94c3-03e588b52830"
      },
      "execution_count": null,
      "outputs": [
        {
          "output_type": "execute_result",
          "data": {
            "text/plain": [
              "'12.34, 345.6, 125.35'"
            ],
            "application/vnd.google.colaboratory.intrinsic+json": {
              "type": "string"
            }
          },
          "metadata": {},
          "execution_count": 60
        }
      ]
    },
    {
      "cell_type": "code",
      "source": [
        "# {} içine :.2s yazarsak baştan ilgili parçayı sonuç verir. ama string olmalı!\n",
        "text3 = \"{:.3s}, {:.1s}, {:.2s}\".format(\"12.34\", \"345.6\", \"125.3534\")\n",
        "text3\n",
        "# {} içine :.2 yazarsak da aynısı çalışır. yine dikkat string varsa."
      ],
      "metadata": {
        "colab": {
          "base_uri": "https://localhost:8080/",
          "height": 35
        },
        "id": "rIRUCQzva0b8",
        "outputId": "eff5e3a0-b4b4-4d28-afe3-6ad6cb31f103"
      },
      "execution_count": null,
      "outputs": [
        {
          "output_type": "execute_result",
          "data": {
            "text/plain": [
              "'12., 3, 12'"
            ],
            "application/vnd.google.colaboratory.intrinsic+json": {
              "type": "string"
            }
          },
          "metadata": {},
          "execution_count": 65
        }
      ]
    },
    {
      "cell_type": "code",
      "source": [
        "# sağa yaslamak için :>x\n",
        "# sola yaslamak için x<:\n",
        "# ortada :^x \n",
        "text = \"{:^10}\".format(\"aaa\")\n",
        "text"
      ],
      "metadata": {
        "colab": {
          "base_uri": "https://localhost:8080/",
          "height": 35
        },
        "id": "W5sr1wDSbnsk",
        "outputId": "d840a5a1-7882-4d12-bc8f-ac578e43cb50"
      },
      "execution_count": null,
      "outputs": [
        {
          "output_type": "execute_result",
          "data": {
            "text/plain": [
              "'   aaa    '"
            ],
            "application/vnd.google.colaboratory.intrinsic+json": {
              "type": "string"
            }
          },
          "metadata": {},
          "execution_count": 70
        }
      ]
    },
    {
      "cell_type": "code",
      "source": [
        "# 10 dan ilk 5 kararkteri alıyor\n",
        "text = \"{:^6.1}\".format(\"someting\")\n",
        "text"
      ],
      "metadata": {
        "colab": {
          "base_uri": "https://localhost:8080/",
          "height": 35
        },
        "id": "jxVyp11Tc5_O",
        "outputId": "aae8c044-414e-481c-81d2-0bd008f39b94"
      },
      "execution_count": null,
      "outputs": [
        {
          "output_type": "execute_result",
          "data": {
            "text/plain": [
              "'  s   '"
            ],
            "application/vnd.google.colaboratory.intrinsic+json": {
              "type": "string"
            }
          },
          "metadata": {},
          "execution_count": 80
        }
      ]
    },
    {
      "cell_type": "markdown",
      "source": [
        "Basic Operations with `list`s"
      ],
      "metadata": {
        "id": "AvL55O9FfAHM"
      }
    },
    {
      "cell_type": "code",
      "source": [
        "# .append operation sonuna ekler\n",
        "numbers = [1,5,8]\n",
        "numbers.append(10)\n",
        "print(numbers)\n",
        "numbers.append(\"10\")\n",
        "print(numbers)"
      ],
      "metadata": {
        "colab": {
          "base_uri": "https://localhost:8080/"
        },
        "id": "yeIviwT_fIF3",
        "outputId": "60ca0caa-ae7b-44f6-9696-9b2534f1cdf2"
      },
      "execution_count": null,
      "outputs": [
        {
          "output_type": "stream",
          "name": "stdout",
          "text": [
            "[1, 5, 8, 10]\n",
            "[1, 5, 8, 10, '10']\n"
          ]
        }
      ]
    },
    {
      "cell_type": "code",
      "source": [],
      "metadata": {
        "id": "K8puX5oBfZEV"
      },
      "execution_count": null,
      "outputs": []
    },
    {
      "cell_type": "code",
      "source": [
        "# stringde method hemen sonuç verir ancak append vermez. stirng immutable dır.\n",
        "# çıktı vermemesi orda bir değişiklik yaptığını gösterir. list mutable olduğu için yerinde değiştirilebilir.\n",
        "\"mustafa\".capitalize()"
      ],
      "metadata": {
        "colab": {
          "base_uri": "https://localhost:8080/",
          "height": 35
        },
        "id": "fujx5r4ef5C4",
        "outputId": "d446dbb2-ff7e-4e4c-a825-52c6facaef77"
      },
      "execution_count": null,
      "outputs": [
        {
          "output_type": "execute_result",
          "data": {
            "text/plain": [
              "'Mustafa'"
            ],
            "application/vnd.google.colaboratory.intrinsic+json": {
              "type": "string"
            }
          },
          "metadata": {},
          "execution_count": 91
        }
      ]
    },
    {
      "cell_type": "code",
      "source": [
        "bos = []\n",
        "bos.append(11)\n",
        "bos"
      ],
      "metadata": {
        "colab": {
          "base_uri": "https://localhost:8080/"
        },
        "id": "z98D1n2cf8jv",
        "outputId": "828809c8-c4c4-4cfb-e056-b5401de3aeea"
      },
      "execution_count": null,
      "outputs": [
        {
          "output_type": "execute_result",
          "data": {
            "text/plain": [
              "[11]"
            ]
          },
          "metadata": {},
          "execution_count": 93
        }
      ]
    },
    {
      "cell_type": "code",
      "source": [
        "sample_names = \"alan brain corney\"\n",
        "\"alan brain corney\".replace(\"a\" , \"i\")"
      ],
      "metadata": {
        "colab": {
          "base_uri": "https://localhost:8080/",
          "height": 35
        },
        "id": "90qqR12lgdl8",
        "outputId": "5c326ccf-444c-4cb3-c968-ba4170e8cbbd"
      },
      "execution_count": null,
      "outputs": [
        {
          "output_type": "execute_result",
          "data": {
            "text/plain": [
              "'ilin briin corney'"
            ],
            "application/vnd.google.colaboratory.intrinsic+json": {
              "type": "string"
            }
          },
          "metadata": {},
          "execution_count": 96
        }
      ]
    },
    {
      "cell_type": "code",
      "source": [
        "sample_names = \"alan brain corney\"\n",
        "sample_names"
      ],
      "metadata": {
        "colab": {
          "base_uri": "https://localhost:8080/",
          "height": 35
        },
        "id": "AFKjwwluhJbF",
        "outputId": "4c508d52-0e4a-4937-8d02-fc20a0a066ca"
      },
      "execution_count": null,
      "outputs": [
        {
          "output_type": "execute_result",
          "data": {
            "text/plain": [
              "'alan brain corney'"
            ],
            "application/vnd.google.colaboratory.intrinsic+json": {
              "type": "string"
            }
          },
          "metadata": {},
          "execution_count": 111
        }
      ]
    },
    {
      "cell_type": "code",
      "source": [
        "brothers = [\"steve\", \"danial\" ]"
      ],
      "metadata": {
        "id": "nda6IkJ6hUNM"
      },
      "execution_count": null,
      "outputs": []
    },
    {
      "cell_type": "code",
      "source": [
        "brothers.append(\"jack\")\n",
        "brothers"
      ],
      "metadata": {
        "colab": {
          "base_uri": "https://localhost:8080/"
        },
        "id": "Jeo5tjCTh0yA",
        "outputId": "3bb73d4c-a490-4e02-a4e9-d00ce9dbe653"
      },
      "execution_count": null,
      "outputs": [
        {
          "output_type": "execute_result",
          "data": {
            "text/plain": [
              "['steve', 'danial', 'jack']"
            ]
          },
          "metadata": {},
          "execution_count": 122
        }
      ]
    },
    {
      "cell_type": "code",
      "source": [
        "brothers.append(3.14)\n",
        "brothers"
      ],
      "metadata": {
        "colab": {
          "base_uri": "https://localhost:8080/"
        },
        "id": "wewRce3zh5KH",
        "outputId": "596a1fa5-5152-4b81-9f2d-8dd9ce10267e"
      },
      "execution_count": null,
      "outputs": [
        {
          "output_type": "execute_result",
          "data": {
            "text/plain": [
              "['steve', 'danial', 'jack', 3.14]"
            ]
          },
          "metadata": {},
          "execution_count": 123
        }
      ]
    },
    {
      "cell_type": "code",
      "source": [
        "brothers.append(True)\n",
        "brothers"
      ],
      "metadata": {
        "colab": {
          "base_uri": "https://localhost:8080/"
        },
        "id": "sS8pCN3ViEgt",
        "outputId": "608d61ab-26cb-4b85-82a9-8715d3639caf"
      },
      "execution_count": null,
      "outputs": [
        {
          "output_type": "execute_result",
          "data": {
            "text/plain": [
              "['steve', 'danial', 'jack', 3.14, True]"
            ]
          },
          "metadata": {},
          "execution_count": 124
        }
      ]
    },
    {
      "cell_type": "code",
      "source": [
        "# .pop() remove işine yarıyor, sondakini siler.\n",
        "brothers.pop()"
      ],
      "metadata": {
        "colab": {
          "base_uri": "https://localhost:8080/"
        },
        "id": "yowTKYy3iR_T",
        "outputId": "6094e111-b7fa-4855-ff5d-8edb608d7110"
      },
      "execution_count": null,
      "outputs": [
        {
          "output_type": "execute_result",
          "data": {
            "text/plain": [
              "True"
            ]
          },
          "metadata": {},
          "execution_count": 125
        }
      ]
    },
    {
      "cell_type": "code",
      "source": [
        "brothers"
      ],
      "metadata": {
        "colab": {
          "base_uri": "https://localhost:8080/"
        },
        "id": "tOlI-Tizieho",
        "outputId": "a697016b-53c6-486b-bc64-e7c8051e23ef"
      },
      "execution_count": null,
      "outputs": [
        {
          "output_type": "execute_result",
          "data": {
            "text/plain": [
              "['steve', 'danial', 'jack', 3.14]"
            ]
          },
          "metadata": {},
          "execution_count": 126
        }
      ]
    },
    {
      "cell_type": "code",
      "source": [
        "brothers.pop()"
      ],
      "metadata": {
        "colab": {
          "base_uri": "https://localhost:8080/"
        },
        "id": "6h-DEGlviilB",
        "outputId": "4094d11d-8f08-4bd8-88d8-a160e9473427"
      },
      "execution_count": null,
      "outputs": [
        {
          "output_type": "execute_result",
          "data": {
            "text/plain": [
              "3.14"
            ]
          },
          "metadata": {},
          "execution_count": 127
        }
      ]
    },
    {
      "cell_type": "code",
      "source": [
        "brothers"
      ],
      "metadata": {
        "colab": {
          "base_uri": "https://localhost:8080/"
        },
        "id": "X6OblRXKirS-",
        "outputId": "964560dd-575f-44a8-ef40-f34cda5f5211"
      },
      "execution_count": null,
      "outputs": [
        {
          "output_type": "execute_result",
          "data": {
            "text/plain": [
              "['steve', 'danial', 'jack']"
            ]
          },
          "metadata": {},
          "execution_count": 128
        }
      ]
    },
    {
      "cell_type": "code",
      "source": [
        "my_list = []\n",
        "my_list.append(1)\n",
        "my_list.append(2)\n",
        "my_list.append(3)\n",
        "my_list.append(4)\n",
        "print(my_list)"
      ],
      "metadata": {
        "colab": {
          "base_uri": "https://localhost:8080/"
        },
        "id": "jF7oesppi1dV",
        "outputId": "593a5439-cce0-457f-f1b2-518390e3e87d"
      },
      "execution_count": null,
      "outputs": [
        {
          "output_type": "stream",
          "name": "stdout",
          "text": [
            "[1, 2, 3, 4]\n"
          ]
        }
      ]
    },
    {
      "cell_type": "code",
      "source": [
        "# insert given index e given object i ekler.\n",
        "# my_list.insert(1, \"x\")\n",
        "# print(my_list)\n",
        "# [1, 'x', 2, 3, 4]"
      ],
      "metadata": {
        "id": "m8EWRj3YktS4"
      },
      "execution_count": null,
      "outputs": []
    },
    {
      "cell_type": "code",
      "source": [
        "your_list = [1, 2, 3, 4]\n",
        "my_list.insert(4,5)\n",
        "print(my_list)"
      ],
      "metadata": {
        "colab": {
          "base_uri": "https://localhost:8080/"
        },
        "id": "1ajVFx87sNHg",
        "outputId": "b8233c1a-0e71-4454-e44a-7fb8699fc886"
      },
      "execution_count": null,
      "outputs": [
        {
          "output_type": "stream",
          "name": "stdout",
          "text": [
            "[1, 2, 3, 4, 5]\n"
          ]
        }
      ]
    },
    {
      "cell_type": "code",
      "source": [
        "your_list = [1, 2, 3, 4]\n",
        "my_list.insert(-1,10)\n",
        "print(my_list)"
      ],
      "metadata": {
        "colab": {
          "base_uri": "https://localhost:8080/"
        },
        "id": "t2QsP-a6tTl-",
        "outputId": "042c0dbd-a734-41f9-8349-226bf96c7dde"
      },
      "execution_count": null,
      "outputs": [
        {
          "output_type": "stream",
          "name": "stdout",
          "text": [
            "[1, 2, 3, 4, 10, 5]\n"
          ]
        }
      ]
    },
    {
      "cell_type": "code",
      "source": [
        "# remove çıkarır\n",
        "my_list.remove(4)\n",
        "my_list"
      ],
      "metadata": {
        "colab": {
          "base_uri": "https://localhost:8080/"
        },
        "id": "UkseGUXawWY4",
        "outputId": "597cbb68-f43a-49a7-dbe4-cc6ca801b901"
      },
      "execution_count": null,
      "outputs": [
        {
          "output_type": "execute_result",
          "data": {
            "text/plain": [
              "[1, 2, 3, 5, 10]"
            ]
          },
          "metadata": {},
          "execution_count": 183
        }
      ]
    },
    {
      "cell_type": "code",
      "source": [
        "# sort sıralama yapar, artan ve alfabetik olarak. karışıksa hata verir.\n",
        "my_list.sort()\n",
        "my_list"
      ],
      "metadata": {
        "colab": {
          "base_uri": "https://localhost:8080/"
        },
        "id": "IJhXnGoKtptE",
        "outputId": "cfebb74a-ad09-4d18-f516-1ef13b9e1f5d"
      },
      "execution_count": null,
      "outputs": [
        {
          "output_type": "execute_result",
          "data": {
            "text/plain": [
              "[1, 2, 3, 5, 10]"
            ]
          },
          "metadata": {},
          "execution_count": 184
        }
      ]
    },
    {
      "cell_type": "code",
      "source": [
        "my_list.sort(reverse = True)\n",
        "my_list"
      ],
      "metadata": {
        "colab": {
          "base_uri": "https://localhost:8080/"
        },
        "id": "VRKA4IGkvdfW",
        "outputId": "78c8b458-2474-4221-82cb-dd565df707cf"
      },
      "execution_count": null,
      "outputs": [
        {
          "output_type": "execute_result",
          "data": {
            "text/plain": [
              "[10, 5, 3, 2, 1]"
            ]
          },
          "metadata": {},
          "execution_count": 186
        }
      ]
    },
    {
      "cell_type": "code",
      "source": [
        "my_list.sort()\n",
        "my_list"
      ],
      "metadata": {
        "colab": {
          "base_uri": "https://localhost:8080/"
        },
        "id": "jhjVCX97vjQB",
        "outputId": "86c74f1a-187a-42da-c6fe-cd4a468c2b9d"
      },
      "execution_count": null,
      "outputs": [
        {
          "output_type": "execute_result",
          "data": {
            "text/plain": [
              "[1, 2, 3, 5, 10]"
            ]
          },
          "metadata": {},
          "execution_count": 190
        }
      ]
    },
    {
      "cell_type": "code",
      "source": [
        "list2 = [\"False\", \"@\", \"_\", \"#\"]\n",
        "list2.sort()\n",
        "list2"
      ],
      "metadata": {
        "colab": {
          "base_uri": "https://localhost:8080/"
        },
        "id": "r6jO3ixUxQdx",
        "outputId": "586fdd78-b30d-4009-cc0e-a7bd92e63068"
      },
      "execution_count": null,
      "outputs": [
        {
          "output_type": "execute_result",
          "data": {
            "text/plain": [
              "['#', '@', 'False', '_']"
            ]
          },
          "metadata": {},
          "execution_count": 1
        }
      ]
    },
    {
      "cell_type": "code",
      "source": [
        "ord(\"@\")"
      ],
      "metadata": {
        "colab": {
          "base_uri": "https://localhost:8080/"
        },
        "id": "Ze_noonmxpF5",
        "outputId": "6d4314bd-91fc-4987-9a05-691596857663"
      },
      "execution_count": null,
      "outputs": [
        {
          "output_type": "execute_result",
          "data": {
            "text/plain": [
              "64"
            ]
          },
          "metadata": {},
          "execution_count": 8
        }
      ]
    },
    {
      "cell_type": "code",
      "source": [
        "\"False\""
      ],
      "metadata": {
        "colab": {
          "base_uri": "https://localhost:8080/",
          "height": 35
        },
        "id": "DlW-mKogyE5G",
        "outputId": "c664a05c-17ff-47dd-e3e0-46ed6748208f"
      },
      "execution_count": null,
      "outputs": [
        {
          "output_type": "execute_result",
          "data": {
            "text/plain": [
              "'False'"
            ],
            "application/vnd.google.colaboratory.intrinsic+json": {
              "type": "string"
            }
          },
          "metadata": {},
          "execution_count": 5
        }
      ]
    },
    {
      "cell_type": "code",
      "source": [
        "ord(\"F\")"
      ],
      "metadata": {
        "colab": {
          "base_uri": "https://localhost:8080/"
        },
        "id": "KuRjYxNgyS57",
        "outputId": "58ad91df-8047-48d9-8898-ae117e28083d"
      },
      "execution_count": null,
      "outputs": [
        {
          "output_type": "execute_result",
          "data": {
            "text/plain": [
              "70"
            ]
          },
          "metadata": {},
          "execution_count": 6
        }
      ]
    },
    {
      "cell_type": "code",
      "source": [
        "ord(\"_\")"
      ],
      "metadata": {
        "colab": {
          "base_uri": "https://localhost:8080/"
        },
        "id": "xrseOzweyTOU",
        "outputId": "be782e1d-661d-44bc-ea84-e117b38caaae"
      },
      "execution_count": null,
      "outputs": [
        {
          "output_type": "execute_result",
          "data": {
            "text/plain": [
              "95"
            ]
          },
          "metadata": {},
          "execution_count": 7
        }
      ]
    },
    {
      "cell_type": "code",
      "source": [
        "# True False ord() olmaz\n",
        "list3 = [True, False]\n",
        "list3.sort()\n",
        "list3"
      ],
      "metadata": {
        "colab": {
          "base_uri": "https://localhost:8080/"
        },
        "id": "-ov1WlEbyUSX",
        "outputId": "e993cf0f-19a4-4d38-c6b3-47a24b64fd95"
      },
      "execution_count": null,
      "outputs": [
        {
          "output_type": "execute_result",
          "data": {
            "text/plain": [
              "[False, True]"
            ]
          },
          "metadata": {},
          "execution_count": 14
        }
      ]
    },
    {
      "cell_type": "code",
      "source": [
        "list4 = [[3],[44],[-12]]\n",
        "list4.sort()\n",
        "list4"
      ],
      "metadata": {
        "colab": {
          "base_uri": "https://localhost:8080/"
        },
        "id": "iv149cjAyq2v",
        "outputId": "fc15c030-487b-478b-bb48-6be5cf0b0c93"
      },
      "execution_count": null,
      "outputs": [
        {
          "output_type": "execute_result",
          "data": {
            "text/plain": [
              "[[-12], [3], [44]]"
            ]
          },
          "metadata": {},
          "execution_count": 13
        }
      ]
    },
    {
      "cell_type": "code",
      "source": [
        "# sort ederken liste içindeki ilk karaktere bakar\n",
        "list5 = [[1,3], [44, -40], [-12,1]]\n",
        "list5.sort()\n",
        "list5"
      ],
      "metadata": {
        "colab": {
          "base_uri": "https://localhost:8080/"
        },
        "id": "7laLmtbCy2lE",
        "outputId": "562f2ae0-60b4-4557-ce65-f4cbdf45eaec"
      },
      "execution_count": null,
      "outputs": [
        {
          "output_type": "execute_result",
          "data": {
            "text/plain": [
              "[[-12, 1], [1, 3], [44, -40]]"
            ]
          },
          "metadata": {},
          "execution_count": 15
        }
      ]
    },
    {
      "cell_type": "code",
      "source": [],
      "metadata": {
        "id": "aDCsFU7IzXc4"
      },
      "execution_count": null,
      "outputs": []
    }
  ]
}