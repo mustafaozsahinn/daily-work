{
  "nbformat": 4,
  "nbformat_minor": 0,
  "metadata": {
    "colab": {
      "provenance": [],
      "collapsed_sections": [],
      "authorship_tag": "ABX9TyNSyeRXEhuUoMsEAiuRsnI8",
      "include_colab_link": true
    },
    "kernelspec": {
      "name": "python3",
      "display_name": "Python 3"
    },
    "language_info": {
      "name": "python"
    }
  },
  "cells": [
    {
      "cell_type": "markdown",
      "metadata": {
        "id": "view-in-github",
        "colab_type": "text"
      },
      "source": [
        "<a href=\"https://colab.research.google.com/github/mustafaozsahinn/daily-work/blob/main/october_20.ipynb\" target=\"_parent\"><img src=\"https://colab.research.google.com/assets/colab-badge.svg\" alt=\"Open In Colab\"/></a>"
      ]
    },
    {
      "cell_type": "markdown",
      "source": [
        "Accessing List w3"
      ],
      "metadata": {
        "id": "LH4xoDG7Ypcg"
      }
    },
    {
      "cell_type": "code",
      "execution_count": 1,
      "metadata": {
        "colab": {
          "base_uri": "https://localhost:8080/",
          "height": 35
        },
        "id": "PyI53UuLXhe1",
        "outputId": "19495755-b90f-4b11-97a6-0fae113543ae"
      },
      "outputs": [
        {
          "output_type": "execute_result",
          "data": {
            "text/plain": [
              "'yellow'"
            ],
            "application/vnd.google.colaboratory.intrinsic+json": {
              "type": "string"
            }
          },
          "metadata": {},
          "execution_count": 1
        }
      ],
      "source": [
        "colours = [\"red\", \"purple\", \"blue\", \"yellow\", \"green\"]\n",
        "colours[3]"
      ]
    },
    {
      "cell_type": "code",
      "source": [
        "# value yi doğrudan liste olarak yazmakla variable ı yazmak aynı\n",
        "[\"red\", \"purple\", \"blue\", \"yellow\", \"green\"][3]"
      ],
      "metadata": {
        "colab": {
          "base_uri": "https://localhost:8080/",
          "height": 35
        },
        "id": "xhNewTm0bnO2",
        "outputId": "6ea909c3-5af9-400c-9545-0d58834b4156"
      },
      "execution_count": 2,
      "outputs": [
        {
          "output_type": "execute_result",
          "data": {
            "text/plain": [
              "'yellow'"
            ],
            "application/vnd.google.colaboratory.intrinsic+json": {
              "type": "string"
            }
          },
          "metadata": {},
          "execution_count": 2
        }
      ]
    },
    {
      "cell_type": "code",
      "source": [
        "colours = [\"red\", \"purple\", \"blue\", \"yellow\", \"green\"]\n",
        "colors = []\n",
        "colors.append(colours) # we have created a nested list (iç içe liste)\n",
        "print(colors)\n",
        "print(colors[0][2])\n",
        "print(colors[0][2][3]) # son çıktı da str formatında o yüzden \"a\" olduğunu bilelim."
      ],
      "metadata": {
        "colab": {
          "base_uri": "https://localhost:8080/"
        },
        "id": "q-jys1_GbqsC",
        "outputId": "cdd201ac-cb35-48c8-c19b-12d5c23e4d95"
      },
      "execution_count": 9,
      "outputs": [
        {
          "output_type": "stream",
          "name": "stdout",
          "text": [
            "[['red', 'purple', 'blue', 'yellow', 'green']]\n",
            "blue\n",
            "e\n"
          ]
        }
      ]
    },
    {
      "cell_type": "code",
      "source": [
        "thislist = [\"apple\", \"banana\", \"cherry\"]\n",
        "tropical = [\"mango\", \"pineapple\", \"papaya\"]\n",
        "\n",
        "thislist.append(tropical) # .append() sonuna ekler ama tek parça olarak alır koyar. iç içe liste olur.\n",
        "\n",
        "print(thislist)"
      ],
      "metadata": {
        "colab": {
          "base_uri": "https://localhost:8080/"
        },
        "id": "d2WLRP2RcDFS",
        "outputId": "61e10b87-3d30-42fc-c1bd-ca20b5c696c3"
      },
      "execution_count": 5,
      "outputs": [
        {
          "output_type": "stream",
          "name": "stdout",
          "text": [
            "['apple', 'banana', 'cherry', ['mango', 'pineapple', 'papaya']]\n"
          ]
        }
      ]
    },
    {
      "cell_type": "code",
      "source": [
        "thislist = [\"apple\", \"banana\", \"cherry\"]\n",
        "tropical = [\"mango\", \"pineapple\", \"papaya\"]\n",
        "\n",
        "thislist.extend(tropical) # extend() sonuna ekler ama normalde düzende ekler.\n",
        "\n",
        "print(thislist)"
      ],
      "metadata": {
        "colab": {
          "base_uri": "https://localhost:8080/"
        },
        "id": "GG91JBFqciLD",
        "outputId": "992eb053-9f69-485b-927a-c1f4618a2ffc"
      },
      "execution_count": 4,
      "outputs": [
        {
          "output_type": "stream",
          "name": "stdout",
          "text": [
            "['apple', 'banana', 'cherry', 'mango', 'pineapple', 'papaya']\n"
          ]
        }
      ]
    },
    {
      "cell_type": "code",
      "source": [
        "thislist = [\"apple\", \"banana\", \"cherry\"]\n",
        "thistuple = (\"kiwi\", \"orange\")\n",
        "\n",
        "thislist.extend(thistuple)  # extend() listenin içindekileri aynı şekilde ekler.\n",
        "\n",
        "print(thislist) \n"
      ],
      "metadata": {
        "colab": {
          "base_uri": "https://localhost:8080/"
        },
        "id": "RhxfabBsciGJ",
        "outputId": "96ff018a-61f8-4f8f-89c4-8df5824e7bf9"
      },
      "execution_count": 12,
      "outputs": [
        {
          "output_type": "stream",
          "name": "stdout",
          "text": [
            "['apple', 'banana', 'cherry', 'kiwi', 'orange']\n"
          ]
        }
      ]
    },
    {
      "cell_type": "code",
      "source": [
        "thislist = [\"apple\", \"banana\", \"cherry\"]\n",
        "thistuple = (\"kiwi\", \"orange\") \n",
        "\n",
        "thislist.append(thistuple) # append de listeyi ekler ancak () de ekler.\n",
        "\n",
        "print(thislist) \n"
      ],
      "metadata": {
        "colab": {
          "base_uri": "https://localhost:8080/"
        },
        "id": "MRlq7r_hch7L",
        "outputId": "f136e5b2-734d-438a-e30d-16f770e08dba"
      },
      "execution_count": 14,
      "outputs": [
        {
          "output_type": "stream",
          "name": "stdout",
          "text": [
            "['apple', 'banana', 'cherry', ('kiwi', 'orange')]\n"
          ]
        }
      ]
    },
    {
      "cell_type": "code",
      "source": [
        "type(thislist)"
      ],
      "metadata": {
        "colab": {
          "base_uri": "https://localhost:8080/"
        },
        "id": "yfs3kVtkdzYi",
        "outputId": "383a00aa-beec-4718-fe9f-48ac30f0f9fa"
      },
      "execution_count": 15,
      "outputs": [
        {
          "output_type": "execute_result",
          "data": {
            "text/plain": [
              "list"
            ]
          },
          "metadata": {},
          "execution_count": 15
        }
      ]
    },
    {
      "cell_type": "code",
      "source": [
        "type(thistuple) # () ile olan listeler tuple dır!"
      ],
      "metadata": {
        "colab": {
          "base_uri": "https://localhost:8080/"
        },
        "id": "EOlinkKpfslu",
        "outputId": "730b944c-3abd-4b7e-ad34-6dd455f1d2a6"
      },
      "execution_count": 16,
      "outputs": [
        {
          "output_type": "execute_result",
          "data": {
            "text/plain": [
              "tuple"
            ]
          },
          "metadata": {},
          "execution_count": 16
        }
      ]
    },
    {
      "cell_type": "markdown",
      "source": [
        "Slicing a List dersten"
      ],
      "metadata": {
        "id": "pdTuMMa8nVa3"
      }
    },
    {
      "cell_type": "code",
      "source": [
        "range(1, 11, 1) # range() belirli bir aralığı alır ve başlangıç, son -dahil değil- ve sıklık gelir."
      ],
      "metadata": {
        "colab": {
          "base_uri": "https://localhost:8080/"
        },
        "id": "_5xMjy3kfwIQ",
        "outputId": "7bff608e-315b-482a-fa62-feb607496736"
      },
      "execution_count": 1,
      "outputs": [
        {
          "output_type": "execute_result",
          "data": {
            "text/plain": [
              "range(1, 11)"
            ]
          },
          "metadata": {},
          "execution_count": 1
        }
      ]
    },
    {
      "cell_type": "code",
      "source": [
        "numbers = list(range(1, 11))\n",
        "numbers"
      ],
      "metadata": {
        "colab": {
          "base_uri": "https://localhost:8080/"
        },
        "id": "2HNLmmEwm3k2",
        "outputId": "8197308c-8be5-428d-87ba-81c683e65cb9"
      },
      "execution_count": 2,
      "outputs": [
        {
          "output_type": "execute_result",
          "data": {
            "text/plain": [
              "[1, 2, 3, 4, 5, 6, 7, 8, 9, 10]"
            ]
          },
          "metadata": {},
          "execution_count": 2
        }
      ]
    },
    {
      "cell_type": "code",
      "source": [
        "odd_numbers = list(range(1, 11, 2))\n",
        "odd_numbers"
      ],
      "metadata": {
        "colab": {
          "base_uri": "https://localhost:8080/"
        },
        "id": "mOZZ5VYJoMRl",
        "outputId": "5056cdea-e4e1-4b92-851c-7e61b0f0683b"
      },
      "execution_count": 4,
      "outputs": [
        {
          "output_type": "execute_result",
          "data": {
            "text/plain": [
              "[1, 3, 5, 7, 9]"
            ]
          },
          "metadata": {},
          "execution_count": 4
        }
      ]
    },
    {
      "cell_type": "code",
      "source": [
        "x = range(7) # tek rakam yazarsak stop olarak alır.\n",
        "print(x)\n",
        "print(list(x))"
      ],
      "metadata": {
        "colab": {
          "base_uri": "https://localhost:8080/"
        },
        "id": "nZWqmm-Johr1",
        "outputId": "55d143c6-bccf-43f0-dad8-3257d58b7c3c"
      },
      "execution_count": 7,
      "outputs": [
        {
          "output_type": "stream",
          "name": "stdout",
          "text": [
            "range(0, 7)\n",
            "[0, 1, 2, 3, 4, 5, 6]\n"
          ]
        }
      ]
    },
    {
      "cell_type": "code",
      "source": [
        "animals = [\"bear\", \"fox\", \"wolf\", \"deer\", \"girafee\"]\n",
        "print(animals[:]) # [:] demek hepsi demektir\n",
        "print(animals[:3]) # baştan 3e kadar git 3ü alma\n",
        "print(animals[3:]) # 3ten sona"
      ],
      "metadata": {
        "colab": {
          "base_uri": "https://localhost:8080/"
        },
        "id": "vi1eddlvo-kl",
        "outputId": "611b05fe-a706-4262-bfe8-4d3f37aec27d"
      },
      "execution_count": 13,
      "outputs": [
        {
          "output_type": "stream",
          "name": "stdout",
          "text": [
            "['bear', 'fox', 'wolf', 'deer', 'girafee']\n",
            "['bear', 'fox', 'wolf']\n",
            "['deer', 'girafee']\n"
          ]
        }
      ]
    },
    {
      "cell_type": "code",
      "source": [
        "mix_list = [1, [1, \"one\", 2, \"two\", 3, \"three\"], 4]\n",
        "print(mix_list[1][1::2]) # index diye bir method yok sadece [x] kullanılır.arka arkaya kullanılmasında mahsur yok."
      ],
      "metadata": {
        "colab": {
          "base_uri": "https://localhost:8080/"
        },
        "id": "GFV_bZjKrwjo",
        "outputId": "41c4f5ca-e3ec-442c-dfd1-44fb5119c1a4"
      },
      "execution_count": 21,
      "outputs": [
        {
          "output_type": "stream",
          "name": "stdout",
          "text": [
            "['one', 'two', 'three']\n"
          ]
        }
      ]
    },
    {
      "cell_type": "code",
      "source": [
        "x = list(range(10))\n",
        "print(x[::-1])"
      ],
      "metadata": {
        "colab": {
          "base_uri": "https://localhost:8080/"
        },
        "id": "_zXzx36xsZ3j",
        "outputId": "ecbd12c3-8cd7-43f4-985d-c7ec501fdd26"
      },
      "execution_count": 23,
      "outputs": [
        {
          "output_type": "stream",
          "name": "stdout",
          "text": [
            "[9, 8, 7, 6, 5, 4, 3, 2, 1, 0]\n"
          ]
        }
      ]
    },
    {
      "cell_type": "markdown",
      "source": [
        "Tuples"
      ],
      "metadata": {
        "id": "o1QNd1M65Vn5"
      }
    },
    {
      "cell_type": "code",
      "source": [
        "# tuple list e göre daha küçük yer kaplar. o yüzden hızlıdır."
      ],
      "metadata": {
        "id": "Gl6Faby4t2ra"
      },
      "execution_count": 24,
      "outputs": []
    },
    {
      "cell_type": "code",
      "source": [
        "import sys\n",
        "x = [1, 2, 3]\n",
        "y = (1, 2, 3)"
      ],
      "metadata": {
        "id": "eKdoYAhs7WGE"
      },
      "execution_count": 25,
      "outputs": []
    },
    {
      "cell_type": "code",
      "source": [
        "print(sys.getsizeof(x))\n",
        "print(sys.getsizeof(y))"
      ],
      "metadata": {
        "colab": {
          "base_uri": "https://localhost:8080/"
        },
        "id": "Rc65C_FT7exr",
        "outputId": "95902531-fedb-4a9f-aa46-fb8ce2499801"
      },
      "execution_count": 37,
      "outputs": [
        {
          "output_type": "stream",
          "name": "stdout",
          "text": [
            "96\n",
            "80\n"
          ]
        }
      ]
    },
    {
      "cell_type": "code",
      "source": [
        "my_tuple = (\"Solar\")  # tek eleman olduğu için str olur, tuple olmaz\n",
        "print(my_tuple, type(my_tuple), sep=\"\\n\")"
      ],
      "metadata": {
        "colab": {
          "base_uri": "https://localhost:8080/"
        },
        "id": "Om_j8JBN7ihp",
        "outputId": "42f3efda-f3fc-45c3-f18d-8881fc3458c8"
      },
      "execution_count": 29,
      "outputs": [
        {
          "output_type": "stream",
          "name": "stdout",
          "text": [
            "Solar\n",
            "<class 'str'>\n"
          ]
        }
      ]
    },
    {
      "cell_type": "code",
      "source": [
        "solar = \"sun\", \"earth\"\n",
        "print(solar, type(solar), sep=\"\\n\")"
      ],
      "metadata": {
        "colab": {
          "base_uri": "https://localhost:8080/"
        },
        "id": "EM6fsRx58ICQ",
        "outputId": "fd934ed2-95fe-4c1e-81b9-34490bb684a8"
      },
      "execution_count": 33,
      "outputs": [
        {
          "output_type": "stream",
          "name": "stdout",
          "text": [
            "('sun', 'earth')\n",
            "<class 'tuple'>\n"
          ]
        }
      ]
    },
    {
      "cell_type": "code",
      "source": [
        "my_tuple = (1 ,2, 4, 3, 5)  #tuple list e çevirlip içine ekleme çıkarma yapılabilir.\n",
        "my_list = list(my_tuple)\n",
        "print(type(my_list), my_list)"
      ],
      "metadata": {
        "colab": {
          "base_uri": "https://localhost:8080/"
        },
        "id": "71iOeiBF8Ul4",
        "outputId": "49bbc541-5e89-41e5-f919-54d782df3b47"
      },
      "execution_count": 35,
      "outputs": [
        {
          "output_type": "stream",
          "name": "stdout",
          "text": [
            "<class 'list'> [1, 2, 4, 3, 5]\n"
          ]
        }
      ]
    },
    {
      "cell_type": "code",
      "source": [
        "x = 1, 2, 3\n",
        "x"
      ],
      "metadata": {
        "colab": {
          "base_uri": "https://localhost:8080/"
        },
        "id": "qUNRONeg8tF5",
        "outputId": "6ea8e016-bb60-4312-ec5f-e1557418a496"
      },
      "execution_count": 39,
      "outputs": [
        {
          "output_type": "execute_result",
          "data": {
            "text/plain": [
              "(1, 2, 3)"
            ]
          },
          "metadata": {},
          "execution_count": 39
        }
      ]
    },
    {
      "cell_type": "code",
      "source": [
        "a, b, c = 1, 2, 3"
      ],
      "metadata": {
        "id": "B9DjxJTj9J-i"
      },
      "execution_count": 40,
      "outputs": []
    }
  ]
}