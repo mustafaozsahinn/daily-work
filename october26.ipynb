{
  "nbformat": 4,
  "nbformat_minor": 0,
  "metadata": {
    "colab": {
      "provenance": [],
      "collapsed_sections": [],
      "authorship_tag": "ABX9TyPiTpv+jhNGvn9vZJ0WyTbU",
      "include_colab_link": true
    },
    "kernelspec": {
      "name": "python3",
      "display_name": "Python 3"
    },
    "language_info": {
      "name": "python"
    }
  },
  "cells": [
    {
      "cell_type": "markdown",
      "metadata": {
        "id": "view-in-github",
        "colab_type": "text"
      },
      "source": [
        "<a href=\"https://colab.research.google.com/github/mustafaozsahinn/daily-work/blob/main/october26.ipynb\" target=\"_parent\"><img src=\"https://colab.research.google.com/assets/colab-badge.svg\" alt=\"Open In Colab\"/></a>"
      ]
    },
    {
      "cell_type": "markdown",
      "source": [
        "# Set"
      ],
      "metadata": {
        "id": "DoVqBSkbg2ns"
      }
    },
    {
      "cell_type": "code",
      "execution_count": null,
      "metadata": {
        "id": "DgMxrEApO2I1"
      },
      "outputs": [],
      "source": [
        "# no repetititon - unique\n",
        "# unordered\n",
        "# math operation\n",
        "# - union u\n",
        "# - intersection n\n",
        "# - difference /"
      ]
    },
    {
      "cell_type": "code",
      "source": [
        "# list []\n",
        "# tuple () ,\n",
        "# dict {:} ve dict()\n",
        "# set {} ve set()"
      ],
      "metadata": {
        "id": "teqF02YRTSGA"
      },
      "execution_count": null,
      "outputs": []
    },
    {
      "cell_type": "code",
      "source": [
        "set1 = {\"red\", \"blue\", \"pink\", \"red\", \"white\", \"blue\", \"purple\"}\n",
        "colours = \"red\", \"blue\", \"pink\", \"red\", \"white\", \"blue\", \"purple\"\n",
        "set2 = set(colours)\n",
        "print(set1)\n",
        "print(set2)\n",
        "print(type(set1))\n",
        "print(type(colours))"
      ],
      "metadata": {
        "colab": {
          "base_uri": "https://localhost:8080/"
        },
        "id": "QeYBdpewUKfN",
        "outputId": "1d00b6d2-cf7c-4abc-cdf3-9287b6db5d27"
      },
      "execution_count": null,
      "outputs": [
        {
          "output_type": "stream",
          "name": "stdout",
          "text": [
            "{'blue', 'red', 'purple', 'white', 'pink'}\n",
            "{'blue', 'red', 'purple', 'white', 'pink'}\n",
            "<class 'set'>\n",
            "<class 'tuple'>\n"
          ]
        }
      ]
    },
    {
      "cell_type": "code",
      "source": [
        "null_set = {}\n",
        "print(null_set)\n",
        "# fonksiyonu set() kullanmak zorundayız set type ettirmek için\n",
        "print(type(null_set)) "
      ],
      "metadata": {
        "colab": {
          "base_uri": "https://localhost:8080/"
        },
        "id": "1n9bkrK0UO_z",
        "outputId": "0f9aee89-8de4-449a-b249-5c5251f45eea"
      },
      "execution_count": null,
      "outputs": [
        {
          "output_type": "stream",
          "name": "stdout",
          "text": [
            "{}\n",
            "<class 'dict'>\n"
          ]
        }
      ]
    },
    {
      "cell_type": "code",
      "source": [
        "first_k = {1, 1, 2, 0, 1}\n",
        "print(first_k)"
      ],
      "metadata": {
        "colab": {
          "base_uri": "https://localhost:8080/"
        },
        "id": "Z1Ftzk9NVPmE",
        "outputId": "59029696-4d19-47c8-c5f7-bb30da24314b"
      },
      "execution_count": null,
      "outputs": [
        {
          "output_type": "stream",
          "name": "stdout",
          "text": [
            "{0, 1, 2}\n"
          ]
        }
      ]
    },
    {
      "cell_type": "code",
      "source": [
        "len([1, 1, 2, 0, 1])"
      ],
      "metadata": {
        "colab": {
          "base_uri": "https://localhost:8080/"
        },
        "id": "ByTtavh-XS1E",
        "outputId": "38fdd308-a8a4-4100-f249-e117c444c8c8"
      },
      "execution_count": null,
      "outputs": [
        {
          "output_type": "execute_result",
          "data": {
            "text/plain": [
              "5"
            ]
          },
          "metadata": {},
          "execution_count": 6
        }
      ]
    },
    {
      "cell_type": "code",
      "source": [
        "len({1, 1, 2, 0, 1})"
      ],
      "metadata": {
        "colab": {
          "base_uri": "https://localhost:8080/"
        },
        "id": "gxyPCgnRXbNr",
        "outputId": "4bb09f7d-a507-4189-c57e-2a7697951085"
      },
      "execution_count": null,
      "outputs": [
        {
          "output_type": "execute_result",
          "data": {
            "text/plain": [
              "3"
            ]
          },
          "metadata": {},
          "execution_count": 7
        }
      ]
    },
    {
      "cell_type": "code",
      "source": [
        "letters = \"a b c d e f g h ı j k l m n o p q r s t u v x w y z\".split()\n",
        "print(letters)"
      ],
      "metadata": {
        "colab": {
          "base_uri": "https://localhost:8080/"
        },
        "id": "fMo2rNVxXjq_",
        "outputId": "86ef618f-fee2-41ae-a916-e5423487290a"
      },
      "execution_count": null,
      "outputs": [
        {
          "output_type": "stream",
          "name": "stdout",
          "text": [
            "['a', 'b', 'c', 'd', 'e', 'f', 'g', 'h', 'ı', 'j', 'k', 'l', 'm', 'n', 'o', 'p', 'q', 'r', 's', 't', 'u', 'v', 'x', 'w', 'y', 'z']\n"
          ]
        }
      ]
    },
    {
      "cell_type": "code",
      "source": [
        "print(set(letters))"
      ],
      "metadata": {
        "colab": {
          "base_uri": "https://localhost:8080/"
        },
        "id": "C5bJby5eYGGZ",
        "outputId": "b5be5a19-ce79-4919-f23a-595f429eae6c"
      },
      "execution_count": null,
      "outputs": [
        {
          "output_type": "stream",
          "name": "stdout",
          "text": [
            "{'c', 'o', 'q', 'u', 'g', 'y', 'k', 'a', 'l', 'b', 't', 'j', 'm', 'h', 'w', 's', 'x', 'p', 'ı', 'e', 'r', 'n', 'd', 'v', 'z', 'f'}\n"
          ]
        }
      ]
    },
    {
      "cell_type": "code",
      "source": [
        "something = {1, \"1\", 1.0, True, not False, 0, False, not True, \"0\"}\n",
        "len(something)"
      ],
      "metadata": {
        "colab": {
          "base_uri": "https://localhost:8080/"
        },
        "id": "Kn22Pat8YZx0",
        "outputId": "e5f6ac03-5c2f-4182-cdd5-d12555c58edf"
      },
      "execution_count": null,
      "outputs": [
        {
          "output_type": "execute_result",
          "data": {
            "text/plain": [
              "4"
            ]
          },
          "metadata": {},
          "execution_count": 10
        }
      ]
    },
    {
      "cell_type": "code",
      "source": [
        "given_list = [1, 2, 3, 4, 5]\n",
        "kume = {given_list}\n",
        "# list değişken olduğu için hash değeri olmaz.\n",
        "# hash değeri olmadığı için de çalışmaz"
      ],
      "metadata": {
        "colab": {
          "base_uri": "https://localhost:8080/",
          "height": 218
        },
        "id": "xTYrIbP4Y15C",
        "outputId": "7744ef60-3d51-410e-914d-82897f659675"
      },
      "execution_count": null,
      "outputs": [
        {
          "output_type": "error",
          "ename": "TypeError",
          "evalue": "ignored",
          "traceback": [
            "\u001b[0;31m---------------------------------------------------------------------------\u001b[0m",
            "\u001b[0;31mTypeError\u001b[0m                                 Traceback (most recent call last)",
            "\u001b[0;32m<ipython-input-11-4607778753b0>\u001b[0m in \u001b[0;36m<module>\u001b[0;34m\u001b[0m\n\u001b[1;32m      1\u001b[0m \u001b[0mgiven_list\u001b[0m \u001b[0;34m=\u001b[0m \u001b[0;34m[\u001b[0m\u001b[0;36m1\u001b[0m\u001b[0;34m,\u001b[0m \u001b[0;36m2\u001b[0m\u001b[0;34m,\u001b[0m \u001b[0;36m3\u001b[0m\u001b[0;34m,\u001b[0m \u001b[0;36m4\u001b[0m\u001b[0;34m,\u001b[0m \u001b[0;36m5\u001b[0m\u001b[0;34m]\u001b[0m\u001b[0;34m\u001b[0m\u001b[0;34m\u001b[0m\u001b[0m\n\u001b[0;32m----> 2\u001b[0;31m \u001b[0mkume\u001b[0m \u001b[0;34m=\u001b[0m \u001b[0;34m{\u001b[0m\u001b[0mgiven_list\u001b[0m\u001b[0;34m}\u001b[0m\u001b[0;34m\u001b[0m\u001b[0;34m\u001b[0m\u001b[0m\n\u001b[0m\u001b[1;32m      3\u001b[0m \u001b[0;31m# list değişken olduğu için hash değeri olmaz.\u001b[0m\u001b[0;34m\u001b[0m\u001b[0;34m\u001b[0m\u001b[0;34m\u001b[0m\u001b[0m\n\u001b[1;32m      4\u001b[0m \u001b[0;31m# hash değeri olmadığı için de çalışmaz\u001b[0m\u001b[0;34m\u001b[0m\u001b[0;34m\u001b[0m\u001b[0;34m\u001b[0m\u001b[0m\n",
            "\u001b[0;31mTypeError\u001b[0m: unhashable type: 'list'"
          ]
        }
      ]
    },
    {
      "cell_type": "code",
      "source": [
        "# set ile çalışır\n",
        "given_list = [1, 2, 3, 4, 5]\n",
        "set(given_list)"
      ],
      "metadata": {
        "colab": {
          "base_uri": "https://localhost:8080/"
        },
        "id": "gSS26H1EaVd_",
        "outputId": "a7b3bdc5-1b56-4f45-c5a6-59af0d0ad4d9"
      },
      "execution_count": null,
      "outputs": [
        {
          "output_type": "execute_result",
          "data": {
            "text/plain": [
              "{1, 2, 3, 4, 5}"
            ]
          },
          "metadata": {},
          "execution_count": 12
        }
      ]
    },
    {
      "cell_type": "code",
      "source": [
        "# set() içinde parantezsiz tuple çalışmaz. çünkü , sonrasını parametre olarak algılıyor.\n",
        "set(1, 2, 3)"
      ],
      "metadata": {
        "id": "cDTIPZj_fCes",
        "colab": {
          "base_uri": "https://localhost:8080/",
          "height": 183
        },
        "outputId": "fa884fec-6d33-464e-8366-8ef84d6fd2c3"
      },
      "execution_count": null,
      "outputs": [
        {
          "output_type": "error",
          "ename": "TypeError",
          "evalue": "ignored",
          "traceback": [
            "\u001b[0;31m---------------------------------------------------------------------------\u001b[0m",
            "\u001b[0;31mTypeError\u001b[0m                                 Traceback (most recent call last)",
            "\u001b[0;32m<ipython-input-13-8e3c0bb48bc9>\u001b[0m in \u001b[0;36m<module>\u001b[0;34m\u001b[0m\n\u001b[1;32m      1\u001b[0m \u001b[0;31m# set() içinde parantezsiz tuple çalışmaz. çünkü , sonrasını parametre olarak algılıyor.\u001b[0m\u001b[0;34m\u001b[0m\u001b[0;34m\u001b[0m\u001b[0;34m\u001b[0m\u001b[0m\n\u001b[0;32m----> 2\u001b[0;31m \u001b[0mset\u001b[0m\u001b[0;34m(\u001b[0m\u001b[0;36m1\u001b[0m\u001b[0;34m,\u001b[0m \u001b[0;36m2\u001b[0m\u001b[0;34m,\u001b[0m \u001b[0;36m3\u001b[0m\u001b[0;34m)\u001b[0m\u001b[0;34m\u001b[0m\u001b[0;34m\u001b[0m\u001b[0m\n\u001b[0m",
            "\u001b[0;31mTypeError\u001b[0m: set expected at most 1 arguments, got 3"
          ]
        }
      ]
    },
    {
      "cell_type": "code",
      "source": [
        "len({True, not True, False, 1, 0, 1.0})"
      ],
      "metadata": {
        "colab": {
          "base_uri": "https://localhost:8080/"
        },
        "id": "9BkeM1faaszG",
        "outputId": "54746394-8acd-44e9-8ea0-86c94c2835a2"
      },
      "execution_count": null,
      "outputs": [
        {
          "output_type": "execute_result",
          "data": {
            "text/plain": [
              "2"
            ]
          },
          "metadata": {},
          "execution_count": 14
        }
      ]
    },
    {
      "cell_type": "code",
      "source": [
        "mylist = [[1,2,3], \"a\", 1, 1.0, {6, 7, 8}]\n",
        "myset = set(mylist)\n",
        "# hata verir, çünkü liste var.\n",
        "# liste kümenin elemanı olamaz çünkü unhashable.\n",
        "# dict de aynı şekilde."
      ],
      "metadata": {
        "colab": {
          "base_uri": "https://localhost:8080/",
          "height": 235
        },
        "id": "vU6S_okxeOd3",
        "outputId": "e88a3941-4861-44a0-fb75-87062e61da84"
      },
      "execution_count": null,
      "outputs": [
        {
          "output_type": "error",
          "ename": "TypeError",
          "evalue": "ignored",
          "traceback": [
            "\u001b[0;31m---------------------------------------------------------------------------\u001b[0m",
            "\u001b[0;31mTypeError\u001b[0m                                 Traceback (most recent call last)",
            "\u001b[0;32m<ipython-input-15-3426d50f2675>\u001b[0m in \u001b[0;36m<module>\u001b[0;34m\u001b[0m\n\u001b[1;32m      1\u001b[0m \u001b[0mmylist\u001b[0m \u001b[0;34m=\u001b[0m \u001b[0;34m[\u001b[0m\u001b[0;34m[\u001b[0m\u001b[0;36m1\u001b[0m\u001b[0;34m,\u001b[0m\u001b[0;36m2\u001b[0m\u001b[0;34m,\u001b[0m\u001b[0;36m3\u001b[0m\u001b[0;34m]\u001b[0m\u001b[0;34m,\u001b[0m \u001b[0;34m\"a\"\u001b[0m\u001b[0;34m,\u001b[0m \u001b[0;36m1\u001b[0m\u001b[0;34m,\u001b[0m \u001b[0;36m1.0\u001b[0m\u001b[0;34m,\u001b[0m \u001b[0;34m{\u001b[0m\u001b[0;36m6\u001b[0m\u001b[0;34m,\u001b[0m \u001b[0;36m7\u001b[0m\u001b[0;34m,\u001b[0m \u001b[0;36m8\u001b[0m\u001b[0;34m}\u001b[0m\u001b[0;34m]\u001b[0m\u001b[0;34m\u001b[0m\u001b[0;34m\u001b[0m\u001b[0m\n\u001b[0;32m----> 2\u001b[0;31m \u001b[0mmyset\u001b[0m \u001b[0;34m=\u001b[0m \u001b[0mset\u001b[0m\u001b[0;34m(\u001b[0m\u001b[0mmylist\u001b[0m\u001b[0;34m)\u001b[0m\u001b[0;34m\u001b[0m\u001b[0;34m\u001b[0m\u001b[0m\n\u001b[0m\u001b[1;32m      3\u001b[0m \u001b[0;31m# hata verir, çünkü liste var.\u001b[0m\u001b[0;34m\u001b[0m\u001b[0;34m\u001b[0m\u001b[0;34m\u001b[0m\u001b[0m\n\u001b[1;32m      4\u001b[0m \u001b[0;31m# liste kümenin elemanı olamaz çünkü unhashable.\u001b[0m\u001b[0;34m\u001b[0m\u001b[0;34m\u001b[0m\u001b[0;34m\u001b[0m\u001b[0m\n\u001b[1;32m      5\u001b[0m \u001b[0;31m# dict de aynı şekilde.\u001b[0m\u001b[0;34m\u001b[0m\u001b[0;34m\u001b[0m\u001b[0;34m\u001b[0m\u001b[0m\n",
            "\u001b[0;31mTypeError\u001b[0m: unhashable type: 'list'"
          ]
        }
      ]
    },
    {
      "cell_type": "markdown",
      "source": [
        "Main Operations with Sets"
      ],
      "metadata": {
        "id": "l1fUvR5_gs6l"
      }
    },
    {
      "cell_type": "code",
      "source": [
        "a = set(\"philadelphia\")\n",
        "b = set(\"dolphin\")\n",
        "print(a.intersection(b))\n",
        "print(a & b)\n",
        "print(a.difference(b))\n",
        "print(a-b)\n",
        "print(b-a)\n",
        "print(a.union(b))\n",
        "print(a | b)"
      ],
      "metadata": {
        "colab": {
          "base_uri": "https://localhost:8080/"
        },
        "id": "DQgbvK-FeOY3",
        "outputId": "3986ff76-58cc-4288-e085-2a5e33f684e0"
      },
      "execution_count": null,
      "outputs": [
        {
          "output_type": "stream",
          "name": "stdout",
          "text": [
            "{'l', 'p', 'd', 'i', 'h'}\n",
            "{'l', 'p', 'd', 'i', 'h'}\n",
            "{'e', 'a'}\n",
            "{'e', 'a'}\n",
            "{'o', 'n'}\n",
            "{'a', 'o', 'l', 'n', 'p', 'd', 'h', 'e', 'i'}\n",
            "{'a', 'o', 'l', 'n', 'p', 'd', 'h', 'e', 'i'}\n"
          ]
        }
      ]
    },
    {
      "cell_type": "code",
      "source": [
        "set1 = set(\"dolphin\")\n",
        "set2 = {\"dolphin\"}\n",
        "set3 = {\"d\", \"o\"}\n",
        "print(set1)\n",
        "print(set2)\n",
        "print(set3)"
      ],
      "metadata": {
        "colab": {
          "base_uri": "https://localhost:8080/"
        },
        "id": "lG_LKGDneOWP",
        "outputId": "b03a92b3-6446-4274-9cee-21ecbb6002b1"
      },
      "execution_count": null,
      "outputs": [
        {
          "output_type": "stream",
          "name": "stdout",
          "text": [
            "{'o', 'l', 'n', 'p', 'd', 'i', 'h'}\n",
            "{'dolphin'}\n",
            "{'o', 'd'}\n"
          ]
        }
      ]
    },
    {
      "cell_type": "code",
      "source": [
        "mylist = [1, 2, 3, 3, 3, 3, 3, 4, 4, 5, 5]\n",
        "print(set(mylist))"
      ],
      "metadata": {
        "colab": {
          "base_uri": "https://localhost:8080/"
        },
        "id": "FIjVOWTEeOTo",
        "outputId": "9c70f0a2-af43-4f7b-d28f-54b41c22e6a1"
      },
      "execution_count": null,
      "outputs": [
        {
          "output_type": "stream",
          "name": "stdout",
          "text": [
            "{1, 2, 3, 4, 5}\n"
          ]
        }
      ]
    },
    {
      "cell_type": "code",
      "source": [
        "a = set(\"Washington\")\n",
        "b = set(\"Wellington\")\n",
        "print(a - b)\n",
        "print(b - a)\n",
        "print(a | b)\n",
        "print(a & b)"
      ],
      "metadata": {
        "colab": {
          "base_uri": "https://localhost:8080/"
        },
        "id": "j993eO5UeOQ0",
        "outputId": "4111a117-8ff6-452c-c88c-0946df5ac542"
      },
      "execution_count": null,
      "outputs": [
        {
          "output_type": "stream",
          "name": "stdout",
          "text": [
            "{'s', 'a', 'h'}\n",
            "{'l', 'e'}\n",
            "{'a', 's', 'o', 'l', 'n', 'h', 'g', 't', 'W', 'e', 'i'}\n",
            "{'o', 'n', 'g', 't', 'W', 'i'}\n"
          ]
        }
      ]
    },
    {
      "cell_type": "code",
      "source": [
        "print(a)\n",
        "a.difference_update(b)\n",
        "print(a)"
      ],
      "metadata": {
        "colab": {
          "base_uri": "https://localhost:8080/"
        },
        "id": "YSuMIjyneON8",
        "outputId": "66061377-8ecf-490d-962f-418ab2ddceb8"
      },
      "execution_count": null,
      "outputs": [
        {
          "output_type": "stream",
          "name": "stdout",
          "text": [
            "{'a', 's', 'o', 'n', 'h', 'g', 't', 'W', 'i'}\n",
            "{'a', 's', 'h'}\n"
          ]
        }
      ]
    },
    {
      "cell_type": "code",
      "source": [
        "print(b)\n",
        "b.intersection_update(a)"
      ],
      "metadata": {
        "colab": {
          "base_uri": "https://localhost:8080/"
        },
        "id": "FCnfegNh_uJo",
        "outputId": "147b2c08-b630-458c-cc65-b87d686346f6"
      },
      "execution_count": null,
      "outputs": [
        {
          "output_type": "stream",
          "name": "stdout",
          "text": [
            "{'o', 'l', 'n', 'g', 't', 'W', 'e', 'i'}\n"
          ]
        }
      ]
    },
    {
      "cell_type": "code",
      "source": [
        "c = set(\"istanbul\")\n",
        "c.discard(\"i\")\n",
        "print(c)"
      ],
      "metadata": {
        "colab": {
          "base_uri": "https://localhost:8080/"
        },
        "id": "1aJ8vD4FsWcV",
        "outputId": "96cebcaf-582b-49b3-f2c4-dee1e31fcf13"
      },
      "execution_count": null,
      "outputs": [
        {
          "output_type": "stream",
          "name": "stdout",
          "text": [
            "{'a', 's', 'l', 'n', 'u', 'b', 't'}\n"
          ]
        }
      ]
    },
    {
      "cell_type": "code",
      "source": [
        "c.add(\"i\")\n",
        "print(c)"
      ],
      "metadata": {
        "colab": {
          "base_uri": "https://localhost:8080/"
        },
        "id": "BSgB-nD7AAqb",
        "outputId": "68a65d09-060c-4c55-dcb4-2583bfe1a930"
      },
      "execution_count": null,
      "outputs": [
        {
          "output_type": "stream",
          "name": "stdout",
          "text": [
            "{'a', 's', 'l', 'n', 'u', 'b', 't', 'i'}\n"
          ]
        }
      ]
    },
    {
      "cell_type": "code",
      "source": [
        "d = set(\"ordu\")\n",
        "print(c.issuperset(d))\n",
        "print(c.issubset(d))"
      ],
      "metadata": {
        "colab": {
          "base_uri": "https://localhost:8080/"
        },
        "id": "vhBG5y05AO5N",
        "outputId": "c5142be9-bfc8-44c5-cb1f-73d84a9c1708"
      },
      "execution_count": null,
      "outputs": [
        {
          "output_type": "stream",
          "name": "stdout",
          "text": [
            "False\n",
            "False\n"
          ]
        }
      ]
    },
    {
      "cell_type": "code",
      "source": [
        "# bileşim kümesi gibi\n",
        "c.symmetric_difference(d)\n",
        "print(c)"
      ],
      "metadata": {
        "colab": {
          "base_uri": "https://localhost:8080/"
        },
        "id": "vFb7Z5DUAO3S",
        "outputId": "3dc8b510-70d1-4eae-8151-86d6db97a3d3"
      },
      "execution_count": null,
      "outputs": [
        {
          "output_type": "stream",
          "name": "stdout",
          "text": [
            "{'a', 's', 'l', 'n', 'b', 't', 'i'}\n"
          ]
        }
      ]
    },
    {
      "cell_type": "code",
      "source": [
        "# bileşiöi update ediyor\n",
        "c.symmetric_difference_update(d)\n",
        "print(c)"
      ],
      "metadata": {
        "colab": {
          "base_uri": "https://localhost:8080/"
        },
        "id": "zwAXYgwEAO0l",
        "outputId": "938c4771-f16e-4b58-e65b-8952a2357f8e"
      },
      "execution_count": null,
      "outputs": [
        {
          "output_type": "stream",
          "name": "stdout",
          "text": [
            "{'a', 's', 'l', 'o', 'r', 'n', 'u', 'b', 'd', 't', 'i'}\n"
          ]
        }
      ]
    },
    {
      "cell_type": "code",
      "source": [
        "fruits = {\"apple\", \"banana\", \"cherry\"}\n",
        "more_fruits = (\"orange\", \"mango\", \"grapes\", \"banana\")\n",
        "fruits.update(more_fruits)\n",
        "fruits"
      ],
      "metadata": {
        "colab": {
          "base_uri": "https://localhost:8080/"
        },
        "id": "cLgcKszqbDoP",
        "outputId": "6c6446c2-476a-4a37-a89f-09b293161f1b"
      },
      "execution_count": null,
      "outputs": [
        {
          "output_type": "execute_result",
          "data": {
            "text/plain": [
              "{'apple', 'banana', 'cherry', 'grapes', 'mango', 'orange'}"
            ]
          },
          "metadata": {},
          "execution_count": 50
        }
      ]
    },
    {
      "cell_type": "markdown",
      "source": [
        "# Control Flow Statements"
      ],
      "metadata": {
        "id": "tejCytbUu-Ir"
      }
    },
    {
      "cell_type": "markdown",
      "source": [
        "if"
      ],
      "metadata": {
        "id": "42AV0PrWvFD5"
      }
    },
    {
      "cell_type": "code",
      "source": [
        "bool(0 or \"False\" and None)"
      ],
      "metadata": {
        "id": "hq2pEG2evCK_"
      },
      "execution_count": null,
      "outputs": []
    },
    {
      "cell_type": "code",
      "source": [
        "if True:\n",
        "  print(\"a\")\n",
        "  print(\"b\")"
      ],
      "metadata": {
        "id": "FZ9WwZvs0-DE"
      },
      "execution_count": null,
      "outputs": []
    },
    {
      "cell_type": "code",
      "source": [],
      "metadata": {
        "id": "HWlyZ7RI5uB8"
      },
      "execution_count": null,
      "outputs": []
    }
  ]
}