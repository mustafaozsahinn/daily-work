{
  "nbformat": 4,
  "nbformat_minor": 0,
  "metadata": {
    "colab": {
      "provenance": [],
      "collapsed_sections": [],
      "authorship_tag": "ABX9TyNmseXz9QwfMSFpHYFS75JJ",
      "include_colab_link": true
    },
    "kernelspec": {
      "name": "python3",
      "display_name": "Python 3"
    },
    "language_info": {
      "name": "python"
    }
  },
  "cells": [
    {
      "cell_type": "markdown",
      "metadata": {
        "id": "view-in-github",
        "colab_type": "text"
      },
      "source": [
        "<a href=\"https://colab.research.google.com/github/mustafaozsahinn/daily-work/blob/main/november10.ipynb\" target=\"_parent\"><img src=\"https://colab.research.google.com/assets/colab-badge.svg\" alt=\"Open In Colab\"/></a>"
      ]
    },
    {
      "cell_type": "code",
      "execution_count": 1,
      "metadata": {
        "colab": {
          "base_uri": "https://localhost:8080/"
        },
        "id": "z6bQXZbrg9C7",
        "outputId": "7a60116d-6a7a-4213-ce2d-2bfd1bb8544d"
      },
      "outputs": [
        {
          "output_type": "stream",
          "name": "stdout",
          "text": [
            "9\n"
          ]
        }
      ],
      "source": [
        "def square(a):\n",
        "  return a * a\n",
        "\n",
        "print(square(3))"
      ]
    },
    {
      "cell_type": "code",
      "source": [
        "import math # math modülünü import edip kullanıyoruz\n",
        "\n",
        "math.sqrt(9)"
      ],
      "metadata": {
        "colab": {
          "base_uri": "https://localhost:8080/"
        },
        "id": "VHUt_AUnlP2f",
        "outputId": "bd996463-50ce-4342-f4dd-a6ce01160b0d"
      },
      "execution_count": 2,
      "outputs": [
        {
          "output_type": "execute_result",
          "data": {
            "text/plain": [
              "3.0"
            ]
          },
          "metadata": {},
          "execution_count": 2
        }
      ]
    },
    {
      "cell_type": "code",
      "source": [
        "# we can also import any modules from local.\n",
        "\n",
        "import my_module as mym # as ile kısaltma kullanıyoruz.\n",
        "\n",
        "mym.my_function() # fonksiyonu bu şekilde kullanabiliriz.\n",
        "\n",
        "print(mym.my_function)"
      ],
      "metadata": {
        "id": "6zYBM0G-npPB"
      },
      "execution_count": null,
      "outputs": []
    },
    {
      "cell_type": "code",
      "source": [
        "# another way to import\n",
        "\n",
        "from my_module import my_function as mfnc  # burda modul değil fonksiyon import ediyoruz. doğrudan kullanılabilir\n",
        "\n",
        "mfnc()"
      ],
      "metadata": {
        "id": "8orSzzr5nt7q"
      },
      "execution_count": null,
      "outputs": []
    },
    {
      "cell_type": "code",
      "source": [
        "pwd"
      ],
      "metadata": {
        "colab": {
          "base_uri": "https://localhost:8080/",
          "height": 35
        },
        "id": "fXwty9m0okhX",
        "outputId": "fc41422a-7c6d-4569-f342-864a52719771"
      },
      "execution_count": 5,
      "outputs": [
        {
          "output_type": "execute_result",
          "data": {
            "text/plain": [
              "'/content'"
            ],
            "application/vnd.google.colaboratory.intrinsic+json": {
              "type": "string"
            }
          },
          "metadata": {},
          "execution_count": 5
        }
      ]
    },
    {
      "cell_type": "code",
      "source": [
        "import math"
      ],
      "metadata": {
        "id": "S3hGAM5jtoix"
      },
      "execution_count": 6,
      "outputs": []
    },
    {
      "cell_type": "code",
      "source": [
        "print(dir(math))"
      ],
      "metadata": {
        "colab": {
          "base_uri": "https://localhost:8080/"
        },
        "id": "1J3u4BOOtrNZ",
        "outputId": "7a06a121-129b-4827-f712-79f0680fab76"
      },
      "execution_count": 7,
      "outputs": [
        {
          "output_type": "stream",
          "name": "stdout",
          "text": [
            "['__doc__', '__loader__', '__name__', '__package__', '__spec__', 'acos', 'acosh', 'asin', 'asinh', 'atan', 'atan2', 'atanh', 'ceil', 'copysign', 'cos', 'cosh', 'degrees', 'e', 'erf', 'erfc', 'exp', 'expm1', 'fabs', 'factorial', 'floor', 'fmod', 'frexp', 'fsum', 'gamma', 'gcd', 'hypot', 'inf', 'isclose', 'isfinite', 'isinf', 'isnan', 'ldexp', 'lgamma', 'log', 'log10', 'log1p', 'log2', 'modf', 'nan', 'pi', 'pow', 'radians', 'remainder', 'sin', 'sinh', 'sqrt', 'tan', 'tanh', 'tau', 'trunc']\n"
          ]
        }
      ]
    },
    {
      "cell_type": "code",
      "source": [
        "print(math.__spec__)"
      ],
      "metadata": {
        "colab": {
          "base_uri": "https://localhost:8080/"
        },
        "id": "iqnLwRhKtsvA",
        "outputId": "f1f77f9e-75d3-4221-941e-c73cf10bb9e8"
      },
      "execution_count": 8,
      "outputs": [
        {
          "output_type": "stream",
          "name": "stdout",
          "text": [
            "ModuleSpec(name='math', loader=<class '_frozen_importlib.BuiltinImporter'>, origin='built-in')\n"
          ]
        }
      ]
    },
    {
      "cell_type": "code",
      "source": [
        "from math import pi, factorial, log10\n",
        "print(pi)\n",
        "print(factorial(5))\n",
        "print(log10(1000))"
      ],
      "metadata": {
        "colab": {
          "base_uri": "https://localhost:8080/"
        },
        "id": "jcILYALlt342",
        "outputId": "3f15f700-c425-4980-fe5a-a8c2b91f6547"
      },
      "execution_count": 9,
      "outputs": [
        {
          "output_type": "stream",
          "name": "stdout",
          "text": [
            "3.141592653589793\n",
            "120\n",
            "3.0\n"
          ]
        }
      ]
    },
    {
      "cell_type": "code",
      "source": [
        "from math import * # bunu yapabiliriz ama her şeyi import edersek gelecek tüm function ları bilmek lazım.   "
      ],
      "metadata": {
        "id": "txoHykOWvYMb"
      },
      "execution_count": 10,
      "outputs": []
    },
    {
      "cell_type": "code",
      "source": [
        "import string as stg\n",
        "\n",
        "print(stg.punctuation)\n",
        "print(stg.digits)"
      ],
      "metadata": {
        "colab": {
          "base_uri": "https://localhost:8080/"
        },
        "id": "-dWyzUPVvb3b",
        "outputId": "e7cd9bfb-61c7-4a0f-e731-3c9586bd6243"
      },
      "execution_count": 11,
      "outputs": [
        {
          "output_type": "stream",
          "name": "stdout",
          "text": [
            "!\"#$%&'()*+,-./:;<=>?@[\\]^_`{|}~\n",
            "0123456789\n"
          ]
        }
      ]
    },
    {
      "cell_type": "code",
      "source": [
        "print(dir(stg))"
      ],
      "metadata": {
        "colab": {
          "base_uri": "https://localhost:8080/"
        },
        "id": "xFCoc4UAwN8S",
        "outputId": "460ebdf4-305a-4c23-fc3f-92db375409ca"
      },
      "execution_count": 12,
      "outputs": [
        {
          "output_type": "stream",
          "name": "stdout",
          "text": [
            "['Formatter', 'Template', '_ChainMap', '_TemplateMetaclass', '__all__', '__builtins__', '__cached__', '__doc__', '__file__', '__loader__', '__name__', '__package__', '__spec__', '_re', '_string', 'ascii_letters', 'ascii_lowercase', 'ascii_uppercase', 'capwords', 'digits', 'hexdigits', 'octdigits', 'printable', 'punctuation', 'whitespace']\n"
          ]
        }
      ]
    },
    {
      "cell_type": "code",
      "source": [
        "import datetime"
      ],
      "metadata": {
        "id": "-YwB6_eQwvEi"
      },
      "execution_count": 13,
      "outputs": []
    },
    {
      "cell_type": "code",
      "source": [
        "print(datetime.date.today())"
      ],
      "metadata": {
        "colab": {
          "base_uri": "https://localhost:8080/"
        },
        "id": "grxjx4h8xB_r",
        "outputId": "c31eb249-729b-4949-bcef-a83405cefd6f"
      },
      "execution_count": 14,
      "outputs": [
        {
          "output_type": "stream",
          "name": "stdout",
          "text": [
            "2022-11-10\n"
          ]
        }
      ]
    },
    {
      "cell_type": "code",
      "source": [
        "print(datetime.datetime.now()) # am i live in UK :)"
      ],
      "metadata": {
        "colab": {
          "base_uri": "https://localhost:8080/"
        },
        "id": "HgXXRMzsxcR3",
        "outputId": "1bb564bf-cd70-47f9-c1b6-c804aa5839cd"
      },
      "execution_count": 15,
      "outputs": [
        {
          "output_type": "stream",
          "name": "stdout",
          "text": [
            "2022-11-10 18:43:45.296894\n"
          ]
        }
      ]
    },
    {
      "cell_type": "code",
      "source": [
        "from datetime import date"
      ],
      "metadata": {
        "id": "VCVXMmsIxymo"
      },
      "execution_count": 16,
      "outputs": []
    },
    {
      "cell_type": "code",
      "source": [
        "birth = date(571, 4, 22)\n",
        "death = date(632, 6, 8)\n",
        "death - birth"
      ],
      "metadata": {
        "colab": {
          "base_uri": "https://localhost:8080/"
        },
        "id": "v4W6BQBtyLQy",
        "outputId": "207a81dc-902e-49f0-a935-fd833d7fbc76"
      },
      "execution_count": 17,
      "outputs": [
        {
          "output_type": "execute_result",
          "data": {
            "text/plain": [
              "datetime.timedelta(days=22327)"
            ]
          },
          "metadata": {},
          "execution_count": 17
        }
      ]
    },
    {
      "cell_type": "code",
      "source": [
        "lifeday = date.toordinal(death)- date.toordinal(birth)\n",
        "print(lifeday)"
      ],
      "metadata": {
        "colab": {
          "base_uri": "https://localhost:8080/"
        },
        "id": "OL_C-gfMzIC9",
        "outputId": "3d9afd9d-4ef0-487f-ce14-47874ddbc221"
      },
      "execution_count": 18,
      "outputs": [
        {
          "output_type": "stream",
          "name": "stdout",
          "text": [
            "22327\n"
          ]
        }
      ]
    },
    {
      "cell_type": "code",
      "source": [
        "tooday = date(2022, 11, 10)\n",
        "mybirth = date(1991, 12, 26)\n",
        "mylifeday = date.toordinal(tooday) - date.toordinal(mybirth)\n",
        "print(mylifeday)"
      ],
      "metadata": {
        "colab": {
          "base_uri": "https://localhost:8080/"
        },
        "id": "bKh5vXIJzT8o",
        "outputId": "0a2a23b3-9ba0-440d-8c02-0dc61b98dd13"
      },
      "execution_count": 19,
      "outputs": [
        {
          "output_type": "stream",
          "name": "stdout",
          "text": [
            "11277\n"
          ]
        }
      ]
    },
    {
      "cell_type": "code",
      "source": [
        "city = [\"stockholm\", \"istanbul\", \"seul\", \"cape town\"]"
      ],
      "metadata": {
        "id": "ELA9bIAUzqjp"
      },
      "execution_count": 20,
      "outputs": []
    },
    {
      "cell_type": "code",
      "source": [
        "from random import choice"
      ],
      "metadata": {
        "id": "VA2275Dy0tVu"
      },
      "execution_count": 21,
      "outputs": []
    },
    {
      "cell_type": "code",
      "source": [
        "choice(city)"
      ],
      "metadata": {
        "colab": {
          "base_uri": "https://localhost:8080/",
          "height": 35
        },
        "id": "1mXiw8560wQz",
        "outputId": "90aa1a42-d5bf-46a1-c98b-4a817daa30ea"
      },
      "execution_count": 22,
      "outputs": [
        {
          "output_type": "execute_result",
          "data": {
            "text/plain": [
              "'cape town'"
            ],
            "application/vnd.google.colaboratory.intrinsic+json": {
              "type": "string"
            }
          },
          "metadata": {},
          "execution_count": 22
        }
      ]
    },
    {
      "cell_type": "code",
      "source": [
        "pip --version"
      ],
      "metadata": {
        "colab": {
          "base_uri": "https://localhost:8080/"
        },
        "id": "Fo8lhJAK0_g6",
        "outputId": "6a721b59-e571-4192-e293-f128a99ea794"
      },
      "execution_count": 23,
      "outputs": [
        {
          "output_type": "stream",
          "name": "stdout",
          "text": [
            "pip 21.1.3 from /usr/local/lib/python3.7/dist-packages/pip (python 3.7)\n"
          ]
        }
      ]
    },
    {
      "cell_type": "code",
      "source": [
        "pip install options"
      ],
      "metadata": {
        "colab": {
          "base_uri": "https://localhost:8080/"
        },
        "id": "tDUyRTph2NIc",
        "outputId": "0bf6c725-1e42-4cd3-fdaa-480a6c9d3214"
      },
      "execution_count": 24,
      "outputs": [
        {
          "output_type": "stream",
          "name": "stdout",
          "text": [
            "Looking in indexes: https://pypi.org/simple, https://us-python.pkg.dev/colab-wheels/public/simple/\n",
            "Requirement already satisfied: options in /usr/local/lib/python3.7/dist-packages (1.4.10)\n",
            "Requirement already satisfied: nulltype~=2.3.1 in /usr/local/lib/python3.7/dist-packages (from options) (2.3.1)\n",
            "Requirement already satisfied: chainmap~=1.0.3 in /usr/local/lib/python3.7/dist-packages (from options) (1.0.3)\n",
            "Requirement already satisfied: six~=1.12.0 in /usr/local/lib/python3.7/dist-packages (from options) (1.12.0)\n",
            "Requirement already satisfied: combomethod~=1.0.12 in /usr/local/lib/python3.7/dist-packages (from options) (1.0.12)\n"
          ]
        }
      ]
    },
    {
      "cell_type": "code",
      "source": [
        "import numpy"
      ],
      "metadata": {
        "id": "ijy4pdq72ht8"
      },
      "execution_count": 26,
      "outputs": []
    },
    {
      "cell_type": "code",
      "source": [
        "pip show numpy"
      ],
      "metadata": {
        "colab": {
          "base_uri": "https://localhost:8080/"
        },
        "id": "yvF-3P3j2zS5",
        "outputId": "4a219fed-0e06-4764-95c4-9703269a0c33"
      },
      "execution_count": 27,
      "outputs": [
        {
          "output_type": "stream",
          "name": "stdout",
          "text": [
            "Name: numpy\n",
            "Version: 1.21.6\n",
            "Summary: NumPy is the fundamental package for array computing with Python.\n",
            "Home-page: https://www.numpy.org\n",
            "Author: Travis E. Oliphant et al.\n",
            "Author-email: None\n",
            "License: BSD\n",
            "Location: /usr/local/lib/python3.7/dist-packages\n",
            "Requires: \n",
            "Required-by: yellowbrick, xgboost, xarray, xarray-einstats, wordcloud, torchvision, torchtext, tifffile, thinc, tensorflow, tensorflow-probability, tensorflow-hub, tensorflow-datasets, tensorboard, tables, statsmodels, spacy, sklearn-pandas, seaborn, scs, scipy, scikit-learn, scikit-image, resampy, qudida, qdldl, PyWavelets, python-louvain, pystan, pysndfile, pymc, pyerfa, pyemd, pycocotools, pyarrow, prophet, plotnine, patsy, pandas, osqp, opt-einsum, opencv-python, opencv-python-headless, opencv-contrib-python, numexpr, numba, nibabel, netCDF4, moviepy, mlxtend, mizani, missingno, matplotlib, matplotlib-venn, lightgbm, librosa, Keras-Preprocessing, kapre, jpeg4py, jaxlib, jax, imgaug, imbalanced-learn, imageio, hyperopt, httpstan, holoviews, h5py, gym, gensim, folium, fix-yahoo-finance, fastdtw, fa2, ecos, datascience, daft, cvxpy, cufflinks, cmdstanpy, cftime, bokeh, blis, autograd, atari-py, astropy, arviz, altair, albumentations, aesara, aeppl\n"
          ]
        }
      ]
    },
    {
      "cell_type": "code",
      "source": [
        "import timeit"
      ],
      "metadata": {
        "id": "3quUujo-7gUd"
      },
      "execution_count": 28,
      "outputs": []
    },
    {
      "cell_type": "code",
      "source": [
        "from timeit import timeit"
      ],
      "metadata": {
        "id": "AW3i2ZnT74Bk"
      },
      "execution_count": 29,
      "outputs": []
    },
    {
      "cell_type": "code",
      "source": [
        "timeit()"
      ],
      "metadata": {
        "colab": {
          "base_uri": "https://localhost:8080/"
        },
        "id": "Mot_fKru76o6",
        "outputId": "2add4187-f897-4f7c-a5c9-f22ad176c2c7"
      },
      "execution_count": 30,
      "outputs": [
        {
          "output_type": "execute_result",
          "data": {
            "text/plain": [
              "0.021483747999809566"
            ]
          },
          "metadata": {},
          "execution_count": 30
        }
      ]
    },
    {
      "cell_type": "code",
      "source": [
        "def for_loop():\n",
        "  result = []\n",
        "\n",
        "  for i in range(1000000):\n",
        "    result.append(i)\n",
        "  return result"
      ],
      "metadata": {
        "id": "3Dwyvist8Ndp"
      },
      "execution_count": 31,
      "outputs": []
    },
    {
      "cell_type": "code",
      "source": [
        "def list_comp():\n",
        "  return [i for i in range(1000000)]"
      ],
      "metadata": {
        "id": "Qi8VtNt-8fsg"
      },
      "execution_count": 32,
      "outputs": []
    },
    {
      "cell_type": "code",
      "source": [
        "size = 100\n",
        "\n",
        "time_for_loop = timeit(for_loop, number = size)\n",
        "\n",
        "time_list_comp = timeit(list_comp, number = size)"
      ],
      "metadata": {
        "id": "cO8ir7248pZv"
      },
      "execution_count": 33,
      "outputs": []
    },
    {
      "cell_type": "code",
      "source": [
        "print(time_for_loop/time_list_comp)  # list_comp daha hızlı net"
      ],
      "metadata": {
        "colab": {
          "base_uri": "https://localhost:8080/"
        },
        "id": "8IapoEHl9Dc6",
        "outputId": "c65209f4-5021-405b-92bd-3b44f6896116"
      },
      "execution_count": 34,
      "outputs": [
        {
          "output_type": "stream",
          "name": "stdout",
          "text": [
            "1.5066338369467105\n"
          ]
        }
      ]
    },
    {
      "cell_type": "markdown",
      "source": [
        "# program execution and errors"
      ],
      "metadata": {
        "id": "Wo9ccVqN-GRq"
      }
    },
    {
      "cell_type": "code",
      "source": [
        "# hoca anlattı biz dinledik"
      ],
      "metadata": {
        "id": "nFTZjAGX9aFs"
      },
      "execution_count": 35,
      "outputs": []
    },
    {
      "cell_type": "markdown",
      "source": [],
      "metadata": {
        "id": "gxyk0UoiDBZj"
      }
    }
  ]
}