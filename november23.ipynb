{
  "nbformat": 4,
  "nbformat_minor": 0,
  "metadata": {
    "colab": {
      "provenance": [],
      "authorship_tag": "ABX9TyOdfJEveHf+yrFHShC/L9J1",
      "include_colab_link": true
    },
    "kernelspec": {
      "name": "python3",
      "display_name": "Python 3"
    },
    "language_info": {
      "name": "python"
    }
  },
  "cells": [
    {
      "cell_type": "markdown",
      "metadata": {
        "id": "view-in-github",
        "colab_type": "text"
      },
      "source": [
        "<a href=\"https://colab.research.google.com/github/mustafaozsahinn/daily-work/blob/main/november23.ipynb\" target=\"_parent\"><img src=\"https://colab.research.google.com/assets/colab-badge.svg\" alt=\"Open In Colab\"/></a>"
      ]
    },
    {
      "cell_type": "code",
      "execution_count": 9,
      "metadata": {
        "colab": {
          "base_uri": "https://localhost:8080/"
        },
        "id": "v_T6V_mu56v5",
        "outputId": "c6387b61-7a2c-495f-c810-71f0e6bbcb8b"
      },
      "outputs": [
        {
          "output_type": "stream",
          "name": "stdout",
          "text": [
            "Range:  20\n",
            "Variance:  34.93628808864266\n",
            "Std:  5.910692691101667\n",
            "Q1: 20.0\n",
            "median: 23.0\n",
            "Q3: 23.5\n",
            "IQR: 3.5\n"
          ]
        }
      ],
      "source": [
        "import numpy as np\n",
        "import seaborn as sns\n",
        "from scipy import stats\n",
        "\n",
        "salary =  [5,7,10,15,19,21,21,22,22,23,23,23,23,23,24,24,24,24,25]\n",
        "\n",
        "print(\"Range: \", (np.max(salary)-np.min(salary)))\n",
        "\n",
        "print(\"Variance: \", (np.var(salary)))\n",
        "\n",
        "print(\"Std: \", (np.std(salary)))\n",
        "\n",
        "print(\"Q1:\", (np.percentile(salary, 25)))\n",
        "\n",
        "print(\"median:\", (np.percentile(salary, 50)))\n",
        "\n",
        "print(\"Q3:\", (np.percentile(salary, 75)))\n",
        "\n",
        "print(\"IQR:\", (stats.iqr(salary)))"
      ]
    },
    {
      "cell_type": "markdown",
      "source": [
        "5 elemets of ecosystems statistics:\n",
        "* NumPy\n",
        "* Pandas\n",
        "* Mathplotlib\n",
        "* SciPy\n",
        "* Seaborn"
      ],
      "metadata": {
        "id": "2_NI9Keh8LHX"
      }
    },
    {
      "cell_type": "code",
      "source": [
        "print(np.__version__)"
      ],
      "metadata": {
        "colab": {
          "base_uri": "https://localhost:8080/"
        },
        "id": "X37SSz8n7r2X",
        "outputId": "bb190d09-3273-4c52-a6e2-34f02e5fc5c6"
      },
      "execution_count": 6,
      "outputs": [
        {
          "output_type": "stream",
          "name": "stdout",
          "text": [
            "1.21.6\n"
          ]
        }
      ]
    },
    {
      "cell_type": "code",
      "source": [
        "np.mean(salary)"
      ],
      "metadata": {
        "colab": {
          "base_uri": "https://localhost:8080/"
        },
        "id": "EMeQa4_u8aIc",
        "outputId": "4058e8ed-318e-48d7-848e-ac486114ca60"
      },
      "execution_count": 10,
      "outputs": [
        {
          "output_type": "execute_result",
          "data": {
            "text/plain": [
              "19.894736842105264"
            ]
          },
          "metadata": {},
          "execution_count": 10
        }
      ]
    },
    {
      "cell_type": "code",
      "source": [
        "np.median(salary)"
      ],
      "metadata": {
        "colab": {
          "base_uri": "https://localhost:8080/"
        },
        "id": "UYU6l3ul-Dzt",
        "outputId": "41fe2bd3-e3d5-4638-b5b9-de35bc6f8e19"
      },
      "execution_count": 13,
      "outputs": [
        {
          "output_type": "execute_result",
          "data": {
            "text/plain": [
              "23.0"
            ]
          },
          "metadata": {},
          "execution_count": 13
        }
      ]
    },
    {
      "cell_type": "code",
      "source": [
        "stats.mode(salary)"
      ],
      "metadata": {
        "colab": {
          "base_uri": "https://localhost:8080/"
        },
        "id": "l7Vh3aJm95Oq",
        "outputId": "bddd79db-1cf4-42fd-c626-44b8a680f50c"
      },
      "execution_count": 16,
      "outputs": [
        {
          "output_type": "execute_result",
          "data": {
            "text/plain": [
              "ModeResult(mode=array([23]), count=array([5]))"
            ]
          },
          "metadata": {},
          "execution_count": 16
        }
      ]
    },
    {
      "cell_type": "code",
      "source": [
        "stats.mode(salary)[0][0]"
      ],
      "metadata": {
        "colab": {
          "base_uri": "https://localhost:8080/"
        },
        "id": "omBpX0fa97wL",
        "outputId": "f9ededcc-ff08-4ae2-cb9a-28fe606a8e02"
      },
      "execution_count": 17,
      "outputs": [
        {
          "output_type": "execute_result",
          "data": {
            "text/plain": [
              "23"
            ]
          },
          "metadata": {},
          "execution_count": 17
        }
      ]
    },
    {
      "cell_type": "code",
      "source": [
        "np.min(salary)"
      ],
      "metadata": {
        "colab": {
          "base_uri": "https://localhost:8080/"
        },
        "id": "dtbZKoRh-dO2",
        "outputId": "5eba97a0-6d57-442d-b1e9-8cf8716034fb"
      },
      "execution_count": 20,
      "outputs": [
        {
          "output_type": "execute_result",
          "data": {
            "text/plain": [
              "5"
            ]
          },
          "metadata": {},
          "execution_count": 20
        }
      ]
    },
    {
      "cell_type": "code",
      "source": [
        "np.max(salary)"
      ],
      "metadata": {
        "colab": {
          "base_uri": "https://localhost:8080/"
        },
        "id": "qpziaJ0h-hSj",
        "outputId": "d214b4ee-d227-4d78-9213-0677c2420036"
      },
      "execution_count": 19,
      "outputs": [
        {
          "output_type": "execute_result",
          "data": {
            "text/plain": [
              "25"
            ]
          },
          "metadata": {},
          "execution_count": 19
        }
      ]
    },
    {
      "cell_type": "code",
      "source": [
        "np.var(salary)"
      ],
      "metadata": {
        "colab": {
          "base_uri": "https://localhost:8080/"
        },
        "id": "641mvHfa-ihc",
        "outputId": "63ff10cc-b74f-472f-ec88-c2f64ca4097c"
      },
      "execution_count": 21,
      "outputs": [
        {
          "output_type": "execute_result",
          "data": {
            "text/plain": [
              "34.93628808864266"
            ]
          },
          "metadata": {},
          "execution_count": 21
        }
      ]
    },
    {
      "cell_type": "code",
      "source": [
        "np.std(salary)"
      ],
      "metadata": {
        "colab": {
          "base_uri": "https://localhost:8080/"
        },
        "id": "CWyW24oHA57d",
        "outputId": "4312f79a-f0e2-4832-c0b0-14531e21a3a8"
      },
      "execution_count": 22,
      "outputs": [
        {
          "output_type": "execute_result",
          "data": {
            "text/plain": [
              "5.910692691101667"
            ]
          },
          "metadata": {},
          "execution_count": 22
        }
      ]
    },
    {
      "cell_type": "code",
      "source": [
        "# diğer std bulma yolu\n",
        "np.sqrt(np.var(salary))"
      ],
      "metadata": {
        "colab": {
          "base_uri": "https://localhost:8080/"
        },
        "id": "nELOUmEWA-QB",
        "outputId": "0c7d5950-81d4-4c29-af0f-be7639c3cbd1"
      },
      "execution_count": 24,
      "outputs": [
        {
          "output_type": "execute_result",
          "data": {
            "text/plain": [
              "5.910692691101667"
            ]
          },
          "metadata": {},
          "execution_count": 24
        }
      ]
    },
    {
      "cell_type": "code",
      "source": [
        "# standart sapma büyük veri setlerinde (population) bu şekildeyken\n",
        "# sample için \"ddof\" kullanıyoruz\n",
        "np.std(salary, ddof=1)"
      ],
      "metadata": {
        "colab": {
          "base_uri": "https://localhost:8080/"
        },
        "id": "HLPoomXiBIHS",
        "outputId": "ec73a361-34d0-45d2-fdae-52c0746265a1"
      },
      "execution_count": 25,
      "outputs": [
        {
          "output_type": "execute_result",
          "data": {
            "text/plain": [
              "6.0726594653789165"
            ]
          },
          "metadata": {},
          "execution_count": 25
        }
      ]
    },
    {
      "cell_type": "code",
      "source": [
        "stats.skew(salary) # negatively skewed "
      ],
      "metadata": {
        "colab": {
          "base_uri": "https://localhost:8080/"
        },
        "id": "BzIpQFgQChMS",
        "outputId": "733881d9-a658-40a1-b60c-f007cce8f32b"
      },
      "execution_count": 27,
      "outputs": [
        {
          "output_type": "execute_result",
          "data": {
            "text/plain": [
              "-1.5176315809887007"
            ]
          },
          "metadata": {},
          "execution_count": 27
        }
      ]
    }
  ]
}