{
  "nbformat": 4,
  "nbformat_minor": 0,
  "metadata": {
    "colab": {
      "provenance": [],
      "collapsed_sections": [],
      "authorship_tag": "ABX9TyOirxsILEjuZ2n89wHGKn3y",
      "include_colab_link": true
    },
    "kernelspec": {
      "name": "python3",
      "display_name": "Python 3"
    },
    "language_info": {
      "name": "python"
    }
  },
  "cells": [
    {
      "cell_type": "markdown",
      "metadata": {
        "id": "view-in-github",
        "colab_type": "text"
      },
      "source": [
        "<a href=\"https://colab.research.google.com/github/mustafaozsahinn/daily-work/blob/main/october21_lab.ipynb\" target=\"_parent\"><img src=\"https://colab.research.google.com/assets/colab-badge.svg\" alt=\"Open In Colab\"/></a>"
      ]
    },
    {
      "cell_type": "markdown",
      "source": [
        "# Task 1\n",
        "bir liste hazırlayın ve son iki elemanını toplamını sona ekleyin, bu işlemi iki defa tekrar edin.\n",
        "*   new_list = [1, 2, 3]\n",
        "*   expected output = [1, ,2 3, 5, 8, 13]"
      ],
      "metadata": {
        "id": "pBIDisvDpuMu"
      }
    },
    {
      "cell_type": "code",
      "source": [
        "new_list = [1, 2, 3]\n",
        "new_list.append(new_list[-1] + new_list[-2])\n",
        "new_list.append(new_list[-1] + new_list[-2])\n",
        "new_list.append(new_list[-1] + new_list[-2])\n",
        "print(new_list)"
      ],
      "metadata": {
        "colab": {
          "base_uri": "https://localhost:8080/"
        },
        "id": "ApIdXaQ_mcyW",
        "outputId": "58beac57-fd14-425e-a593-1505912a9771"
      },
      "execution_count": 23,
      "outputs": [
        {
          "output_type": "stream",
          "name": "stdout",
          "text": [
            "[1, 2, 3, 5, 8, 13]\n"
          ]
        }
      ]
    },
    {
      "cell_type": "markdown",
      "source": [
        "# Task2\n",
        "ilk n doğal sayının karelerinin toplamı\n",
        "*   formula = n.(n+1)(2n+1)/6\n",
        "\n"
      ],
      "metadata": {
        "id": "NaCFcLV1qFr2"
      }
    },
    {
      "cell_type": "code",
      "source": [
        "n = int(input(\"what is your number?: \"))\n",
        "result = int(n*(n+1)*(2*n+1)/6)\n",
        "print(f\"The sum of squares of first {n} numbers equal to: {result} \")"
      ],
      "metadata": {
        "colab": {
          "base_uri": "https://localhost:8080/"
        },
        "id": "ZD5QD1OroJKA",
        "outputId": "296587f7-d7b3-4b31-c088-9c9e60dfd1a9"
      },
      "execution_count": 26,
      "outputs": [
        {
          "output_type": "stream",
          "name": "stdout",
          "text": [
            "what is your number?: 3\n",
            "The sum of squares of 3 number equal to: 14 \n"
          ]
        }
      ]
    },
    {
      "cell_type": "code",
      "source": [
        "n = int(input(\"what is your number?: \"))\n",
        "result = n*(n+1)*(2*n+1)//6 # // floor devision ile sonucun float gelmesini engellemek mümkün. tabi ki burda sonucun tam olacağından emin olmak gerek.\n",
        "print(f\"The sum of squares of first {n} numbers equal to: {result} \")"
      ],
      "metadata": {
        "colab": {
          "base_uri": "https://localhost:8080/"
        },
        "id": "_XW0Zxujo4uw",
        "outputId": "22f0466f-bd7a-4bec-d6fa-2803cca9573f"
      },
      "execution_count": 28,
      "outputs": [
        {
          "output_type": "stream",
          "name": "stdout",
          "text": [
            "what is your number?: 7\n",
            "The sum of squares of first 7 numbers equal to: 140 \n"
          ]
        }
      ]
    },
    {
      "cell_type": "markdown",
      "source": [
        "# Task 3\n",
        "* girilen sayının tek veya çift olması\n",
        "* bu sayının 3 e bölünüp nölünemediği"
      ],
      "metadata": {
        "id": "g6oZNq4dqNyW"
      }
    },
    {
      "cell_type": "code",
      "source": [
        "my_number = int(input(\"enter a number: \"))\n",
        "text1 = \"is an odd number\"\n",
        "text2 = \"is an even number\"\n",
        "text3 = \"and it can be devided into 3\"\n",
        "text4 = \"and it can not be devided into 3\"\n",
        "int(bool(my_number % 2))*text1\n",
        "int(not bool(my_number % 2))*text2\n",
        "int(bool(my_number % 3))*text3\n",
        "int(not bool(my_number % 3))*text3\n",
        "print(f\"{my_number}\",\n",
        "      f\"{int(bool(my_number % 2))*text1}\",\n",
        "      f\"{int(not bool(my_number % 2))*text2}\",\n",
        "      f\"{int(not bool(my_number % 3))*text3}\",\n",
        "      f\"{int(bool(my_number % 3))*text4}\"\n",
        "      )"
      ],
      "metadata": {
        "colab": {
          "base_uri": "https://localhost:8080/"
        },
        "id": "Kn1ymrzLpbHu",
        "outputId": "90ed36dd-780e-4666-bbef-d0bd011d4770"
      },
      "execution_count": 9,
      "outputs": [
        {
          "output_type": "stream",
          "name": "stdout",
          "text": [
            "enter a number: 45\n",
            "45 is an odd number  and it can be devided into 3 \n"
          ]
        }
      ]
    },
    {
      "cell_type": "markdown",
      "source": [
        "# Task 4\n",
        "dairenin alanını \"math\" kütüphanesi ile hesaplayan kod"
      ],
      "metadata": {
        "id": "-tgH8LB3t-Kn"
      }
    },
    {
      "cell_type": "code",
      "source": [
        "r = int(input(\"yarıçapı giriniz: \"))\n",
        "pi = 3.14159\n",
        "print(float(pi * r ** 2))"
      ],
      "metadata": {
        "colab": {
          "base_uri": "https://localhost:8080/"
        },
        "id": "AgiRc89QreAY",
        "outputId": "baefb47d-ccba-4a4d-dfb8-b43e597ba6e6"
      },
      "execution_count": 34,
      "outputs": [
        {
          "output_type": "stream",
          "name": "stdout",
          "text": [
            "yarıçapı giriniz: 10\n",
            "314.159\n"
          ]
        }
      ]
    },
    {
      "cell_type": "code",
      "source": [
        "# matematik fonksiyonları vs almak için math modlünü import etmek gerekir.\n",
        "import math"
      ],
      "metadata": {
        "id": "5Jx84WaPuiJQ"
      },
      "execution_count": 26,
      "outputs": []
    },
    {
      "cell_type": "code",
      "source": [
        "r = int(input(\"yarıçapı giriniz: \"))\n",
        "print(math.pi * pow(r,2))"
      ],
      "metadata": {
        "colab": {
          "base_uri": "https://localhost:8080/"
        },
        "id": "5wFsFJ5qu7sl",
        "outputId": "127e7c46-88e2-4c38-fee0-21a34e4214d1"
      },
      "execution_count": 38,
      "outputs": [
        {
          "output_type": "stream",
          "name": "stdout",
          "text": [
            "yarıçapı giriniz: 10\n",
            "314.1592653589793\n"
          ]
        }
      ]
    },
    {
      "cell_type": "code",
      "source": [],
      "metadata": {
        "id": "SOGfAK-NvWxC"
      },
      "execution_count": null,
      "outputs": []
    }
  ]
}