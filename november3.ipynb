{
  "nbformat": 4,
  "nbformat_minor": 0,
  "metadata": {
    "colab": {
      "provenance": [],
      "collapsed_sections": [],
      "authorship_tag": "ABX9TyPk1jDMniO6scwzDCGLPrf6",
      "include_colab_link": true
    },
    "kernelspec": {
      "name": "python3",
      "display_name": "Python 3"
    },
    "language_info": {
      "name": "python"
    }
  },
  "cells": [
    {
      "cell_type": "markdown",
      "metadata": {
        "id": "view-in-github",
        "colab_type": "text"
      },
      "source": [
        "<a href=\"https://colab.research.google.com/github/mustafaozsahinn/daily-work/blob/main/november3.ipynb\" target=\"_parent\"><img src=\"https://colab.research.google.com/assets/colab-badge.svg\" alt=\"Open In Colab\"/></a>"
      ]
    },
    {
      "cell_type": "code",
      "execution_count": 3,
      "metadata": {
        "colab": {
          "base_uri": "https://localhost:8080/"
        },
        "id": "ESYPpQIacL36",
        "outputId": "d0ddec84-d4e4-44a1-d945-2f0938f4f4b3"
      },
      "outputs": [
        {
          "output_type": "stream",
          "name": "stdout",
          "text": [
            "<generator object <genexpr> at 0x7f059a714ad0>\n"
          ]
        }
      ],
      "source": [
        "generator = (i ** 2 for i in range(6))\n",
        "print(generator)"
      ]
    },
    {
      "cell_type": "code",
      "source": [
        "list(generator)"
      ],
      "metadata": {
        "colab": {
          "base_uri": "https://localhost:8080/"
        },
        "id": "hg6qBQ3cgqAy",
        "outputId": "5a9e635d-6847-4b03-af97-b79fce4e83e2"
      },
      "execution_count": 4,
      "outputs": [
        {
          "output_type": "execute_result",
          "data": {
            "text/plain": [
              "[0, 1, 4, 9, 16, 25]"
            ]
          },
          "metadata": {},
          "execution_count": 4
        }
      ]
    },
    {
      "cell_type": "code",
      "source": [
        "generator = (i ** 2 for i in range(6))\n",
        "print(next(generator))\n",
        "print(next(generator))\n",
        "print(next(generator))\n",
        "print(next(generator))\n",
        "print(next(generator))\n",
        "print(next(generator))\n",
        "# print(next(generator)) burda next biteceği için stop iterator hatası verir."
      ],
      "metadata": {
        "colab": {
          "base_uri": "https://localhost:8080/"
        },
        "id": "hZjTfgo5g3Pr",
        "outputId": "22f324d1-b53d-4aea-bbe6-b226d647e7dc"
      },
      "execution_count": 9,
      "outputs": [
        {
          "output_type": "stream",
          "name": "stdout",
          "text": [
            "0\n",
            "1\n",
            "4\n",
            "9\n",
            "16\n",
            "25\n"
          ]
        }
      ]
    },
    {
      "cell_type": "code",
      "source": [
        "list(generator) # geerator içindeki tüm elemanları harcadık."
      ],
      "metadata": {
        "colab": {
          "base_uri": "https://localhost:8080/"
        },
        "id": "VZkLSbckg5w5",
        "outputId": "7b25f424-e9e4-4864-90c2-68a9b33b1d96"
      },
      "execution_count": 10,
      "outputs": [
        {
          "output_type": "execute_result",
          "data": {
            "text/plain": [
              "[]"
            ]
          },
          "metadata": {},
          "execution_count": 10
        }
      ]
    },
    {
      "cell_type": "code",
      "source": [
        "generate = (i/2 for i in [0, 9, 21, 32])\n",
        "generate"
      ],
      "metadata": {
        "colab": {
          "base_uri": "https://localhost:8080/"
        },
        "id": "fF_mtN5ShMNk",
        "outputId": "f31c1e52-8968-4be2-8809-0b967bf67fd8"
      },
      "execution_count": 11,
      "outputs": [
        {
          "output_type": "execute_result",
          "data": {
            "text/plain": [
              "<generator object <genexpr> at 0x7f059a66ff50>"
            ]
          },
          "metadata": {},
          "execution_count": 11
        }
      ]
    },
    {
      "cell_type": "code",
      "source": [
        "for item in generate:\n",
        "  print(item)"
      ],
      "metadata": {
        "colab": {
          "base_uri": "https://localhost:8080/"
        },
        "id": "SuszkIgEha4b",
        "outputId": "7e7d517d-d6cf-4b08-f047-2b4c3a04c29e"
      },
      "execution_count": 12,
      "outputs": [
        {
          "output_type": "stream",
          "name": "stdout",
          "text": [
            "0.0\n",
            "4.5\n",
            "10.5\n",
            "16.0\n"
          ]
        }
      ]
    },
    {
      "cell_type": "code",
      "source": [
        "generate = ((i, i ** 2, i ** 3) for i in range (10))\n",
        "\n",
        "# tek tek print ettirmek yerine for loop ile yapmalı.\n",
        "for item in generate:\n",
        "  print(item)"
      ],
      "metadata": {
        "colab": {
          "base_uri": "https://localhost:8080/"
        },
        "id": "nPZbzkA6hgp-",
        "outputId": "1a5482f2-3a41-48fa-f354-7bb3369a2423"
      },
      "execution_count": 15,
      "outputs": [
        {
          "output_type": "stream",
          "name": "stdout",
          "text": [
            "(0, 0, 0)\n",
            "(1, 1, 1)\n",
            "(2, 4, 8)\n",
            "(3, 9, 27)\n",
            "(4, 16, 64)\n",
            "(5, 25, 125)\n",
            "(6, 36, 216)\n",
            "(7, 49, 343)\n",
            "(8, 64, 512)\n",
            "(9, 81, 729)\n"
          ]
        }
      ]
    },
    {
      "cell_type": "code",
      "source": [
        "generate = ((\"apple\" if i < 3 else \"pie\") for i in range(6))\n",
        "\n",
        "print(* generate)"
      ],
      "metadata": {
        "colab": {
          "base_uri": "https://localhost:8080/"
        },
        "id": "EUNk0geNh2S8",
        "outputId": "691bd1aa-376d-4857-c88b-c69691115a8f"
      },
      "execution_count": 16,
      "outputs": [
        {
          "output_type": "stream",
          "name": "stdout",
          "text": [
            "apple apple apple pie pie pie\n"
          ]
        }
      ]
    },
    {
      "cell_type": "code",
      "source": [
        "generate = ((\"apple\" if i < 3 else \"pie\") for i in range(6))\n",
        "\n",
        "for i in generate:\n",
        "  print(i, end = \" - \")"
      ],
      "metadata": {
        "colab": {
          "base_uri": "https://localhost:8080/"
        },
        "id": "iwimCBAOiSMK",
        "outputId": "157f5291-e1f4-4581-c97c-f90c13875c5f"
      },
      "execution_count": 21,
      "outputs": [
        {
          "output_type": "stream",
          "name": "stdout",
          "text": [
            "apple - apple - apple - pie - pie - pie - "
          ]
        }
      ]
    },
    {
      "cell_type": "code",
      "source": [
        "names = [\"ash\", \"brain\", \"canon\"]\n",
        "counter = 0\n",
        "my_list = []\n",
        "\n",
        "for i in names:\n",
        "  my_list.append((counter, i))\n",
        "  counter += 1\n",
        "print(my_list)"
      ],
      "metadata": {
        "colab": {
          "base_uri": "https://localhost:8080/"
        },
        "id": "DNixKyXAiXk1",
        "outputId": "3d86b4c2-e6c6-42b1-a039-6aa086c8b2b3"
      },
      "execution_count": 22,
      "outputs": [
        {
          "output_type": "stream",
          "name": "stdout",
          "text": [
            "[(0, 'ash'), (1, 'brain'), (2, 'canon')]\n"
          ]
        }
      ]
    },
    {
      "cell_type": "code",
      "source": [
        "# enumarate(iterable, start = 0)\n",
        "grocery = [\"bread\", \"water\", \"olive\"]\n",
        "enum_grocery = enumerate(grocery, 5)\n",
        "\n",
        "print(type(enum_grocery))\n",
        "print(list(enum_grocery))\n",
        "print(enum_grocery)"
      ],
      "metadata": {
        "colab": {
          "base_uri": "https://localhost:8080/"
        },
        "id": "n7d5IiQvj3XL",
        "outputId": "27939444-a9b9-4c64-caba-41be4eeb6e5a"
      },
      "execution_count": 32,
      "outputs": [
        {
          "output_type": "stream",
          "name": "stdout",
          "text": [
            "<class 'enumerate'>\n",
            "[(5, 'bread'), (6, 'water'), (7, 'olive')]\n",
            "<enumerate object at 0x7f059a65ec30>\n",
            "{}\n"
          ]
        }
      ]
    },
    {
      "cell_type": "code",
      "source": [
        "# dict için kullanılabilir.\n",
        "grocery = [\"bread\", \"water\", \"olive\"]\n",
        "enum_grocery = enumerate(grocery, 5)\n",
        "print(dict(enum_grocery))"
      ],
      "metadata": {
        "colab": {
          "base_uri": "https://localhost:8080/"
        },
        "id": "Ey9-CQGfko0E",
        "outputId": "82b466b3-9ffe-4284-d0a8-ae63d1b3b270"
      },
      "execution_count": 33,
      "outputs": [
        {
          "output_type": "stream",
          "name": "stdout",
          "text": [
            "{5: 'bread', 6: 'water', 7: 'olive'}\n"
          ]
        }
      ]
    },
    {
      "cell_type": "code",
      "source": [
        "# max() ve min() fonksiyonları integer ile çalışır.\n",
        "max(1, 4, -2)"
      ],
      "metadata": {
        "colab": {
          "base_uri": "https://localhost:8080/"
        },
        "id": "3ZQUET-1lbBC",
        "outputId": "9afd4b86-35e6-4ac6-e4f1-c0ad8dfd9f31"
      },
      "execution_count": 37,
      "outputs": [
        {
          "output_type": "execute_result",
          "data": {
            "text/plain": [
              "4"
            ]
          },
          "metadata": {},
          "execution_count": 37
        }
      ]
    },
    {
      "cell_type": "code",
      "source": [
        "min(1, 4, -2)"
      ],
      "metadata": {
        "colab": {
          "base_uri": "https://localhost:8080/"
        },
        "id": "0za2mM6plroD",
        "outputId": "ef22a9f2-69df-408b-b45c-3a508a87416c"
      },
      "execution_count": 38,
      "outputs": [
        {
          "output_type": "execute_result",
          "data": {
            "text/plain": [
              "-2"
            ]
          },
          "metadata": {},
          "execution_count": 38
        }
      ]
    },
    {
      "cell_type": "code",
      "source": [
        "# ascii koduna göre veriyor\n",
        "max(\"brian\")\n",
        "# ord() ile bakılabilir."
      ],
      "metadata": {
        "colab": {
          "base_uri": "https://localhost:8080/",
          "height": 35
        },
        "id": "z6cH0f7umG3v",
        "outputId": "a1d3a8c8-f60f-4250-efa3-c00089b9fe73"
      },
      "execution_count": 40,
      "outputs": [
        {
          "output_type": "execute_result",
          "data": {
            "text/plain": [
              "'r'"
            ],
            "application/vnd.google.colaboratory.intrinsic+json": {
              "type": "string"
            }
          },
          "metadata": {},
          "execution_count": 40
        }
      ]
    },
    {
      "cell_type": "code",
      "source": [
        "# ord() ile bakılabilir.\n",
        "ord(\"r\")"
      ],
      "metadata": {
        "colab": {
          "base_uri": "https://localhost:8080/"
        },
        "id": "SmMagFaimJ4x",
        "outputId": "a03bfb68-e20f-419d-f5ae-b95fa9f04030"
      },
      "execution_count": 42,
      "outputs": [
        {
          "output_type": "execute_result",
          "data": {
            "text/plain": [
              "114"
            ]
          },
          "metadata": {},
          "execution_count": 42
        }
      ]
    },
    {
      "cell_type": "code",
      "source": [
        "print(max(1, 2, 3, 4, 5))\n",
        "print(max([1, 2, 3, 4, 5]))"
      ],
      "metadata": {
        "colab": {
          "base_uri": "https://localhost:8080/"
        },
        "id": "r71oFMDLmaSk",
        "outputId": "f3a133b0-546e-4075-a612-53a817fe3f95"
      },
      "execution_count": 44,
      "outputs": [
        {
          "output_type": "stream",
          "name": "stdout",
          "text": [
            "5\n",
            "5\n",
            "5\n"
          ]
        }
      ]
    },
    {
      "cell_type": "code",
      "source": [
        "a = (1, 2, 3, 4, 5)\n",
        "print(max(a))"
      ],
      "metadata": {
        "colab": {
          "base_uri": "https://localhost:8080/"
        },
        "id": "d7icj4u1msQg",
        "outputId": "01577c92-cd97-490a-a630-58ff7e7eed38"
      },
      "execution_count": 45,
      "outputs": [
        {
          "output_type": "stream",
          "name": "stdout",
          "text": [
            "5\n"
          ]
        }
      ]
    },
    {
      "cell_type": "code",
      "source": [
        "# sum(iterable, start)\n",
        "numbers = [2.5, 30, -15, 4]\n",
        "\n",
        "num_sum = sum(numbers)\n",
        "print(num_sum)\n",
        "\n",
        "num_sum2 = sum(numbers, 20) # sum a eklenecek bir opsiyon da var.\n",
        "print(num_sum2)"
      ],
      "metadata": {
        "colab": {
          "base_uri": "https://localhost:8080/"
        },
        "id": "EiggzX8BnGov",
        "outputId": "296f20fe-8e2f-4c51-9c46-e2241838990e"
      },
      "execution_count": 48,
      "outputs": [
        {
          "output_type": "stream",
          "name": "stdout",
          "text": [
            "21.5\n",
            "41.5\n"
          ]
        }
      ]
    },
    {
      "cell_type": "code",
      "source": [
        "# round(numbers, ndigits)\n",
        "print(round(3675))\n",
        "print(round(3675, 2))\n",
        "print(round(3.675, 2)) # 3.68 olmasını beklerdik olmadı. it's not a bug, it's a feature\n",
        "print(round(3.665, 2))"
      ],
      "metadata": {
        "colab": {
          "base_uri": "https://localhost:8080/"
        },
        "id": "Qd4o8E3rqqXb",
        "outputId": "c3d5dfca-e4ec-4d41-e079-4b0e84dcf6ba"
      },
      "execution_count": 53,
      "outputs": [
        {
          "output_type": "stream",
          "name": "stdout",
          "text": [
            "3675\n",
            "3675\n",
            "3.67\n",
            "3.67\n"
          ]
        }
      ]
    },
    {
      "cell_type": "markdown",
      "source": [
        "# Defining"
      ],
      "metadata": {
        "id": "7duJzzdTsyAV"
      }
    },
    {
      "cell_type": "code",
      "source": [
        "def hipotenus(parameter_1, parameter_2):\n",
        "  print((parameter_1 ** 2 + parameter_2 ** 2) ** 0.5)\n",
        "\n",
        "hipotenus(3,4)"
      ],
      "metadata": {
        "colab": {
          "base_uri": "https://localhost:8080/"
        },
        "id": "Hh5qqZqyrkt-",
        "outputId": "6849c8bd-b6a5-4a48-b425-c2e4958fcf1b"
      },
      "execution_count": 56,
      "outputs": [
        {
          "output_type": "stream",
          "name": "stdout",
          "text": [
            "5.0\n"
          ]
        }
      ]
    },
    {
      "cell_type": "code",
      "source": [
        "def add(a, b):\n",
        "  print(a + b)\n",
        "\n",
        "add(10, -10)"
      ],
      "metadata": {
        "colab": {
          "base_uri": "https://localhost:8080/"
        },
        "id": "5WZ6c6-6uARp",
        "outputId": "f7d07926-4110-47dd-bd44-aeb304848749"
      },
      "execution_count": 57,
      "outputs": [
        {
          "output_type": "stream",
          "name": "stdout",
          "text": [
            "0\n"
          ]
        }
      ]
    },
    {
      "cell_type": "code",
      "source": [
        "def calc (a,b,c):\n",
        "  if c == \"+\":\n",
        "    print(a + b)\n",
        "  elif c == \"-\":\n",
        "    print(a - c)\n",
        "  elif c == \"*\":\n",
        "    print(a*b)\n",
        "  elif c == \"/\":\n",
        "    print(a/b)\n",
        "  else:\n",
        "    print(\"hatalı giriş\")\n",
        "\n",
        "calc(1,2,\"+\")"
      ],
      "metadata": {
        "colab": {
          "base_uri": "https://localhost:8080/"
        },
        "id": "8y-L6nHEwH85",
        "outputId": "d0d851a5-1d0e-4a99-bc25-c0ade2e3a5f1"
      },
      "execution_count": 61,
      "outputs": [
        {
          "output_type": "stream",
          "name": "stdout",
          "text": [
            "3\n"
          ]
        }
      ]
    },
    {
      "cell_type": "code",
      "source": [
        "for i in \"bus\":\n",
        "  print(i, end=\" \")"
      ],
      "metadata": {
        "colab": {
          "base_uri": "https://localhost:8080/"
        },
        "id": "q3hjl3nHzdvM",
        "outputId": "645d88a2-8ef9-4bd3-eed2-02496236b03c"
      },
      "execution_count": 64,
      "outputs": [
        {
          "output_type": "stream",
          "name": "stdout",
          "text": [
            "b u s "
          ]
        }
      ]
    },
    {
      "cell_type": "code",
      "source": [
        "def add(num1, num2):\n",
        "  return num1 + num2\n",
        "add(4,5)"
      ],
      "metadata": {
        "colab": {
          "base_uri": "https://localhost:8080/"
        },
        "id": "OGotE9qq55_O",
        "outputId": "49d0e8c0-ade2-4198-ab3f-59a82936fd8e"
      },
      "execution_count": 66,
      "outputs": [
        {
          "output_type": "execute_result",
          "data": {
            "text/plain": [
              "9"
            ]
          },
          "metadata": {},
          "execution_count": 66
        }
      ]
    },
    {
      "cell_type": "code",
      "source": [
        "print(add(4,5))"
      ],
      "metadata": {
        "colab": {
          "base_uri": "https://localhost:8080/"
        },
        "id": "EqJ29icR-dNV",
        "outputId": "b4f166ce-7774-444b-8e9c-dc8ace29fa14"
      },
      "execution_count": 67,
      "outputs": [
        {
          "output_type": "stream",
          "name": "stdout",
          "text": [
            "9\n"
          ]
        }
      ]
    },
    {
      "cell_type": "code",
      "source": [
        "mylist = []\n",
        "\n",
        "for i in range(5):\n",
        "  mylist.append(i + add(3,7))\n",
        "\n",
        "print(mylist)"
      ],
      "metadata": {
        "colab": {
          "base_uri": "https://localhost:8080/"
        },
        "id": "k-VRWj0Q_CiE",
        "outputId": "ccf628d9-129f-47a3-9d8f-a07597a30622"
      },
      "execution_count": 69,
      "outputs": [
        {
          "output_type": "stream",
          "name": "stdout",
          "text": [
            "[10, 11, 12, 13, 14]\n"
          ]
        }
      ]
    },
    {
      "cell_type": "code",
      "source": [
        "a = print(4 + 5)\n",
        "type(a) # print ekrana yazdırma fonksiyonudur, değeri yoktur."
      ],
      "metadata": {
        "colab": {
          "base_uri": "https://localhost:8080/"
        },
        "id": "gBTiVeap_Vs7",
        "outputId": "b28ae5ff-ebdd-425a-d98b-e0cacd7ad6d9"
      },
      "execution_count": 70,
      "outputs": [
        {
          "output_type": "stream",
          "name": "stdout",
          "text": [
            "9\n"
          ]
        },
        {
          "output_type": "execute_result",
          "data": {
            "text/plain": [
              "NoneType"
            ]
          },
          "metadata": {},
          "execution_count": 70
        }
      ]
    },
    {
      "cell_type": "code",
      "source": [
        "# a yukarıda tanımlandı ve NoneType olduğu için hata verir.\n",
        "a * 3"
      ],
      "metadata": {
        "colab": {
          "base_uri": "https://localhost:8080/",
          "height": 169
        },
        "id": "yZo1uoyUAp8Q",
        "outputId": "64ca8efe-b174-491b-ed56-c5f4b1d02835"
      },
      "execution_count": 71,
      "outputs": [
        {
          "output_type": "error",
          "ename": "TypeError",
          "evalue": "ignored",
          "traceback": [
            "\u001b[0;31m---------------------------------------------------------------------------\u001b[0m",
            "\u001b[0;31mTypeError\u001b[0m                                 Traceback (most recent call last)",
            "\u001b[0;32m<ipython-input-71-01641ace806a>\u001b[0m in \u001b[0;36m<module>\u001b[0;34m\u001b[0m\n\u001b[0;32m----> 1\u001b[0;31m \u001b[0ma\u001b[0m \u001b[0;34m*\u001b[0m \u001b[0;36m3\u001b[0m\u001b[0;34m\u001b[0m\u001b[0;34m\u001b[0m\u001b[0m\n\u001b[0m",
            "\u001b[0;31mTypeError\u001b[0m: unsupported operand type(s) for *: 'NoneType' and 'int'"
          ]
        }
      ]
    },
    {
      "cell_type": "code",
      "source": [
        "def add2(n1, n2):\n",
        "  print(n1 + n2) # print yerine return yazmıştık, burda hata verecek."
      ],
      "metadata": {
        "id": "pW3hz60FAsJe"
      },
      "execution_count": 73,
      "outputs": []
    },
    {
      "cell_type": "code",
      "source": [
        "mylist2 = []\n",
        "\n",
        "for i in range(5):\n",
        "  mylist.append(i + add2(5,6)) # add2 fonksiyonu oluştururken print olduğu için hata verir.\n",
        "mylist2"
      ],
      "metadata": {
        "colab": {
          "base_uri": "https://localhost:8080/",
          "height": 240
        },
        "id": "J-8S4dGBBKEA",
        "outputId": "a90d3c27-1364-4a25-b0f8-525f76650fde"
      },
      "execution_count": 74,
      "outputs": [
        {
          "output_type": "stream",
          "name": "stdout",
          "text": [
            "11\n"
          ]
        },
        {
          "output_type": "error",
          "ename": "TypeError",
          "evalue": "ignored",
          "traceback": [
            "\u001b[0;31m---------------------------------------------------------------------------\u001b[0m",
            "\u001b[0;31mTypeError\u001b[0m                                 Traceback (most recent call last)",
            "\u001b[0;32m<ipython-input-74-041d9f5516f5>\u001b[0m in \u001b[0;36m<module>\u001b[0;34m\u001b[0m\n\u001b[1;32m      2\u001b[0m \u001b[0;34m\u001b[0m\u001b[0m\n\u001b[1;32m      3\u001b[0m \u001b[0;32mfor\u001b[0m \u001b[0mi\u001b[0m \u001b[0;32min\u001b[0m \u001b[0mrange\u001b[0m\u001b[0;34m(\u001b[0m\u001b[0;36m5\u001b[0m\u001b[0;34m)\u001b[0m\u001b[0;34m:\u001b[0m\u001b[0;34m\u001b[0m\u001b[0;34m\u001b[0m\u001b[0m\n\u001b[0;32m----> 4\u001b[0;31m   \u001b[0mmylist\u001b[0m\u001b[0;34m.\u001b[0m\u001b[0mappend\u001b[0m\u001b[0;34m(\u001b[0m\u001b[0mi\u001b[0m \u001b[0;34m+\u001b[0m \u001b[0madd2\u001b[0m\u001b[0;34m(\u001b[0m\u001b[0;36m5\u001b[0m\u001b[0;34m,\u001b[0m\u001b[0;36m6\u001b[0m\u001b[0;34m)\u001b[0m\u001b[0;34m)\u001b[0m\u001b[0;34m\u001b[0m\u001b[0;34m\u001b[0m\u001b[0m\n\u001b[0m\u001b[1;32m      5\u001b[0m \u001b[0mmylist2\u001b[0m\u001b[0;34m\u001b[0m\u001b[0;34m\u001b[0m\u001b[0m\n",
            "\u001b[0;31mTypeError\u001b[0m: unsupported operand type(s) for +: 'int' and 'NoneType'"
          ]
        }
      ]
    },
    {
      "cell_type": "code",
      "source": [
        "def add3(x, y):\n",
        "  return x + y"
      ],
      "metadata": {
        "id": "Wc4exckHBcW3"
      },
      "execution_count": 75,
      "outputs": []
    },
    {
      "cell_type": "code",
      "source": [
        "type(add3(6,9)) # fonk tanımında return var, o yüzden type int."
      ],
      "metadata": {
        "colab": {
          "base_uri": "https://localhost:8080/"
        },
        "id": "JpR49VXGCB63",
        "outputId": "f6ba7e96-30d4-419a-cbaa-bbd349781afc"
      },
      "execution_count": 76,
      "outputs": [
        {
          "output_type": "execute_result",
          "data": {
            "text/plain": [
              "int"
            ]
          },
          "metadata": {},
          "execution_count": 76
        }
      ]
    },
    {
      "cell_type": "code",
      "source": [
        "def string():\n",
        "  return \"annebraincesus\"\n",
        "string()"
      ],
      "metadata": {
        "colab": {
          "base_uri": "https://localhost:8080/",
          "height": 35
        },
        "id": "pBgfBHYpCEDH",
        "outputId": "7e17cb57-9b0c-4ccc-b373-564d5043631f"
      },
      "execution_count": 77,
      "outputs": [
        {
          "output_type": "execute_result",
          "data": {
            "text/plain": [
              "'annebraincesus'"
            ],
            "application/vnd.google.colaboratory.intrinsic+json": {
              "type": "string"
            }
          },
          "metadata": {},
          "execution_count": 77
        }
      ]
    },
    {
      "cell_type": "code",
      "source": [
        "type(string())"
      ],
      "metadata": {
        "colab": {
          "base_uri": "https://localhost:8080/"
        },
        "id": "70wy8eilCpJT",
        "outputId": "6997873f-386a-455a-bfa2-0eacadda847c"
      },
      "execution_count": 78,
      "outputs": [
        {
          "output_type": "execute_result",
          "data": {
            "text/plain": [
              "str"
            ]
          },
          "metadata": {},
          "execution_count": 78
        }
      ]
    },
    {
      "cell_type": "code",
      "source": [
        "from timeit import timeit"
      ],
      "metadata": {
        "id": "PqOQ5fpfCr-O"
      },
      "execution_count": 79,
      "outputs": []
    },
    {
      "cell_type": "code",
      "source": [
        "def for_loop():\n",
        "  result = []\n",
        "  for i in range(1000000):\n",
        "    result.append(i)\n",
        "  return result\n",
        "\n",
        "\n",
        "\n",
        "def list_comprehension():\n",
        "  return [i for i in range(1000000)]\n",
        "\n",
        "expSize = 100\n",
        "\n",
        "time1 = timeit(for_loop, number = expSize)\n",
        "time2 = timeit(list_comprehension, number = expSize)\n",
        "\n",
        "print(f\"list comprehension is {round(time1/time2,2)} times faster than for loop\")"
      ],
      "metadata": {
        "colab": {
          "base_uri": "https://localhost:8080/"
        },
        "id": "RYwQ4JsRDG2m",
        "outputId": "564a884a-2c8c-4c0d-9dba-81985bbde607"
      },
      "execution_count": 81,
      "outputs": [
        {
          "output_type": "stream",
          "name": "stdout",
          "text": [
            "list comprehension is 1.5 times faster than for loop\n"
          ]
        }
      ]
    },
    {
      "cell_type": "code",
      "source": [],
      "metadata": {
        "id": "_l_eiyW8Ds13"
      },
      "execution_count": null,
      "outputs": []
    }
  ]
}