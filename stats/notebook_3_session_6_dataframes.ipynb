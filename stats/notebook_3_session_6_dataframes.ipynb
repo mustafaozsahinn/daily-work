{
 "cells": [
  {
   "cell_type": "code",
   "execution_count": 2,
   "metadata": {
    "colab": {
     "base_uri": "https://localhost:8080/"
    },
    "executionInfo": {
     "elapsed": 23208,
     "status": "ok",
     "timestamp": 1673077158461,
     "user": {
      "displayName": "Richard Thames",
      "userId": "00258987493291873022"
     },
     "user_tz": -180
    },
    "id": "HGrAx--uONrp",
    "outputId": "44c97083-39c4-45e2-ae47-cd03fbe35630"
   },
   "outputs": [
    {
     "ename": "ModuleNotFoundError",
     "evalue": "No module named 'google.colab'",
     "output_type": "error",
     "traceback": [
      "\u001b[0;31m---------------------------------------------------------------------------\u001b[0m",
      "\u001b[0;31mModuleNotFoundError\u001b[0m                       Traceback (most recent call last)",
      "Input \u001b[0;32mIn [2]\u001b[0m, in \u001b[0;36m<cell line: 1>\u001b[0;34m()\u001b[0m\n\u001b[0;32m----> 1\u001b[0m \u001b[38;5;28;01mfrom\u001b[39;00m \u001b[38;5;21;01mgoogle\u001b[39;00m\u001b[38;5;21;01m.\u001b[39;00m\u001b[38;5;21;01mcolab\u001b[39;00m \u001b[38;5;28;01mimport\u001b[39;00m drive\n\u001b[1;32m      2\u001b[0m drive\u001b[38;5;241m.\u001b[39mmount(\u001b[38;5;124m'\u001b[39m\u001b[38;5;124m/content/drive\u001b[39m\u001b[38;5;124m'\u001b[39m)\n",
      "\u001b[0;31mModuleNotFoundError\u001b[0m: No module named 'google.colab'"
     ]
    }
   ],
   "source": [
    "from google.colab import drive\n",
    "drive.mount('/content/drive')"
   ]
  },
  {
   "cell_type": "code",
   "execution_count": 3,
   "metadata": {
    "executionInfo": {
     "elapsed": 305,
     "status": "ok",
     "timestamp": 1673077282849,
     "user": {
      "displayName": "Richard Thames",
      "userId": "00258987493291873022"
     },
     "user_tz": -180
    },
    "id": "DSw4JGMtONHn"
   },
   "outputs": [],
   "source": [
    "# Import pandas, numpy, scip.stats\n",
    "import pandas as pd\n",
    "import numpy as np\n",
    "from scipy import stats"
   ]
  },
  {
   "cell_type": "markdown",
   "metadata": {
    "id": "gVarSWOAONHo"
   },
   "source": [
    "## One Sample T Test"
   ]
  },
  {
   "cell_type": "markdown",
   "metadata": {
    "id": "e6cY_hXXONHo"
   },
   "source": [
    "- According to Reynolds Intellectual Ability Scales, the average VIQ (Verbal IQ scores based on the four Wechsler (1981) subtests) is about 109.\n",
    "\n",
    "- In our sample data, we have a sample of 40 cases. \n",
    "- Let's test if the average VIQ of people is significantly bigger than 109."
   ]
  },
  {
   "cell_type": "code",
   "execution_count": 4,
   "metadata": {
    "executionInfo": {
     "elapsed": 758,
     "status": "ok",
     "timestamp": 1673077322588,
     "user": {
      "displayName": "Richard Thames",
      "userId": "00258987493291873022"
     },
     "user_tz": -180
    },
    "id": "Gpfb0bF4ONHp"
   },
   "outputs": [],
   "source": [
    "# Brain size and weight and IQ data (Willerman et al. 1991)\n",
    "df = pd.read_csv(\"brain_size.csv\", sep=\";\", na_values = \".\", index_col = 0)"
   ]
  },
  {
   "cell_type": "code",
   "execution_count": 5,
   "metadata": {
    "id": "_h5vlrky5bXV"
   },
   "outputs": [],
   "source": [
    "#df = pd.read_csv(\"brain_size.csv\", sep=\";\", na_values = \".\", index_col = 0)"
   ]
  },
  {
   "cell_type": "code",
   "execution_count": 6,
   "metadata": {
    "colab": {
     "base_uri": "https://localhost:8080/"
    },
    "executionInfo": {
     "elapsed": 308,
     "status": "ok",
     "timestamp": 1673077370590,
     "user": {
      "displayName": "Richard Thames",
      "userId": "00258987493291873022"
     },
     "user_tz": -180
    },
    "id": "6NTpc9-ETL_x",
    "outputId": "3f7a701a-6bef-49f2-d507-c68e106a1cb5"
   },
   "outputs": [
    {
     "data": {
      "text/plain": [
       "(40, 7)"
      ]
     },
     "execution_count": 6,
     "metadata": {},
     "output_type": "execute_result"
    }
   ],
   "source": [
    "df.shape"
   ]
  },
  {
   "cell_type": "code",
   "execution_count": 7,
   "metadata": {
    "colab": {
     "base_uri": "https://localhost:8080/",
     "height": 206
    },
    "executionInfo": {
     "elapsed": 7,
     "status": "ok",
     "timestamp": 1673077371856,
     "user": {
      "displayName": "Richard Thames",
      "userId": "00258987493291873022"
     },
     "user_tz": -180
    },
    "id": "HOX-IYlcONHp",
    "outputId": "6e725adc-ba9a-477b-9d3d-f1a8dc5fa7df"
   },
   "outputs": [
    {
     "data": {
      "text/html": [
       "<div>\n",
       "<style scoped>\n",
       "    .dataframe tbody tr th:only-of-type {\n",
       "        vertical-align: middle;\n",
       "    }\n",
       "\n",
       "    .dataframe tbody tr th {\n",
       "        vertical-align: top;\n",
       "    }\n",
       "\n",
       "    .dataframe thead th {\n",
       "        text-align: right;\n",
       "    }\n",
       "</style>\n",
       "<table border=\"1\" class=\"dataframe\">\n",
       "  <thead>\n",
       "    <tr style=\"text-align: right;\">\n",
       "      <th></th>\n",
       "      <th>Gender</th>\n",
       "      <th>FSIQ</th>\n",
       "      <th>VIQ</th>\n",
       "      <th>PIQ</th>\n",
       "      <th>Weight</th>\n",
       "      <th>Height</th>\n",
       "      <th>MRI_Count</th>\n",
       "    </tr>\n",
       "  </thead>\n",
       "  <tbody>\n",
       "    <tr>\n",
       "      <th>1</th>\n",
       "      <td>Female</td>\n",
       "      <td>133</td>\n",
       "      <td>132</td>\n",
       "      <td>124</td>\n",
       "      <td>118.0</td>\n",
       "      <td>64.5</td>\n",
       "      <td>816932</td>\n",
       "    </tr>\n",
       "    <tr>\n",
       "      <th>2</th>\n",
       "      <td>Male</td>\n",
       "      <td>140</td>\n",
       "      <td>150</td>\n",
       "      <td>124</td>\n",
       "      <td>NaN</td>\n",
       "      <td>72.5</td>\n",
       "      <td>1001121</td>\n",
       "    </tr>\n",
       "    <tr>\n",
       "      <th>3</th>\n",
       "      <td>Male</td>\n",
       "      <td>139</td>\n",
       "      <td>123</td>\n",
       "      <td>150</td>\n",
       "      <td>143.0</td>\n",
       "      <td>73.3</td>\n",
       "      <td>1038437</td>\n",
       "    </tr>\n",
       "    <tr>\n",
       "      <th>4</th>\n",
       "      <td>Male</td>\n",
       "      <td>133</td>\n",
       "      <td>129</td>\n",
       "      <td>128</td>\n",
       "      <td>172.0</td>\n",
       "      <td>68.8</td>\n",
       "      <td>965353</td>\n",
       "    </tr>\n",
       "    <tr>\n",
       "      <th>5</th>\n",
       "      <td>Female</td>\n",
       "      <td>137</td>\n",
       "      <td>132</td>\n",
       "      <td>134</td>\n",
       "      <td>147.0</td>\n",
       "      <td>65.0</td>\n",
       "      <td>951545</td>\n",
       "    </tr>\n",
       "  </tbody>\n",
       "</table>\n",
       "</div>"
      ],
      "text/plain": [
       "   Gender  FSIQ  VIQ  PIQ  Weight  Height  MRI_Count\n",
       "1  Female   133  132  124   118.0    64.5     816932\n",
       "2    Male   140  150  124     NaN    72.5    1001121\n",
       "3    Male   139  123  150   143.0    73.3    1038437\n",
       "4    Male   133  129  128   172.0    68.8     965353\n",
       "5  Female   137  132  134   147.0    65.0     951545"
      ]
     },
     "execution_count": 7,
     "metadata": {},
     "output_type": "execute_result"
    }
   ],
   "source": [
    "df.head()"
   ]
  },
  {
   "cell_type": "code",
   "execution_count": 8,
   "metadata": {
    "executionInfo": {
     "elapsed": 314,
     "status": "ok",
     "timestamp": 1673077387274,
     "user": {
      "displayName": "Richard Thames",
      "userId": "00258987493291873022"
     },
     "user_tz": -180
    },
    "id": "SqhM86dnONHq"
   },
   "outputs": [],
   "source": [
    "# H0: mu = 109\n",
    "# H1: mu > 109"
   ]
  },
  {
   "cell_type": "code",
   "execution_count": 9,
   "metadata": {
    "colab": {
     "base_uri": "https://localhost:8080/"
    },
    "executionInfo": {
     "elapsed": 314,
     "status": "ok",
     "timestamp": 1673077392686,
     "user": {
      "displayName": "Richard Thames",
      "userId": "00258987493291873022"
     },
     "user_tz": -180
    },
    "id": "r1KpxvMpONHr",
    "outputId": "50e3ea0c-d311-4c5f-919d-9e0a11b6920b"
   },
   "outputs": [
    {
     "data": {
      "text/plain": [
       "112.35"
      ]
     },
     "execution_count": 9,
     "metadata": {},
     "output_type": "execute_result"
    }
   ],
   "source": [
    "# Calculate the mean of VIQ\n",
    "xbar = df.VIQ.mean()\n",
    "xbar"
   ]
  },
  {
   "cell_type": "code",
   "execution_count": 10,
   "metadata": {
    "colab": {
     "base_uri": "https://localhost:8080/"
    },
    "executionInfo": {
     "elapsed": 308,
     "status": "ok",
     "timestamp": 1673077408912,
     "user": {
      "displayName": "Richard Thames",
      "userId": "00258987493291873022"
     },
     "user_tz": -180
    },
    "id": "CGHmbJdRONHs",
    "outputId": "a7fefec3-fa00-48dc-9544-43894f9c7efe"
   },
   "outputs": [
    {
     "data": {
      "text/plain": [
       "23.616107063199735"
      ]
     },
     "execution_count": 10,
     "metadata": {},
     "output_type": "execute_result"
    }
   ],
   "source": [
    "# Calculate the std of VIQ\n",
    "s = df.VIQ.std()\n",
    "s"
   ]
  },
  {
   "cell_type": "code",
   "execution_count": 11,
   "metadata": {
    "colab": {
     "base_uri": "https://localhost:8080/"
    },
    "executionInfo": {
     "elapsed": 315,
     "status": "ok",
     "timestamp": 1673077424326,
     "user": {
      "displayName": "Richard Thames",
      "userId": "00258987493291873022"
     },
     "user_tz": -180
    },
    "id": "PNeuSKd0TALm",
    "outputId": "a9df6e28-a6ab-46b7-a732-0c5864badd48"
   },
   "outputs": [
    {
     "data": {
      "text/plain": [
       "3.7340343893050596"
      ]
     },
     "execution_count": 11,
     "metadata": {},
     "output_type": "execute_result"
    }
   ],
   "source": [
    "s/np.sqrt(df.shape[0])"
   ]
  },
  {
   "cell_type": "code",
   "execution_count": 12,
   "metadata": {
    "colab": {
     "base_uri": "https://localhost:8080/"
    },
    "executionInfo": {
     "elapsed": 3,
     "status": "ok",
     "timestamp": 1673077427057,
     "user": {
      "displayName": "Richard Thames",
      "userId": "00258987493291873022"
     },
     "user_tz": -180
    },
    "id": "B4cNFVFgONHs",
    "outputId": "9e9ad9e0-ba14-402a-a61b-f3642fede351"
   },
   "outputs": [
    {
     "data": {
      "text/plain": [
       "(40, 7)"
      ]
     },
     "execution_count": 12,
     "metadata": {},
     "output_type": "execute_result"
    }
   ],
   "source": [
    "df.shape"
   ]
  },
  {
   "cell_type": "code",
   "execution_count": 13,
   "metadata": {
    "executionInfo": {
     "elapsed": 1,
     "status": "ok",
     "timestamp": 1673077428377,
     "user": {
      "displayName": "Richard Thames",
      "userId": "00258987493291873022"
     },
     "user_tz": -180
    },
    "id": "hjwS_PQ-ONHt"
   },
   "outputs": [],
   "source": [
    "# Calculate the test statistic\n",
    "t_test = (xbar - 109)/(s/np.sqrt(df.shape[0]))"
   ]
  },
  {
   "cell_type": "code",
   "execution_count": 14,
   "metadata": {
    "colab": {
     "base_uri": "https://localhost:8080/"
    },
    "executionInfo": {
     "elapsed": 312,
     "status": "ok",
     "timestamp": 1673077430982,
     "user": {
      "displayName": "Richard Thames",
      "userId": "00258987493291873022"
     },
     "user_tz": -180
    },
    "id": "0IXxEHxQONHt",
    "outputId": "e71184ba-7b13-4184-83a6-5a0586317575"
   },
   "outputs": [
    {
     "data": {
      "text/plain": [
       "0.8971529586323553"
      ]
     },
     "execution_count": 14,
     "metadata": {},
     "output_type": "execute_result"
    }
   ],
   "source": [
    "#test statistic\n",
    "t_test"
   ]
  },
  {
   "cell_type": "code",
   "execution_count": 15,
   "metadata": {
    "colab": {
     "base_uri": "https://localhost:8080/"
    },
    "executionInfo": {
     "elapsed": 6,
     "status": "ok",
     "timestamp": 1673077433399,
     "user": {
      "displayName": "Richard Thames",
      "userId": "00258987493291873022"
     },
     "user_tz": -180
    },
    "id": "RZVX-atjONHu",
    "outputId": "ee9834d2-108c-42c8-f605-96ab9d9dc1aa"
   },
   "outputs": [
    {
     "data": {
      "text/plain": [
       "0.18757115929257173"
      ]
     },
     "execution_count": 15,
     "metadata": {},
     "output_type": "execute_result"
    }
   ],
   "source": [
    "# Calculate p-value\n",
    "1 - stats.t.cdf(t_test, 39)"
   ]
  },
  {
   "cell_type": "code",
   "execution_count": 16,
   "metadata": {
    "id": "lPQUZyBYVUD9"
   },
   "outputs": [],
   "source": [
    "#help(stats.ttest_1samp)"
   ]
  },
  {
   "cell_type": "code",
   "execution_count": 17,
   "metadata": {
    "colab": {
     "base_uri": "https://localhost:8080/"
    },
    "executionInfo": {
     "elapsed": 327,
     "status": "ok",
     "timestamp": 1673077542956,
     "user": {
      "displayName": "Richard Thames",
      "userId": "00258987493291873022"
     },
     "user_tz": -180
    },
    "id": "BMf1Sfe6ONHv",
    "outputId": "ea4f91df-0eca-4e1c-99a2-b0cea7fc286e"
   },
   "outputs": [
    {
     "data": {
      "text/plain": [
       "Ttest_1sampResult(statistic=0.897152958632355, pvalue=0.1875711592925718)"
      ]
     },
     "execution_count": 17,
     "metadata": {},
     "output_type": "execute_result"
    }
   ],
   "source": [
    "# Use stats.ttest_1samp() to calculate the test statistic and p-value\n",
    "oneSamp = stats.ttest_1samp(df.VIQ, 109, alternative='greater')\n",
    "oneSamp"
   ]
  },
  {
   "cell_type": "code",
   "execution_count": 18,
   "metadata": {
    "colab": {
     "base_uri": "https://localhost:8080/"
    },
    "executionInfo": {
     "elapsed": 317,
     "status": "ok",
     "timestamp": 1673077547887,
     "user": {
      "displayName": "Richard Thames",
      "userId": "00258987493291873022"
     },
     "user_tz": -180
    },
    "id": "5RDIDUGsONHv",
    "outputId": "a22a7385-05ed-424d-e8f9-ba6301bace59"
   },
   "outputs": [
    {
     "data": {
      "text/plain": [
       "0.1875711592925718"
      ]
     },
     "execution_count": 18,
     "metadata": {},
     "output_type": "execute_result"
    }
   ],
   "source": [
    "#Display p-value\n",
    "oneSamp.pvalue"
   ]
  },
  {
   "cell_type": "code",
   "execution_count": 19,
   "metadata": {
    "colab": {
     "base_uri": "https://localhost:8080/"
    },
    "executionInfo": {
     "elapsed": 315,
     "status": "ok",
     "timestamp": 1673077625602,
     "user": {
      "displayName": "Richard Thames",
      "userId": "00258987493291873022"
     },
     "user_tz": -180
    },
    "id": "zPKXKr2yONHw",
    "outputId": "e7889fa1-e283-4b7c-e8a1-37041f3310f0"
   },
   "outputs": [
    {
     "name": "stdout",
     "output_type": "stream",
     "text": [
      "Fail to reject the null\n"
     ]
    }
   ],
   "source": [
    "# Compare p-value and alpha\n",
    "alpha = 0.05\n",
    "\n",
    "if oneSamp.pvalue < alpha:\n",
    "    print(\"Reject the null\")\n",
    "else:\n",
    "    print(\"Fail to reject the null\")"
   ]
  },
  {
   "cell_type": "markdown",
   "metadata": {
    "id": "xFEzHlXGONHw"
   },
   "source": [
    "# Independent Samples T Test"
   ]
  },
  {
   "cell_type": "markdown",
   "metadata": {
    "id": "1yJQ9KpKONHx"
   },
   "source": [
    "## Arsenic Example"
   ]
  },
  {
   "cell_type": "markdown",
   "metadata": {
    "id": "IxCoQw5ZONHx"
   },
   "source": [
    "- Arsenic concentration in public drinking water supplies is a potential health risk. \n",
    "- An article in the Arizona Republic (May 27, 2001) reported drinking water arsenic concentrations in parts per billion (ppb) for 10 metropolitan Phoenix communities and 10 communities in rural Arizona.\n",
    "- You can find the data in CSV file."
   ]
  },
  {
   "cell_type": "markdown",
   "metadata": {
    "id": "vNXfvikBONHy"
   },
   "source": [
    "Determine if there is any difference in mean arsenic concentrations between metropolitan Phoenix communities and communities in rural Arizona."
   ]
  },
  {
   "cell_type": "code",
   "execution_count": 20,
   "metadata": {
    "executionInfo": {
     "elapsed": 320,
     "status": "ok",
     "timestamp": 1673077967433,
     "user": {
      "displayName": "Richard Thames",
      "userId": "00258987493291873022"
     },
     "user_tz": -180
    },
    "id": "CIVxXOvVONHy"
   },
   "outputs": [],
   "source": [
    "#Import arsenic dataset\n",
    "arsenic = pd.read_csv(\"arsenic.csv\")"
   ]
  },
  {
   "cell_type": "code",
   "execution_count": 21,
   "metadata": {
    "colab": {
     "base_uri": "https://localhost:8080/",
     "height": 363
    },
    "executionInfo": {
     "elapsed": 354,
     "status": "ok",
     "timestamp": 1673077969679,
     "user": {
      "displayName": "Richard Thames",
      "userId": "00258987493291873022"
     },
     "user_tz": -180
    },
    "id": "KPCxWbV2ONHy",
    "outputId": "af0990eb-57c9-40b5-bbf4-3aa0fcc16f49"
   },
   "outputs": [
    {
     "data": {
      "text/html": [
       "<div>\n",
       "<style scoped>\n",
       "    .dataframe tbody tr th:only-of-type {\n",
       "        vertical-align: middle;\n",
       "    }\n",
       "\n",
       "    .dataframe tbody tr th {\n",
       "        vertical-align: top;\n",
       "    }\n",
       "\n",
       "    .dataframe thead th {\n",
       "        text-align: right;\n",
       "    }\n",
       "</style>\n",
       "<table border=\"1\" class=\"dataframe\">\n",
       "  <thead>\n",
       "    <tr style=\"text-align: right;\">\n",
       "      <th></th>\n",
       "      <th>Metro Phoenix</th>\n",
       "      <th>x1</th>\n",
       "      <th>Rural Arizona</th>\n",
       "      <th>x2</th>\n",
       "    </tr>\n",
       "  </thead>\n",
       "  <tbody>\n",
       "    <tr>\n",
       "      <th>0</th>\n",
       "      <td>Phoenix</td>\n",
       "      <td>3</td>\n",
       "      <td>Rimrock</td>\n",
       "      <td>48</td>\n",
       "    </tr>\n",
       "    <tr>\n",
       "      <th>1</th>\n",
       "      <td>Chandler</td>\n",
       "      <td>7</td>\n",
       "      <td>Goodyear</td>\n",
       "      <td>44</td>\n",
       "    </tr>\n",
       "    <tr>\n",
       "      <th>2</th>\n",
       "      <td>Gilbert</td>\n",
       "      <td>25</td>\n",
       "      <td>New River</td>\n",
       "      <td>40</td>\n",
       "    </tr>\n",
       "    <tr>\n",
       "      <th>3</th>\n",
       "      <td>Glendale</td>\n",
       "      <td>10</td>\n",
       "      <td>Apache Junction</td>\n",
       "      <td>38</td>\n",
       "    </tr>\n",
       "    <tr>\n",
       "      <th>4</th>\n",
       "      <td>Mesa</td>\n",
       "      <td>15</td>\n",
       "      <td>Buckeye</td>\n",
       "      <td>33</td>\n",
       "    </tr>\n",
       "    <tr>\n",
       "      <th>5</th>\n",
       "      <td>Paradise Valley</td>\n",
       "      <td>6</td>\n",
       "      <td>Nogales</td>\n",
       "      <td>21</td>\n",
       "    </tr>\n",
       "    <tr>\n",
       "      <th>6</th>\n",
       "      <td>Peoria</td>\n",
       "      <td>12</td>\n",
       "      <td>Black Canyon City</td>\n",
       "      <td>20</td>\n",
       "    </tr>\n",
       "    <tr>\n",
       "      <th>7</th>\n",
       "      <td>Scottsdale</td>\n",
       "      <td>25</td>\n",
       "      <td>Sedona</td>\n",
       "      <td>12</td>\n",
       "    </tr>\n",
       "    <tr>\n",
       "      <th>8</th>\n",
       "      <td>Tempe</td>\n",
       "      <td>15</td>\n",
       "      <td>Payson</td>\n",
       "      <td>1</td>\n",
       "    </tr>\n",
       "    <tr>\n",
       "      <th>9</th>\n",
       "      <td>Sun City</td>\n",
       "      <td>7</td>\n",
       "      <td>Casa Grande</td>\n",
       "      <td>18</td>\n",
       "    </tr>\n",
       "  </tbody>\n",
       "</table>\n",
       "</div>"
      ],
      "text/plain": [
       "     Metro Phoenix  x1      Rural Arizona  x2\n",
       "0          Phoenix   3            Rimrock  48\n",
       "1         Chandler   7           Goodyear  44\n",
       "2          Gilbert  25          New River  40\n",
       "3         Glendale  10    Apache Junction  38\n",
       "4             Mesa  15            Buckeye  33\n",
       "5  Paradise Valley   6            Nogales  21\n",
       "6           Peoria  12  Black Canyon City  20\n",
       "7       Scottsdale  25             Sedona  12\n",
       "8            Tempe  15             Payson   1\n",
       "9         Sun City   7        Casa Grande  18"
      ]
     },
     "execution_count": 21,
     "metadata": {},
     "output_type": "execute_result"
    }
   ],
   "source": [
    "arsenic"
   ]
  },
  {
   "cell_type": "code",
   "execution_count": 22,
   "metadata": {
    "colab": {
     "base_uri": "https://localhost:8080/"
    },
    "executionInfo": {
     "elapsed": 335,
     "status": "ok",
     "timestamp": 1673078006948,
     "user": {
      "displayName": "Richard Thames",
      "userId": "00258987493291873022"
     },
     "user_tz": -180
    },
    "id": "38vFzA3oZOU_",
    "outputId": "4c245458-b887-4200-a4a9-2d3bfae36ee7"
   },
   "outputs": [
    {
     "data": {
      "text/plain": [
       "Index(['Metro Phoenix', 'x1', 'Rural Arizona', 'x2'], dtype='object')"
      ]
     },
     "execution_count": 22,
     "metadata": {},
     "output_type": "execute_result"
    }
   ],
   "source": [
    "arsenic.columns"
   ]
  },
  {
   "cell_type": "code",
   "execution_count": 23,
   "metadata": {
    "executionInfo": {
     "elapsed": 308,
     "status": "ok",
     "timestamp": 1673078008545,
     "user": {
      "displayName": "Richard Thames",
      "userId": "00258987493291873022"
     },
     "user_tz": -180
    },
    "id": "JtLddmDzONHz"
   },
   "outputs": [],
   "source": [
    "#H0: mu1 = mu2\n",
    "#H1: mu1 != mu2"
   ]
  },
  {
   "cell_type": "code",
   "execution_count": 24,
   "metadata": {
    "colab": {
     "base_uri": "https://localhost:8080/"
    },
    "executionInfo": {
     "elapsed": 463,
     "status": "ok",
     "timestamp": 1673078009810,
     "user": {
      "displayName": "Richard Thames",
      "userId": "00258987493291873022"
     },
     "user_tz": -180
    },
    "id": "osG8X_N3ONHz",
    "outputId": "d2a9e083-a500-4c36-bcd3-efa0ca22eecf"
   },
   "outputs": [
    {
     "data": {
      "text/plain": [
       "LeveneResult(statistic=7.7015516672169, pvalue=0.012482954069299166)"
      ]
     },
     "execution_count": 24,
     "metadata": {},
     "output_type": "execute_result"
    }
   ],
   "source": [
    "#Perform Levene test for equal variances\n",
    "#H0: The population variances are equal\n",
    "#H1: There is a difference between the variances in the population\n",
    "#The small p-value suggests that the populations do not have equal variances.\n",
    "leveneTest = stats.levene(arsenic.x1, arsenic.x2)\n",
    "leveneTest"
   ]
  },
  {
   "cell_type": "code",
   "execution_count": 25,
   "metadata": {
    "colab": {
     "base_uri": "https://localhost:8080/"
    },
    "executionInfo": {
     "elapsed": 5,
     "status": "ok",
     "timestamp": 1673078012591,
     "user": {
      "displayName": "Richard Thames",
      "userId": "00258987493291873022"
     },
     "user_tz": -180
    },
    "id": "K7pRFDRRONHz",
    "outputId": "dceacc0d-c03a-4619-ba77-44dd9388eb7e"
   },
   "outputs": [
    {
     "data": {
      "text/plain": [
       "12.5"
      ]
     },
     "execution_count": 25,
     "metadata": {},
     "output_type": "execute_result"
    }
   ],
   "source": [
    "# average Metro Phoenix\n",
    "arsenic.x1.mean()"
   ]
  },
  {
   "cell_type": "code",
   "execution_count": 26,
   "metadata": {
    "colab": {
     "base_uri": "https://localhost:8080/"
    },
    "executionInfo": {
     "elapsed": 4,
     "status": "ok",
     "timestamp": 1673078013858,
     "user": {
      "displayName": "Richard Thames",
      "userId": "00258987493291873022"
     },
     "user_tz": -180
    },
    "id": "NblQjudxONHz",
    "outputId": "2e721fdc-4166-444c-c3a7-88d75a50339f"
   },
   "outputs": [
    {
     "data": {
      "text/plain": [
       "27.5"
      ]
     },
     "execution_count": 26,
     "metadata": {},
     "output_type": "execute_result"
    }
   ],
   "source": [
    "# average Rural Arizona\n",
    "arsenic.x2.mean()"
   ]
  },
  {
   "cell_type": "markdown",
   "metadata": {
    "id": "GiciPQa_ONH0"
   },
   "source": [
    "Calculate the T-test for the means of two independent samples of scores."
   ]
  },
  {
   "cell_type": "code",
   "execution_count": 27,
   "metadata": {
    "id": "LdQqc1azONH0"
   },
   "outputs": [],
   "source": [
    "# H0: mu1 = mu2\n",
    "# H1: mu1 != mu2"
   ]
  },
  {
   "cell_type": "code",
   "execution_count": 28,
   "metadata": {
    "id": "vlKDVRAFbGbw"
   },
   "outputs": [],
   "source": [
    "#help(stats.ttest_ind)"
   ]
  },
  {
   "cell_type": "code",
   "execution_count": 41,
   "metadata": {
    "colab": {
     "base_uri": "https://localhost:8080/"
    },
    "executionInfo": {
     "elapsed": 3,
     "status": "ok",
     "timestamp": 1673078049525,
     "user": {
      "displayName": "Richard Thames",
      "userId": "00258987493291873022"
     },
     "user_tz": -180
    },
    "id": "YGDINnV9ONH0",
    "outputId": "3dc315e3-f685-4b9c-9e6c-27d45577f630"
   },
   "outputs": [
    {
     "data": {
      "text/plain": [
       "Ttest_indResult(statistic=-2.7669395785560558, pvalue=0.015827284816100885)"
      ]
     },
     "execution_count": 41,
     "metadata": {},
     "output_type": "execute_result"
    }
   ],
   "source": [
    "# Calculate test statistics using stats.ttest_ind()\n",
    "indTest = stats.ttest_ind(arsenic.x1, arsenic.x2, equal_var = False)\n",
    "indTest"
   ]
  },
  {
   "cell_type": "code",
   "execution_count": 30,
   "metadata": {
    "colab": {
     "base_uri": "https://localhost:8080/"
    },
    "executionInfo": {
     "elapsed": 296,
     "status": "ok",
     "timestamp": 1673078054131,
     "user": {
      "displayName": "Richard Thames",
      "userId": "00258987493291873022"
     },
     "user_tz": -180
    },
    "id": "M4RzjtbFONH0",
    "outputId": "48fb6284-d23a-43d6-f2dc-da9d7903e564"
   },
   "outputs": [
    {
     "data": {
      "text/plain": [
       "-2.7669395785560558"
      ]
     },
     "execution_count": 30,
     "metadata": {},
     "output_type": "execute_result"
    }
   ],
   "source": [
    "indTest.statistic"
   ]
  },
  {
   "cell_type": "code",
   "execution_count": 31,
   "metadata": {
    "colab": {
     "base_uri": "https://localhost:8080/"
    },
    "executionInfo": {
     "elapsed": 3,
     "status": "ok",
     "timestamp": 1673078055793,
     "user": {
      "displayName": "Richard Thames",
      "userId": "00258987493291873022"
     },
     "user_tz": -180
    },
    "id": "yJDOaluLONH1",
    "outputId": "865f021e-af9c-48aa-d78a-346f7a668ad1"
   },
   "outputs": [
    {
     "data": {
      "text/plain": [
       "0.015827284816100885"
      ]
     },
     "execution_count": 31,
     "metadata": {},
     "output_type": "execute_result"
    }
   ],
   "source": [
    "indTest.pvalue"
   ]
  },
  {
   "cell_type": "code",
   "execution_count": 32,
   "metadata": {
    "colab": {
     "base_uri": "https://localhost:8080/"
    },
    "executionInfo": {
     "elapsed": 4,
     "status": "ok",
     "timestamp": 1673078059321,
     "user": {
      "displayName": "Richard Thames",
      "userId": "00258987493291873022"
     },
     "user_tz": -180
    },
    "id": "YZvLrAqpONH1",
    "outputId": "a4209298-fffd-403a-f7f4-d9439440149c"
   },
   "outputs": [
    {
     "name": "stdout",
     "output_type": "stream",
     "text": [
      "Reject the null\n"
     ]
    }
   ],
   "source": [
    "# Decision\n",
    "alpha = 0.05\n",
    "\n",
    "if indTest.pvalue < alpha:\n",
    "    print(\"Reject the null\")\n",
    "else:\n",
    "    print(\"Fail to reject the null\")"
   ]
  },
  {
   "cell_type": "markdown",
   "metadata": {
    "id": "iKBF7QtaONH1"
   },
   "source": [
    "# Paired (Dependent) Samples T Test"
   ]
  },
  {
   "cell_type": "markdown",
   "metadata": {
    "id": "GCU28cSfONH1"
   },
   "source": [
    "## Prozac Data"
   ]
  },
  {
   "cell_type": "markdown",
   "metadata": {
    "id": "brjzMXB3ONH2"
   },
   "source": [
    "- Let us consider a simple example of what is often termed \"pre/post\" data or \"pretest/posttest\" data. \n",
    "- Suppose you wish to test the effect of Prozac on the well-being of depressed individuals, using a standardised \"well-being scale\" that sums Likert-type items to obtain a score that could range from 0 to 20. \n",
    "- Higher scores indicate greater well-being (that is, Prozac is having a positive effect). \n",
    "- While there are flaws in this design (e.g., lack of a control group) it will serve as an example of how to analyse such data."
   ]
  },
  {
   "cell_type": "markdown",
   "metadata": {
    "id": "SXO2wP1YONH2"
   },
   "source": [
    "Determine if Prozac enhances well-being in depressed individuals. Use   0.05\n"
   ]
  },
  {
   "cell_type": "code",
   "execution_count": 33,
   "metadata": {
    "executionInfo": {
     "elapsed": 309,
     "status": "ok",
     "timestamp": 1673078079235,
     "user": {
      "displayName": "Richard Thames",
      "userId": "00258987493291873022"
     },
     "user_tz": -180
    },
    "id": "hnl_JBV7ONH2"
   },
   "outputs": [],
   "source": [
    "# read prozac dataset\n",
    "prozac = pd.read_csv(\"prozac.csv\")"
   ]
  },
  {
   "cell_type": "code",
   "execution_count": 34,
   "metadata": {
    "colab": {
     "base_uri": "https://localhost:8080/",
     "height": 332
    },
    "executionInfo": {
     "elapsed": 465,
     "status": "ok",
     "timestamp": 1673078080030,
     "user": {
      "displayName": "Richard Thames",
      "userId": "00258987493291873022"
     },
     "user_tz": -180
    },
    "id": "cSB9fcvZONH2",
    "outputId": "a607e303-07dc-49e6-baed-8857d1755ee8"
   },
   "outputs": [
    {
     "data": {
      "text/html": [
       "<div>\n",
       "<style scoped>\n",
       "    .dataframe tbody tr th:only-of-type {\n",
       "        vertical-align: middle;\n",
       "    }\n",
       "\n",
       "    .dataframe tbody tr th {\n",
       "        vertical-align: top;\n",
       "    }\n",
       "\n",
       "    .dataframe thead th {\n",
       "        text-align: right;\n",
       "    }\n",
       "</style>\n",
       "<table border=\"1\" class=\"dataframe\">\n",
       "  <thead>\n",
       "    <tr style=\"text-align: right;\">\n",
       "      <th></th>\n",
       "      <th>moodpre</th>\n",
       "      <th>moodpost</th>\n",
       "      <th>difference</th>\n",
       "    </tr>\n",
       "  </thead>\n",
       "  <tbody>\n",
       "    <tr>\n",
       "      <th>0</th>\n",
       "      <td>3</td>\n",
       "      <td>5</td>\n",
       "      <td>2</td>\n",
       "    </tr>\n",
       "    <tr>\n",
       "      <th>1</th>\n",
       "      <td>0</td>\n",
       "      <td>1</td>\n",
       "      <td>1</td>\n",
       "    </tr>\n",
       "    <tr>\n",
       "      <th>2</th>\n",
       "      <td>6</td>\n",
       "      <td>5</td>\n",
       "      <td>-1</td>\n",
       "    </tr>\n",
       "    <tr>\n",
       "      <th>3</th>\n",
       "      <td>7</td>\n",
       "      <td>7</td>\n",
       "      <td>0</td>\n",
       "    </tr>\n",
       "    <tr>\n",
       "      <th>4</th>\n",
       "      <td>4</td>\n",
       "      <td>10</td>\n",
       "      <td>6</td>\n",
       "    </tr>\n",
       "    <tr>\n",
       "      <th>5</th>\n",
       "      <td>3</td>\n",
       "      <td>9</td>\n",
       "      <td>6</td>\n",
       "    </tr>\n",
       "    <tr>\n",
       "      <th>6</th>\n",
       "      <td>2</td>\n",
       "      <td>7</td>\n",
       "      <td>5</td>\n",
       "    </tr>\n",
       "    <tr>\n",
       "      <th>7</th>\n",
       "      <td>1</td>\n",
       "      <td>11</td>\n",
       "      <td>10</td>\n",
       "    </tr>\n",
       "    <tr>\n",
       "      <th>8</th>\n",
       "      <td>4</td>\n",
       "      <td>8</td>\n",
       "      <td>4</td>\n",
       "    </tr>\n",
       "  </tbody>\n",
       "</table>\n",
       "</div>"
      ],
      "text/plain": [
       "   moodpre  moodpost  difference\n",
       "0        3         5           2\n",
       "1        0         1           1\n",
       "2        6         5          -1\n",
       "3        7         7           0\n",
       "4        4        10           6\n",
       "5        3         9           6\n",
       "6        2         7           5\n",
       "7        1        11          10\n",
       "8        4         8           4"
      ]
     },
     "execution_count": 34,
     "metadata": {},
     "output_type": "execute_result"
    }
   ],
   "source": [
    "prozac"
   ]
  },
  {
   "cell_type": "code",
   "execution_count": 35,
   "metadata": {
    "id": "BiQ6HyIoONH2"
   },
   "outputs": [],
   "source": [
    "# moodpost - moodpre\n",
    "# H0: d_bar = 0\n",
    "# H1: d_bar > 0"
   ]
  },
  {
   "cell_type": "code",
   "execution_count": 36,
   "metadata": {
    "colab": {
     "base_uri": "https://localhost:8080/"
    },
    "executionInfo": {
     "elapsed": 301,
     "status": "ok",
     "timestamp": 1673078083966,
     "user": {
      "displayName": "Richard Thames",
      "userId": "00258987493291873022"
     },
     "user_tz": -180
    },
    "id": "uPLEtigFONH3",
    "outputId": "b17fd700-4720-4324-a6cc-59666db7335c"
   },
   "outputs": [
    {
     "data": {
      "text/plain": [
       "Ttest_relResult(statistic=3.1428571428571423, pvalue=0.006872912197394244)"
      ]
     },
     "execution_count": 36,
     "metadata": {},
     "output_type": "execute_result"
    }
   ],
   "source": [
    "# Calculate test statistics using stats.ttest_rel()  \n",
    "# moodpost - moodpre\n",
    "pairedtest = stats.ttest_rel(prozac.moodpost, prozac.moodpre, alternative = \"greater\")\n",
    "pairedtest"
   ]
  },
  {
   "cell_type": "code",
   "execution_count": 43,
   "metadata": {
    "id": "EY2u024FONH3"
   },
   "outputs": [
    {
     "data": {
      "text/plain": [
       "Ttest_relResult(statistic=-3.1428571428571423, pvalue=0.006872912197394244)"
      ]
     },
     "execution_count": 43,
     "metadata": {},
     "output_type": "execute_result"
    }
   ],
   "source": [
    "# moodpre - moodpost\n",
    "# H0: d_bar = 0\n",
    "# H1: d_bar < 0\n",
    "stats.ttest_rel(prozac.moodpre, prozac.moodpost, alternative=\"less\")"
   ]
  },
  {
   "cell_type": "code",
   "execution_count": 38,
   "metadata": {
    "colab": {
     "base_uri": "https://localhost:8080/"
    },
    "executionInfo": {
     "elapsed": 306,
     "status": "ok",
     "timestamp": 1673078090486,
     "user": {
      "displayName": "Richard Thames",
      "userId": "00258987493291873022"
     },
     "user_tz": -180
    },
    "id": "7bVGa7jrONH3",
    "outputId": "4c1e9060-8a44-4fc0-be08-0b375112509c"
   },
   "outputs": [
    {
     "name": "stdout",
     "output_type": "stream",
     "text": [
      "Reject the Null\n"
     ]
    }
   ],
   "source": [
    "# Decision\n",
    "alpha = 0.05\n",
    "\n",
    "if pairedtest.pvalue < alpha:\n",
    "    print(\"Reject the Null\")\n",
    "else:\n",
    "    print(\"Fail to reject\")"
   ]
  },
  {
   "cell_type": "code",
   "execution_count": 39,
   "metadata": {
    "id": "cTdhutNAfTwq"
   },
   "outputs": [],
   "source": [
    "#That means prozac treatment gives good results."
   ]
  },
  {
   "cell_type": "code",
   "execution_count": null,
   "metadata": {},
   "outputs": [],
   "source": []
  },
  {
   "cell_type": "code",
   "execution_count": null,
   "metadata": {},
   "outputs": [],
   "source": []
  },
  {
   "cell_type": "code",
   "execution_count": null,
   "metadata": {},
   "outputs": [],
   "source": []
  }
 ],
 "metadata": {
  "colab": {
   "provenance": [
    {
     "file_id": "1TFTXwMsq_LE_E13ZfZMhwosaIUb2J6Lx",
     "timestamp": 1644940745214
    },
    {
     "file_id": "10AaYzkuMZiK4_vSS0fo4EHHbaSXh7F9k",
     "timestamp": 1644053579521
    }
   ]
  },
  "kernelspec": {
   "display_name": "Python 3 (ipykernel)",
   "language": "python",
   "name": "python3"
  },
  "language_info": {
   "codemirror_mode": {
    "name": "ipython",
    "version": 3
   },
   "file_extension": ".py",
   "mimetype": "text/x-python",
   "name": "python",
   "nbconvert_exporter": "python",
   "pygments_lexer": "ipython3",
   "version": "3.9.12"
  }
 },
 "nbformat": 4,
 "nbformat_minor": 1
}
