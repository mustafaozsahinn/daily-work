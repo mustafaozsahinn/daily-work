{
 "cells": [
  {
   "cell_type": "markdown",
   "metadata": {
    "id": "shbTBSzhyAf0"
   },
   "source": [
    "<a href=\"https://clarusway.com/contact-us/\"><img align=\"center\" src=\"https://i.ibb.co/B43qn24/officially-licensed-logo.png\" alt=\"Open in Clarusway LMS\" width=\"110\" height=\"200\" title=\"This notebook is licensed by Clarusway IT training school. Please contact the authorized persons about the conditions under which you can use or share.\"></a>"
   ]
  },
  {
   "cell_type": "markdown",
   "metadata": {
    "id": "pjJT9uAXyBGL"
   },
   "source": [
    "# Example -1 Inclass Data"
   ]
  },
  {
   "cell_type": "code",
   "execution_count": 1,
   "metadata": {
    "executionInfo": {
     "elapsed": 1197,
     "status": "ok",
     "timestamp": 1673271231172,
     "user": {
      "displayName": "Richard Thames",
      "userId": "00258987493291873022"
     },
     "user_tz": -180
    },
    "id": "Fy9a4Bxrx-oh"
   },
   "outputs": [],
   "source": [
    "import pandas as pd\n",
    "import seaborn as sns\n",
    "from scipy.stats import chi2_contingency"
   ]
  },
  {
   "cell_type": "code",
   "execution_count": 2,
   "metadata": {
    "executionInfo": {
     "elapsed": 6,
     "status": "ok",
     "timestamp": 1673271231172,
     "user": {
      "displayName": "Richard Thames",
      "userId": "00258987493291873022"
     },
     "user_tz": -180
    },
    "id": "dXjPyKTGbK6J"
   },
   "outputs": [],
   "source": [
    "table = [[15, 21, 45, 13],[26, 31, 34, 5], [33, 17, 49, 20]]"
   ]
  },
  {
   "cell_type": "code",
   "execution_count": 3,
   "metadata": {
    "id": "HiNewC7eeep0"
   },
   "outputs": [],
   "source": [
    "# Ho: The two categorical variables are independent.\n",
    "# H1: The two categorical variables are dependent."
   ]
  },
  {
   "cell_type": "code",
   "execution_count": 4,
   "metadata": {
    "executionInfo": {
     "elapsed": 324,
     "status": "ok",
     "timestamp": 1673271241370,
     "user": {
      "displayName": "Richard Thames",
      "userId": "00258987493291873022"
     },
     "user_tz": -180
    },
    "id": "WG2FuPm2bK-3"
   },
   "outputs": [],
   "source": [
    "stat, p, dof, expected = chi2_contingency(table)"
   ]
  },
  {
   "cell_type": "code",
   "execution_count": 5,
   "metadata": {
    "colab": {
     "base_uri": "https://localhost:8080/"
    },
    "executionInfo": {
     "elapsed": 5,
     "status": "ok",
     "timestamp": 1673271244744,
     "user": {
      "displayName": "Richard Thames",
      "userId": "00258987493291873022"
     },
     "user_tz": -180
    },
    "id": "KK-O-6Q0bLC3",
    "outputId": "6e12a661-9661-42c0-91d1-457037683e33"
   },
   "outputs": [
    {
     "name": "stdout",
     "output_type": "stream",
     "text": [
      "stat=19.178, p=0.0039\n",
      "We reject the null hypothesis. The two categorical variables are dependent\n"
     ]
    }
   ],
   "source": [
    "print('stat=%.3f, p=%.4f' % (stat, p))\n",
    "if p > 0.05:\n",
    "\tprint('Fail to reject Ho')\n",
    "else:\n",
    "\tprint('We reject the null hypothesis. The two categorical variables are dependent')"
   ]
  },
  {
   "cell_type": "code",
   "execution_count": 6,
   "metadata": {
    "colab": {
     "base_uri": "https://localhost:8080/"
    },
    "executionInfo": {
     "elapsed": 309,
     "status": "ok",
     "timestamp": 1673271346418,
     "user": {
      "displayName": "Richard Thames",
      "userId": "00258987493291873022"
     },
     "user_tz": -180
    },
    "id": "Mj-dNGR5I8Ut",
    "outputId": "a10e78b3-2ad2-4864-de27-99686af1ec0a"
   },
   "outputs": [
    {
     "data": {
      "text/plain": [
       "array([[22.51132686, 20.99029126, 38.93851133, 11.55987055],\n",
       "       [22.99029126, 21.4368932 , 39.76699029, 11.80582524],\n",
       "       [28.49838188, 26.57281553, 49.29449838, 14.63430421]])"
      ]
     },
     "execution_count": 6,
     "metadata": {},
     "output_type": "execute_result"
    }
   ],
   "source": [
    "expected"
   ]
  },
  {
   "cell_type": "code",
   "execution_count": 7,
   "metadata": {
    "colab": {
     "base_uri": "https://localhost:8080/"
    },
    "executionInfo": {
     "elapsed": 319,
     "status": "ok",
     "timestamp": 1673271351592,
     "user": {
      "displayName": "Richard Thames",
      "userId": "00258987493291873022"
     },
     "user_tz": -180
    },
    "id": "rCS6ztIRKf15",
    "outputId": "6e30d2a7-e917-4fed-d092-84040b9e0625"
   },
   "outputs": [
    {
     "data": {
      "text/plain": [
       "6"
      ]
     },
     "execution_count": 7,
     "metadata": {},
     "output_type": "execute_result"
    }
   ],
   "source": [
    "dof"
   ]
  },
  {
   "cell_type": "code",
   "execution_count": 8,
   "metadata": {
    "colab": {
     "base_uri": "https://localhost:8080/"
    },
    "executionInfo": {
     "elapsed": 452,
     "status": "ok",
     "timestamp": 1673271354577,
     "user": {
      "displayName": "Richard Thames",
      "userId": "00258987493291873022"
     },
     "user_tz": -180
    },
    "id": "RVTTiTxEgtEy",
    "outputId": "6a402f65-5139-4a9b-91ad-ae3081bf6691"
   },
   "outputs": [
    {
     "data": {
      "text/plain": [
       "0.0038859579107577424"
      ]
     },
     "execution_count": 8,
     "metadata": {},
     "output_type": "execute_result"
    }
   ],
   "source": [
    "# We can get the same result with manual method\n",
    "from scipy import stats\n",
    "1 - stats.chi2.cdf(19.17, 6)"
   ]
  },
  {
   "cell_type": "markdown",
   "metadata": {
    "id": "gO6K8Qirx5g8"
   },
   "source": [
    "# Example -2 Titanic Dataset"
   ]
  },
  {
   "cell_type": "code",
   "execution_count": 9,
   "metadata": {
    "colab": {
     "base_uri": "https://localhost:8080/",
     "height": 269
    },
    "executionInfo": {
     "elapsed": 1257,
     "status": "ok",
     "timestamp": 1673271360260,
     "user": {
      "displayName": "Richard Thames",
      "userId": "00258987493291873022"
     },
     "user_tz": -180
    },
    "id": "NBd9_A9QxOYP",
    "outputId": "be9625d2-0e4c-43f6-c2fc-1dd9fdde839d"
   },
   "outputs": [
    {
     "data": {
      "text/html": [
       "<div>\n",
       "<style scoped>\n",
       "    .dataframe tbody tr th:only-of-type {\n",
       "        vertical-align: middle;\n",
       "    }\n",
       "\n",
       "    .dataframe tbody tr th {\n",
       "        vertical-align: top;\n",
       "    }\n",
       "\n",
       "    .dataframe thead th {\n",
       "        text-align: right;\n",
       "    }\n",
       "</style>\n",
       "<table border=\"1\" class=\"dataframe\">\n",
       "  <thead>\n",
       "    <tr style=\"text-align: right;\">\n",
       "      <th></th>\n",
       "      <th>survived</th>\n",
       "      <th>pclass</th>\n",
       "      <th>sex</th>\n",
       "      <th>age</th>\n",
       "      <th>sibsp</th>\n",
       "      <th>parch</th>\n",
       "      <th>fare</th>\n",
       "      <th>embarked</th>\n",
       "      <th>class</th>\n",
       "      <th>who</th>\n",
       "      <th>adult_male</th>\n",
       "      <th>deck</th>\n",
       "      <th>embark_town</th>\n",
       "      <th>alive</th>\n",
       "      <th>alone</th>\n",
       "    </tr>\n",
       "  </thead>\n",
       "  <tbody>\n",
       "    <tr>\n",
       "      <th>48</th>\n",
       "      <td>0</td>\n",
       "      <td>3</td>\n",
       "      <td>male</td>\n",
       "      <td>NaN</td>\n",
       "      <td>2</td>\n",
       "      <td>0</td>\n",
       "      <td>21.6792</td>\n",
       "      <td>C</td>\n",
       "      <td>Third</td>\n",
       "      <td>man</td>\n",
       "      <td>True</td>\n",
       "      <td>NaN</td>\n",
       "      <td>Cherbourg</td>\n",
       "      <td>no</td>\n",
       "      <td>False</td>\n",
       "    </tr>\n",
       "    <tr>\n",
       "      <th>655</th>\n",
       "      <td>0</td>\n",
       "      <td>2</td>\n",
       "      <td>male</td>\n",
       "      <td>24.0</td>\n",
       "      <td>2</td>\n",
       "      <td>0</td>\n",
       "      <td>73.5000</td>\n",
       "      <td>S</td>\n",
       "      <td>Second</td>\n",
       "      <td>man</td>\n",
       "      <td>True</td>\n",
       "      <td>NaN</td>\n",
       "      <td>Southampton</td>\n",
       "      <td>no</td>\n",
       "      <td>False</td>\n",
       "    </tr>\n",
       "    <tr>\n",
       "      <th>76</th>\n",
       "      <td>0</td>\n",
       "      <td>3</td>\n",
       "      <td>male</td>\n",
       "      <td>NaN</td>\n",
       "      <td>0</td>\n",
       "      <td>0</td>\n",
       "      <td>7.8958</td>\n",
       "      <td>S</td>\n",
       "      <td>Third</td>\n",
       "      <td>man</td>\n",
       "      <td>True</td>\n",
       "      <td>NaN</td>\n",
       "      <td>Southampton</td>\n",
       "      <td>no</td>\n",
       "      <td>True</td>\n",
       "    </tr>\n",
       "    <tr>\n",
       "      <th>686</th>\n",
       "      <td>0</td>\n",
       "      <td>3</td>\n",
       "      <td>male</td>\n",
       "      <td>14.0</td>\n",
       "      <td>4</td>\n",
       "      <td>1</td>\n",
       "      <td>39.6875</td>\n",
       "      <td>S</td>\n",
       "      <td>Third</td>\n",
       "      <td>child</td>\n",
       "      <td>False</td>\n",
       "      <td>NaN</td>\n",
       "      <td>Southampton</td>\n",
       "      <td>no</td>\n",
       "      <td>False</td>\n",
       "    </tr>\n",
       "    <tr>\n",
       "      <th>51</th>\n",
       "      <td>0</td>\n",
       "      <td>3</td>\n",
       "      <td>male</td>\n",
       "      <td>21.0</td>\n",
       "      <td>0</td>\n",
       "      <td>0</td>\n",
       "      <td>7.8000</td>\n",
       "      <td>S</td>\n",
       "      <td>Third</td>\n",
       "      <td>man</td>\n",
       "      <td>True</td>\n",
       "      <td>NaN</td>\n",
       "      <td>Southampton</td>\n",
       "      <td>no</td>\n",
       "      <td>True</td>\n",
       "    </tr>\n",
       "    <tr>\n",
       "      <th>173</th>\n",
       "      <td>0</td>\n",
       "      <td>3</td>\n",
       "      <td>male</td>\n",
       "      <td>21.0</td>\n",
       "      <td>0</td>\n",
       "      <td>0</td>\n",
       "      <td>7.9250</td>\n",
       "      <td>S</td>\n",
       "      <td>Third</td>\n",
       "      <td>man</td>\n",
       "      <td>True</td>\n",
       "      <td>NaN</td>\n",
       "      <td>Southampton</td>\n",
       "      <td>no</td>\n",
       "      <td>True</td>\n",
       "    </tr>\n",
       "    <tr>\n",
       "      <th>393</th>\n",
       "      <td>1</td>\n",
       "      <td>1</td>\n",
       "      <td>female</td>\n",
       "      <td>23.0</td>\n",
       "      <td>1</td>\n",
       "      <td>0</td>\n",
       "      <td>113.2750</td>\n",
       "      <td>C</td>\n",
       "      <td>First</td>\n",
       "      <td>woman</td>\n",
       "      <td>False</td>\n",
       "      <td>D</td>\n",
       "      <td>Cherbourg</td>\n",
       "      <td>yes</td>\n",
       "      <td>False</td>\n",
       "    </tr>\n",
       "  </tbody>\n",
       "</table>\n",
       "</div>"
      ],
      "text/plain": [
       "     survived  pclass     sex   age  sibsp  parch      fare embarked   class  \\\n",
       "48          0       3    male   NaN      2      0   21.6792        C   Third   \n",
       "655         0       2    male  24.0      2      0   73.5000        S  Second   \n",
       "76          0       3    male   NaN      0      0    7.8958        S   Third   \n",
       "686         0       3    male  14.0      4      1   39.6875        S   Third   \n",
       "51          0       3    male  21.0      0      0    7.8000        S   Third   \n",
       "173         0       3    male  21.0      0      0    7.9250        S   Third   \n",
       "393         1       1  female  23.0      1      0  113.2750        C   First   \n",
       "\n",
       "       who  adult_male deck  embark_town alive  alone  \n",
       "48     man        True  NaN    Cherbourg    no  False  \n",
       "655    man        True  NaN  Southampton    no  False  \n",
       "76     man        True  NaN  Southampton    no   True  \n",
       "686  child       False  NaN  Southampton    no  False  \n",
       "51     man        True  NaN  Southampton    no   True  \n",
       "173    man        True  NaN  Southampton    no   True  \n",
       "393  woman       False    D    Cherbourg   yes  False  "
      ]
     },
     "execution_count": 9,
     "metadata": {},
     "output_type": "execute_result"
    }
   ],
   "source": [
    "titanic = sns.load_dataset(\"titanic\")\n",
    "titanic.sample(7)"
   ]
  },
  {
   "cell_type": "markdown",
   "metadata": {
    "id": "WiOPrCk6xlkf"
   },
   "source": [
    "How many rows and columns"
   ]
  },
  {
   "cell_type": "code",
   "execution_count": 10,
   "metadata": {
    "colab": {
     "base_uri": "https://localhost:8080/"
    },
    "executionInfo": {
     "elapsed": 270,
     "status": "ok",
     "timestamp": 1673271366063,
     "user": {
      "displayName": "Richard Thames",
      "userId": "00258987493291873022"
     },
     "user_tz": -180
    },
    "id": "7p5GepbvxWxS",
    "outputId": "3008e952-3582-443e-b5e6-62ae2a508f61"
   },
   "outputs": [
    {
     "data": {
      "text/plain": [
       "(891, 15)"
      ]
     },
     "execution_count": 10,
     "metadata": {},
     "output_type": "execute_result"
    }
   ],
   "source": [
    "titanic.shape"
   ]
  },
  {
   "cell_type": "markdown",
   "metadata": {
    "id": "ZPdQIWt2z7LL"
   },
   "source": [
    "How many null values are there in columns?"
   ]
  },
  {
   "cell_type": "code",
   "execution_count": 11,
   "metadata": {
    "colab": {
     "base_uri": "https://localhost:8080/"
    },
    "executionInfo": {
     "elapsed": 276,
     "status": "ok",
     "timestamp": 1673271368550,
     "user": {
      "displayName": "Richard Thames",
      "userId": "00258987493291873022"
     },
     "user_tz": -180
    },
    "id": "pzdJZdGDx41l",
    "outputId": "6ecfe5d6-7ba6-435b-99be-640439f5a07a"
   },
   "outputs": [
    {
     "data": {
      "text/plain": [
       "survived         0\n",
       "pclass           0\n",
       "sex              0\n",
       "age            177\n",
       "sibsp            0\n",
       "parch            0\n",
       "fare             0\n",
       "embarked         2\n",
       "class            0\n",
       "who              0\n",
       "adult_male       0\n",
       "deck           688\n",
       "embark_town      2\n",
       "alive            0\n",
       "alone            0\n",
       "dtype: int64"
      ]
     },
     "execution_count": 11,
     "metadata": {},
     "output_type": "execute_result"
    }
   ],
   "source": [
    "titanic.isnull().sum()"
   ]
  },
  {
   "cell_type": "code",
   "execution_count": 12,
   "metadata": {
    "executionInfo": {
     "elapsed": 274,
     "status": "ok",
     "timestamp": 1673271372839,
     "user": {
      "displayName": "Richard Thames",
      "userId": "00258987493291873022"
     },
     "user_tz": -180
    },
    "id": "mKBpmAhJyc3I"
   },
   "outputs": [],
   "source": [
    "titanic=titanic.drop([\"deck\", \"age\"], axis=1)"
   ]
  },
  {
   "cell_type": "code",
   "execution_count": 13,
   "metadata": {
    "executionInfo": {
     "elapsed": 284,
     "status": "ok",
     "timestamp": 1673271375535,
     "user": {
      "displayName": "Richard Thames",
      "userId": "00258987493291873022"
     },
     "user_tz": -180
    },
    "id": "W0woGl-KxvQu"
   },
   "outputs": [],
   "source": [
    "titanic=titanic.dropna()"
   ]
  },
  {
   "cell_type": "code",
   "execution_count": 14,
   "metadata": {
    "colab": {
     "base_uri": "https://localhost:8080/"
    },
    "executionInfo": {
     "elapsed": 276,
     "status": "ok",
     "timestamp": 1673271378776,
     "user": {
      "displayName": "Richard Thames",
      "userId": "00258987493291873022"
     },
     "user_tz": -180
    },
    "id": "-ZsXEhrzLani",
    "outputId": "ac2fe9ff-2ad1-4d60-fc46-bdff694e69db"
   },
   "outputs": [
    {
     "name": "stdout",
     "output_type": "stream",
     "text": [
      "<class 'pandas.core.frame.DataFrame'>\n",
      "Int64Index: 889 entries, 0 to 890\n",
      "Data columns (total 13 columns):\n",
      " #   Column       Non-Null Count  Dtype   \n",
      "---  ------       --------------  -----   \n",
      " 0   survived     889 non-null    int64   \n",
      " 1   pclass       889 non-null    int64   \n",
      " 2   sex          889 non-null    object  \n",
      " 3   sibsp        889 non-null    int64   \n",
      " 4   parch        889 non-null    int64   \n",
      " 5   fare         889 non-null    float64 \n",
      " 6   embarked     889 non-null    object  \n",
      " 7   class        889 non-null    category\n",
      " 8   who          889 non-null    object  \n",
      " 9   adult_male   889 non-null    bool    \n",
      " 10  embark_town  889 non-null    object  \n",
      " 11  alive        889 non-null    object  \n",
      " 12  alone        889 non-null    bool    \n",
      "dtypes: bool(2), category(1), float64(1), int64(4), object(5)\n",
      "memory usage: 79.1+ KB\n"
     ]
    }
   ],
   "source": [
    "titanic.info()"
   ]
  },
  {
   "cell_type": "code",
   "execution_count": 15,
   "metadata": {
    "executionInfo": {
     "elapsed": 288,
     "status": "ok",
     "timestamp": 1673271392357,
     "user": {
      "displayName": "Richard Thames",
      "userId": "00258987493291873022"
     },
     "user_tz": -180
    },
    "id": "CxWisEYaNVWw"
   },
   "outputs": [],
   "source": [
    "titanic2=titanic.sample(200, random_state=42) # daha kolay anlamamız için 200 aldık."
   ]
  },
  {
   "cell_type": "code",
   "execution_count": 21,
   "metadata": {
    "executionInfo": {
     "elapsed": 315,
     "status": "ok",
     "timestamp": 1673271554906,
     "user": {
      "displayName": "Richard Thames",
      "userId": "00258987493291873022"
     },
     "user_tz": -180
    },
    "id": "Bxch2cHPwZSS"
   },
   "outputs": [],
   "source": [
    "# Does gender affects survival ?"
   ]
  },
  {
   "cell_type": "code",
   "execution_count": 22,
   "metadata": {
    "colab": {
     "base_uri": "https://localhost:8080/",
     "height": 143
    },
    "executionInfo": {
     "elapsed": 296,
     "status": "ok",
     "timestamp": 1673271396478,
     "user": {
      "displayName": "Richard Thames",
      "userId": "00258987493291873022"
     },
     "user_tz": -180
    },
    "id": "R76f_QqTofen",
    "outputId": "5fd4fbd4-6187-4b84-9a0b-81601c9d1a92"
   },
   "outputs": [
    {
     "data": {
      "text/html": [
       "<div>\n",
       "<style scoped>\n",
       "    .dataframe tbody tr th:only-of-type {\n",
       "        vertical-align: middle;\n",
       "    }\n",
       "\n",
       "    .dataframe tbody tr th {\n",
       "        vertical-align: top;\n",
       "    }\n",
       "\n",
       "    .dataframe thead th {\n",
       "        text-align: right;\n",
       "    }\n",
       "</style>\n",
       "<table border=\"1\" class=\"dataframe\">\n",
       "  <thead>\n",
       "    <tr style=\"text-align: right;\">\n",
       "      <th>sex</th>\n",
       "      <th>female</th>\n",
       "      <th>male</th>\n",
       "    </tr>\n",
       "    <tr>\n",
       "      <th>survived</th>\n",
       "      <th></th>\n",
       "      <th></th>\n",
       "    </tr>\n",
       "  </thead>\n",
       "  <tbody>\n",
       "    <tr>\n",
       "      <th>0</th>\n",
       "      <td>24</td>\n",
       "      <td>101</td>\n",
       "    </tr>\n",
       "    <tr>\n",
       "      <th>1</th>\n",
       "      <td>56</td>\n",
       "      <td>19</td>\n",
       "    </tr>\n",
       "  </tbody>\n",
       "</table>\n",
       "</div>"
      ],
      "text/plain": [
       "sex       female  male\n",
       "survived              \n",
       "0             24   101\n",
       "1             56    19"
      ]
     },
     "execution_count": 22,
     "metadata": {},
     "output_type": "execute_result"
    }
   ],
   "source": [
    "# We can see both male and female survivors using a crosstab\n",
    "crosstab = pd.crosstab(titanic2.survived, titanic2.sex)\n",
    "crosstab"
   ]
  },
  {
   "cell_type": "code",
   "execution_count": 24,
   "metadata": {
    "executionInfo": {
     "elapsed": 276,
     "status": "ok",
     "timestamp": 1673271453037,
     "user": {
      "displayName": "Richard Thames",
      "userId": "00258987493291873022"
     },
     "user_tz": -180
    },
    "id": "qxuvDtPJ1cza"
   },
   "outputs": [],
   "source": [
    "# Ho: The two categorical variables (gender and survived) are independent.\n",
    "# H1: The two categorical variables are dependent."
   ]
  },
  {
   "cell_type": "code",
   "execution_count": 25,
   "metadata": {
    "colab": {
     "base_uri": "https://localhost:8080/"
    },
    "executionInfo": {
     "elapsed": 303,
     "status": "ok",
     "timestamp": 1673271455100,
     "user": {
      "displayName": "Richard Thames",
      "userId": "00258987493291873022"
     },
     "user_tz": -180
    },
    "id": "Z67wPEkXyjBb",
    "outputId": "4f83ea3b-ae90-4aea-a832-3e30c0429221"
   },
   "outputs": [
    {
     "name": "stdout",
     "output_type": "stream",
     "text": [
      "stat=57.800, p=0.0000\n"
     ]
    }
   ],
   "source": [
    "from scipy import stats\n",
    "stat, p, dof, expected = stats.chi2_contingency(crosstab)\n",
    "print('stat=%.3f, p=%.4f' % (stat, p))"
   ]
  },
  {
   "cell_type": "code",
   "execution_count": 26,
   "metadata": {
    "colab": {
     "base_uri": "https://localhost:8080/"
    },
    "executionInfo": {
     "elapsed": 323,
     "status": "ok",
     "timestamp": 1673271464662,
     "user": {
      "displayName": "Richard Thames",
      "userId": "00258987493291873022"
     },
     "user_tz": -180
    },
    "id": "jAn5YJJY1pvW",
    "outputId": "319fbc6b-ba03-4794-c6f2-a334abff6931"
   },
   "outputs": [
    {
     "name": "stdout",
     "output_type": "stream",
     "text": [
      "We reject the null hypothesis. Gender and survived variables are dependent\n"
     ]
    }
   ],
   "source": [
    "if p > 0.05:\n",
    "\tprint('Fail to reject Ho')\n",
    "else:\n",
    "\tprint('We reject the null hypothesis. Gender and survived variables are dependent')"
   ]
  },
  {
   "cell_type": "markdown",
   "metadata": {
    "id": "NW0yKzFZ4a5d"
   },
   "source": [
    "# Example-3 Titanic Dataset"
   ]
  },
  {
   "cell_type": "code",
   "execution_count": 28,
   "metadata": {
    "executionInfo": {
     "elapsed": 273,
     "status": "ok",
     "timestamp": 1673271541187,
     "user": {
      "displayName": "Richard Thames",
      "userId": "00258987493291873022"
     },
     "user_tz": -180
    },
    "id": "sdxWonEBh0ta"
   },
   "outputs": [],
   "source": [
    "# Does class affect survival? In other words Class and survived variables are dependent or not?"
   ]
  },
  {
   "cell_type": "code",
   "execution_count": 29,
   "metadata": {
    "colab": {
     "base_uri": "https://localhost:8080/",
     "height": 143
    },
    "executionInfo": {
     "elapsed": 362,
     "status": "ok",
     "timestamp": 1673271564605,
     "user": {
      "displayName": "Richard Thames",
      "userId": "00258987493291873022"
     },
     "user_tz": -180
    },
    "id": "u2P5UER1ytLd",
    "outputId": "e08a29ff-aad6-4095-8263-87cb7d229091"
   },
   "outputs": [
    {
     "data": {
      "text/html": [
       "<div>\n",
       "<style scoped>\n",
       "    .dataframe tbody tr th:only-of-type {\n",
       "        vertical-align: middle;\n",
       "    }\n",
       "\n",
       "    .dataframe tbody tr th {\n",
       "        vertical-align: top;\n",
       "    }\n",
       "\n",
       "    .dataframe thead th {\n",
       "        text-align: right;\n",
       "    }\n",
       "</style>\n",
       "<table border=\"1\" class=\"dataframe\">\n",
       "  <thead>\n",
       "    <tr style=\"text-align: right;\">\n",
       "      <th>class</th>\n",
       "      <th>First</th>\n",
       "      <th>Second</th>\n",
       "      <th>Third</th>\n",
       "    </tr>\n",
       "    <tr>\n",
       "      <th>survived</th>\n",
       "      <th></th>\n",
       "      <th></th>\n",
       "      <th></th>\n",
       "    </tr>\n",
       "  </thead>\n",
       "  <tbody>\n",
       "    <tr>\n",
       "      <th>0</th>\n",
       "      <td>16</td>\n",
       "      <td>27</td>\n",
       "      <td>82</td>\n",
       "    </tr>\n",
       "    <tr>\n",
       "      <th>1</th>\n",
       "      <td>32</td>\n",
       "      <td>18</td>\n",
       "      <td>25</td>\n",
       "    </tr>\n",
       "  </tbody>\n",
       "</table>\n",
       "</div>"
      ],
      "text/plain": [
       "class     First  Second  Third\n",
       "survived                      \n",
       "0            16      27     82\n",
       "1            32      18     25"
      ]
     },
     "execution_count": 29,
     "metadata": {},
     "output_type": "execute_result"
    }
   ],
   "source": [
    "crosstab = pd.crosstab(titanic2[\"survived\"], titanic2[\"class\"])\n",
    "crosstab\n"
   ]
  },
  {
   "cell_type": "code",
   "execution_count": 30,
   "metadata": {
    "colab": {
     "base_uri": "https://localhost:8080/"
    },
    "executionInfo": {
     "elapsed": 306,
     "status": "ok",
     "timestamp": 1673271580757,
     "user": {
      "displayName": "Richard Thames",
      "userId": "00258987493291873022"
     },
     "user_tz": -180
    },
    "id": "tg4I62I1zQh-",
    "outputId": "8e5bb4b3-2d09-4b4a-b929-0a4089de92da"
   },
   "outputs": [
    {
     "name": "stdout",
     "output_type": "stream",
     "text": [
      "stat=26.664, p=0.0000\n"
     ]
    }
   ],
   "source": [
    "stat, p, dof, expected = stats.chi2_contingency(crosstab)\n",
    "print('stat=%.3f, p=%.4f' % (stat, p))"
   ]
  },
  {
   "cell_type": "code",
   "execution_count": 31,
   "metadata": {
    "colab": {
     "base_uri": "https://localhost:8080/"
    },
    "executionInfo": {
     "elapsed": 302,
     "status": "ok",
     "timestamp": 1673271583288,
     "user": {
      "displayName": "Richard Thames",
      "userId": "00258987493291873022"
     },
     "user_tz": -180
    },
    "id": "aneg32Yr2YXB",
    "outputId": "56589f5f-f581-4b76-e42d-e19aaeaacacb"
   },
   "outputs": [
    {
     "name": "stdout",
     "output_type": "stream",
     "text": [
      "We reject the null hypothesis. Class and survived variables are dependent\n"
     ]
    }
   ],
   "source": [
    "if p > 0.05:\n",
    "\tprint('Fail to reject Ho')\n",
    "else:\n",
    "\tprint('We reject the null hypothesis. Class and survived variables are dependent')"
   ]
  },
  {
   "cell_type": "code",
   "execution_count": 33,
   "metadata": {
    "colab": {
     "base_uri": "https://localhost:8080/",
     "height": 175
    },
    "executionInfo": {
     "elapsed": 293,
     "status": "ok",
     "timestamp": 1673271793103,
     "user": {
      "displayName": "Richard Thames",
      "userId": "00258987493291873022"
     },
     "user_tz": -180
    },
    "id": "_vrNiyj4wi1B",
    "outputId": "64e11f7e-45ff-4f09-adb5-7d9ac4e2c5a3"
   },
   "outputs": [
    {
     "data": {
      "text/html": [
       "<div>\n",
       "<style scoped>\n",
       "    .dataframe tbody tr th:only-of-type {\n",
       "        vertical-align: middle;\n",
       "    }\n",
       "\n",
       "    .dataframe tbody tr th {\n",
       "        vertical-align: top;\n",
       "    }\n",
       "\n",
       "    .dataframe thead th {\n",
       "        text-align: right;\n",
       "    }\n",
       "</style>\n",
       "<table border=\"1\" class=\"dataframe\">\n",
       "  <thead>\n",
       "    <tr style=\"text-align: right;\">\n",
       "      <th>class</th>\n",
       "      <th>First</th>\n",
       "      <th>Second</th>\n",
       "      <th>Third</th>\n",
       "    </tr>\n",
       "    <tr>\n",
       "      <th>embarked</th>\n",
       "      <th></th>\n",
       "      <th></th>\n",
       "      <th></th>\n",
       "    </tr>\n",
       "  </thead>\n",
       "  <tbody>\n",
       "    <tr>\n",
       "      <th>C</th>\n",
       "      <td>21</td>\n",
       "      <td>2</td>\n",
       "      <td>15</td>\n",
       "    </tr>\n",
       "    <tr>\n",
       "      <th>Q</th>\n",
       "      <td>1</td>\n",
       "      <td>2</td>\n",
       "      <td>12</td>\n",
       "    </tr>\n",
       "    <tr>\n",
       "      <th>S</th>\n",
       "      <td>26</td>\n",
       "      <td>41</td>\n",
       "      <td>80</td>\n",
       "    </tr>\n",
       "  </tbody>\n",
       "</table>\n",
       "</div>"
      ],
      "text/plain": [
       "class     First  Second  Third\n",
       "embarked                      \n",
       "C            21       2     15\n",
       "Q             1       2     12\n",
       "S            26      41     80"
      ]
     },
     "execution_count": 33,
     "metadata": {},
     "output_type": "execute_result"
    }
   ],
   "source": [
    "crosstab = pd.crosstab(titanic2[\"embarked\"], titanic2[\"class\"])\n",
    "crosstab"
   ]
  },
  {
   "cell_type": "code",
   "execution_count": 34,
   "metadata": {
    "executionInfo": {
     "elapsed": 269,
     "status": "ok",
     "timestamp": 1673271805113,
     "user": {
      "displayName": "Richard Thames",
      "userId": "00258987493291873022"
     },
     "user_tz": -180
    },
    "id": "h_LWdgEXw--3"
   },
   "outputs": [],
   "source": [
    "#crosstab = pd.crosstab(titanic2[\"embarked\"], titanic2[\"class\"], normalize=\"columns\")\n",
    "#crosstab"
   ]
  },
  {
   "cell_type": "code",
   "execution_count": 35,
   "metadata": {
    "colab": {
     "base_uri": "https://localhost:8080/"
    },
    "executionInfo": {
     "elapsed": 269,
     "status": "ok",
     "timestamp": 1673271795886,
     "user": {
      "displayName": "Richard Thames",
      "userId": "00258987493291873022"
     },
     "user_tz": -180
    },
    "id": "30TQwqULw505",
    "outputId": "9c50ad0c-443e-48d4-ce9f-c8335bd671e2"
   },
   "outputs": [
    {
     "name": "stdout",
     "output_type": "stream",
     "text": [
      "stat=30.661, p=0.0000\n"
     ]
    }
   ],
   "source": [
    "stat, p, dof, expected = stats.chi2_contingency(crosstab)\n",
    "print('stat=%.3f, p=%.4f' % (stat, p))"
   ]
  },
  {
   "cell_type": "code",
   "execution_count": 36,
   "metadata": {
    "colab": {
     "base_uri": "https://localhost:8080/",
     "height": 269
    },
    "executionInfo": {
     "elapsed": 989,
     "status": "ok",
     "timestamp": 1673271860351,
     "user": {
      "displayName": "Richard Thames",
      "userId": "00258987493291873022"
     },
     "user_tz": -180
    },
    "id": "oMPIysTbxgr1",
    "outputId": "b9c69e9f-b6c4-4629-c9f7-5cbfeadd2998"
   },
   "outputs": [
    {
     "data": {
      "text/html": [
       "<div>\n",
       "<style scoped>\n",
       "    .dataframe tbody tr th:only-of-type {\n",
       "        vertical-align: middle;\n",
       "    }\n",
       "\n",
       "    .dataframe tbody tr th {\n",
       "        vertical-align: top;\n",
       "    }\n",
       "\n",
       "    .dataframe thead th {\n",
       "        text-align: right;\n",
       "    }\n",
       "</style>\n",
       "<table border=\"1\" class=\"dataframe\">\n",
       "  <thead>\n",
       "    <tr style=\"text-align: right;\">\n",
       "      <th></th>\n",
       "      <th>mpg</th>\n",
       "      <th>cylinders</th>\n",
       "      <th>displacement</th>\n",
       "      <th>horsepower</th>\n",
       "      <th>weight</th>\n",
       "      <th>acceleration</th>\n",
       "      <th>model_year</th>\n",
       "      <th>origin</th>\n",
       "      <th>name</th>\n",
       "    </tr>\n",
       "  </thead>\n",
       "  <tbody>\n",
       "    <tr>\n",
       "      <th>6</th>\n",
       "      <td>14.0</td>\n",
       "      <td>8</td>\n",
       "      <td>454.0</td>\n",
       "      <td>220.0</td>\n",
       "      <td>4354</td>\n",
       "      <td>9.0</td>\n",
       "      <td>70</td>\n",
       "      <td>usa</td>\n",
       "      <td>chevrolet impala</td>\n",
       "    </tr>\n",
       "    <tr>\n",
       "      <th>57</th>\n",
       "      <td>24.0</td>\n",
       "      <td>4</td>\n",
       "      <td>113.0</td>\n",
       "      <td>95.0</td>\n",
       "      <td>2278</td>\n",
       "      <td>15.5</td>\n",
       "      <td>72</td>\n",
       "      <td>japan</td>\n",
       "      <td>toyota corona hardtop</td>\n",
       "    </tr>\n",
       "    <tr>\n",
       "      <th>63</th>\n",
       "      <td>14.0</td>\n",
       "      <td>8</td>\n",
       "      <td>400.0</td>\n",
       "      <td>175.0</td>\n",
       "      <td>4385</td>\n",
       "      <td>12.0</td>\n",
       "      <td>72</td>\n",
       "      <td>usa</td>\n",
       "      <td>pontiac catalina</td>\n",
       "    </tr>\n",
       "    <tr>\n",
       "      <th>294</th>\n",
       "      <td>34.1</td>\n",
       "      <td>4</td>\n",
       "      <td>86.0</td>\n",
       "      <td>65.0</td>\n",
       "      <td>1975</td>\n",
       "      <td>15.2</td>\n",
       "      <td>79</td>\n",
       "      <td>japan</td>\n",
       "      <td>maxda glc deluxe</td>\n",
       "    </tr>\n",
       "    <tr>\n",
       "      <th>182</th>\n",
       "      <td>28.0</td>\n",
       "      <td>4</td>\n",
       "      <td>107.0</td>\n",
       "      <td>86.0</td>\n",
       "      <td>2464</td>\n",
       "      <td>15.5</td>\n",
       "      <td>76</td>\n",
       "      <td>europe</td>\n",
       "      <td>fiat 131</td>\n",
       "    </tr>\n",
       "    <tr>\n",
       "      <th>205</th>\n",
       "      <td>28.0</td>\n",
       "      <td>4</td>\n",
       "      <td>97.0</td>\n",
       "      <td>75.0</td>\n",
       "      <td>2155</td>\n",
       "      <td>16.4</td>\n",
       "      <td>76</td>\n",
       "      <td>japan</td>\n",
       "      <td>toyota corolla</td>\n",
       "    </tr>\n",
       "    <tr>\n",
       "      <th>268</th>\n",
       "      <td>27.2</td>\n",
       "      <td>4</td>\n",
       "      <td>119.0</td>\n",
       "      <td>97.0</td>\n",
       "      <td>2300</td>\n",
       "      <td>14.7</td>\n",
       "      <td>78</td>\n",
       "      <td>japan</td>\n",
       "      <td>datsun 510</td>\n",
       "    </tr>\n",
       "  </tbody>\n",
       "</table>\n",
       "</div>"
      ],
      "text/plain": [
       "      mpg  cylinders  displacement  horsepower  weight  acceleration  \\\n",
       "6    14.0          8         454.0       220.0    4354           9.0   \n",
       "57   24.0          4         113.0        95.0    2278          15.5   \n",
       "63   14.0          8         400.0       175.0    4385          12.0   \n",
       "294  34.1          4          86.0        65.0    1975          15.2   \n",
       "182  28.0          4         107.0        86.0    2464          15.5   \n",
       "205  28.0          4          97.0        75.0    2155          16.4   \n",
       "268  27.2          4         119.0        97.0    2300          14.7   \n",
       "\n",
       "     model_year  origin                   name  \n",
       "6            70     usa       chevrolet impala  \n",
       "57           72   japan  toyota corona hardtop  \n",
       "63           72     usa       pontiac catalina  \n",
       "294          79   japan       maxda glc deluxe  \n",
       "182          76  europe               fiat 131  \n",
       "205          76   japan         toyota corolla  \n",
       "268          78   japan             datsun 510  "
      ]
     },
     "execution_count": 36,
     "metadata": {},
     "output_type": "execute_result"
    }
   ],
   "source": [
    "mpg = sns.load_dataset(\"mpg\")\n",
    "mpg.sample(7)"
   ]
  },
  {
   "cell_type": "code",
   "execution_count": 37,
   "metadata": {
    "colab": {
     "base_uri": "https://localhost:8080/",
     "height": 175
    },
    "executionInfo": {
     "elapsed": 311,
     "status": "ok",
     "timestamp": 1673271906687,
     "user": {
      "displayName": "Richard Thames",
      "userId": "00258987493291873022"
     },
     "user_tz": -180
    },
    "id": "IG5qsJrSxlVM",
    "outputId": "6c0b5ef4-94d7-488a-f153-d84afc08e1d2"
   },
   "outputs": [
    {
     "data": {
      "text/html": [
       "<div>\n",
       "<style scoped>\n",
       "    .dataframe tbody tr th:only-of-type {\n",
       "        vertical-align: middle;\n",
       "    }\n",
       "\n",
       "    .dataframe tbody tr th {\n",
       "        vertical-align: top;\n",
       "    }\n",
       "\n",
       "    .dataframe thead th {\n",
       "        text-align: right;\n",
       "    }\n",
       "</style>\n",
       "<table border=\"1\" class=\"dataframe\">\n",
       "  <thead>\n",
       "    <tr style=\"text-align: right;\">\n",
       "      <th>cylinders</th>\n",
       "      <th>3</th>\n",
       "      <th>4</th>\n",
       "      <th>5</th>\n",
       "      <th>6</th>\n",
       "      <th>8</th>\n",
       "    </tr>\n",
       "    <tr>\n",
       "      <th>origin</th>\n",
       "      <th></th>\n",
       "      <th></th>\n",
       "      <th></th>\n",
       "      <th></th>\n",
       "      <th></th>\n",
       "    </tr>\n",
       "  </thead>\n",
       "  <tbody>\n",
       "    <tr>\n",
       "      <th>europe</th>\n",
       "      <td>0</td>\n",
       "      <td>63</td>\n",
       "      <td>3</td>\n",
       "      <td>4</td>\n",
       "      <td>0</td>\n",
       "    </tr>\n",
       "    <tr>\n",
       "      <th>japan</th>\n",
       "      <td>4</td>\n",
       "      <td>69</td>\n",
       "      <td>0</td>\n",
       "      <td>6</td>\n",
       "      <td>0</td>\n",
       "    </tr>\n",
       "    <tr>\n",
       "      <th>usa</th>\n",
       "      <td>0</td>\n",
       "      <td>72</td>\n",
       "      <td>0</td>\n",
       "      <td>74</td>\n",
       "      <td>103</td>\n",
       "    </tr>\n",
       "  </tbody>\n",
       "</table>\n",
       "</div>"
      ],
      "text/plain": [
       "cylinders  3   4  5   6    8\n",
       "origin                      \n",
       "europe     0  63  3   4    0\n",
       "japan      4  69  0   6    0\n",
       "usa        0  72  0  74  103"
      ]
     },
     "execution_count": 37,
     "metadata": {},
     "output_type": "execute_result"
    }
   ],
   "source": [
    "crosstab = pd.crosstab(mpg[\"origin\"], mpg[\"cylinders\"])\n",
    "crosstab"
   ]
  },
  {
   "cell_type": "code",
   "execution_count": 38,
   "metadata": {
    "colab": {
     "base_uri": "https://localhost:8080/"
    },
    "executionInfo": {
     "elapsed": 322,
     "status": "ok",
     "timestamp": 1673271932836,
     "user": {
      "displayName": "Richard Thames",
      "userId": "00258987493291873022"
     },
     "user_tz": -180
    },
    "id": "clZibojlx0_m",
    "outputId": "a408f073-33eb-4775-c788-0bf31d402cfb"
   },
   "outputs": [
    {
     "name": "stdout",
     "output_type": "stream",
     "text": [
      "stat=180.102, p=0.0000\n"
     ]
    }
   ],
   "source": [
    "stat, p, dof, expected = stats.chi2_contingency(crosstab)\n",
    "print('stat=%.3f, p=%.4f' % (stat, p))"
   ]
  },
  {
   "cell_type": "code",
   "execution_count": 40,
   "metadata": {
    "colab": {
     "base_uri": "https://localhost:8080/"
    },
    "executionInfo": {
     "elapsed": 397,
     "status": "ok",
     "timestamp": 1673271971336,
     "user": {
      "displayName": "Richard Thames",
      "userId": "00258987493291873022"
     },
     "user_tz": -180
    },
    "id": "VAad6nIUx4gI",
    "outputId": "bb10d210-9ecf-43e8-fba2-1aa405a4dad7"
   },
   "outputs": [
    {
     "data": {
      "text/plain": [
       "['anagrams',\n",
       " 'anscombe',\n",
       " 'attention',\n",
       " 'brain_networks',\n",
       " 'car_crashes',\n",
       " 'diamonds',\n",
       " 'dots',\n",
       " 'dowjones',\n",
       " 'exercise',\n",
       " 'flights',\n",
       " 'fmri',\n",
       " 'geyser',\n",
       " 'glue',\n",
       " 'healthexp',\n",
       " 'iris',\n",
       " 'mpg',\n",
       " 'penguins',\n",
       " 'planets',\n",
       " 'seaice',\n",
       " 'taxis',\n",
       " 'tips',\n",
       " 'titanic']"
      ]
     },
     "execution_count": 40,
     "metadata": {},
     "output_type": "execute_result"
    }
   ],
   "source": [
    "sns.get_dataset_names()"
   ]
  },
  {
   "cell_type": "code",
   "execution_count": 41,
   "metadata": {},
   "outputs": [
    {
     "data": {
      "text/html": [
       "<div>\n",
       "<style scoped>\n",
       "    .dataframe tbody tr th:only-of-type {\n",
       "        vertical-align: middle;\n",
       "    }\n",
       "\n",
       "    .dataframe tbody tr th {\n",
       "        vertical-align: top;\n",
       "    }\n",
       "\n",
       "    .dataframe thead th {\n",
       "        text-align: right;\n",
       "    }\n",
       "</style>\n",
       "<table border=\"1\" class=\"dataframe\">\n",
       "  <thead>\n",
       "    <tr style=\"text-align: right;\">\n",
       "      <th></th>\n",
       "      <th>species</th>\n",
       "      <th>island</th>\n",
       "      <th>bill_length_mm</th>\n",
       "      <th>bill_depth_mm</th>\n",
       "      <th>flipper_length_mm</th>\n",
       "      <th>body_mass_g</th>\n",
       "      <th>sex</th>\n",
       "    </tr>\n",
       "  </thead>\n",
       "  <tbody>\n",
       "    <tr>\n",
       "      <th>190</th>\n",
       "      <td>Chinstrap</td>\n",
       "      <td>Dream</td>\n",
       "      <td>46.9</td>\n",
       "      <td>16.6</td>\n",
       "      <td>192.0</td>\n",
       "      <td>2700.0</td>\n",
       "      <td>Female</td>\n",
       "    </tr>\n",
       "    <tr>\n",
       "      <th>282</th>\n",
       "      <td>Gentoo</td>\n",
       "      <td>Biscoe</td>\n",
       "      <td>45.7</td>\n",
       "      <td>13.9</td>\n",
       "      <td>214.0</td>\n",
       "      <td>4400.0</td>\n",
       "      <td>Female</td>\n",
       "    </tr>\n",
       "    <tr>\n",
       "      <th>126</th>\n",
       "      <td>Adelie</td>\n",
       "      <td>Torgersen</td>\n",
       "      <td>38.8</td>\n",
       "      <td>17.6</td>\n",
       "      <td>191.0</td>\n",
       "      <td>3275.0</td>\n",
       "      <td>Female</td>\n",
       "    </tr>\n",
       "    <tr>\n",
       "      <th>4</th>\n",
       "      <td>Adelie</td>\n",
       "      <td>Torgersen</td>\n",
       "      <td>36.7</td>\n",
       "      <td>19.3</td>\n",
       "      <td>193.0</td>\n",
       "      <td>3450.0</td>\n",
       "      <td>Female</td>\n",
       "    </tr>\n",
       "    <tr>\n",
       "      <th>107</th>\n",
       "      <td>Adelie</td>\n",
       "      <td>Biscoe</td>\n",
       "      <td>38.2</td>\n",
       "      <td>20.0</td>\n",
       "      <td>190.0</td>\n",
       "      <td>3900.0</td>\n",
       "      <td>Male</td>\n",
       "    </tr>\n",
       "    <tr>\n",
       "      <th>35</th>\n",
       "      <td>Adelie</td>\n",
       "      <td>Dream</td>\n",
       "      <td>39.2</td>\n",
       "      <td>21.1</td>\n",
       "      <td>196.0</td>\n",
       "      <td>4150.0</td>\n",
       "      <td>Male</td>\n",
       "    </tr>\n",
       "    <tr>\n",
       "      <th>67</th>\n",
       "      <td>Adelie</td>\n",
       "      <td>Biscoe</td>\n",
       "      <td>41.1</td>\n",
       "      <td>19.1</td>\n",
       "      <td>188.0</td>\n",
       "      <td>4100.0</td>\n",
       "      <td>Male</td>\n",
       "    </tr>\n",
       "  </tbody>\n",
       "</table>\n",
       "</div>"
      ],
      "text/plain": [
       "       species     island  bill_length_mm  bill_depth_mm  flipper_length_mm  \\\n",
       "190  Chinstrap      Dream            46.9           16.6              192.0   \n",
       "282     Gentoo     Biscoe            45.7           13.9              214.0   \n",
       "126     Adelie  Torgersen            38.8           17.6              191.0   \n",
       "4       Adelie  Torgersen            36.7           19.3              193.0   \n",
       "107     Adelie     Biscoe            38.2           20.0              190.0   \n",
       "35      Adelie      Dream            39.2           21.1              196.0   \n",
       "67      Adelie     Biscoe            41.1           19.1              188.0   \n",
       "\n",
       "     body_mass_g     sex  \n",
       "190       2700.0  Female  \n",
       "282       4400.0  Female  \n",
       "126       3275.0  Female  \n",
       "4         3450.0  Female  \n",
       "107       3900.0    Male  \n",
       "35        4150.0    Male  \n",
       "67        4100.0    Male  "
      ]
     },
     "execution_count": 41,
     "metadata": {},
     "output_type": "execute_result"
    }
   ],
   "source": [
    "mpg = sns.load_dataset(\"penguins\")\n",
    "mpg.sample(7)"
   ]
  },
  {
   "cell_type": "code",
   "execution_count": 42,
   "metadata": {},
   "outputs": [
    {
     "data": {
      "text/html": [
       "<div>\n",
       "<style scoped>\n",
       "    .dataframe tbody tr th:only-of-type {\n",
       "        vertical-align: middle;\n",
       "    }\n",
       "\n",
       "    .dataframe tbody tr th {\n",
       "        vertical-align: top;\n",
       "    }\n",
       "\n",
       "    .dataframe thead th {\n",
       "        text-align: right;\n",
       "    }\n",
       "</style>\n",
       "<table border=\"1\" class=\"dataframe\">\n",
       "  <thead>\n",
       "    <tr style=\"text-align: right;\">\n",
       "      <th>island</th>\n",
       "      <th>Biscoe</th>\n",
       "      <th>Dream</th>\n",
       "      <th>Torgersen</th>\n",
       "    </tr>\n",
       "    <tr>\n",
       "      <th>species</th>\n",
       "      <th></th>\n",
       "      <th></th>\n",
       "      <th></th>\n",
       "    </tr>\n",
       "  </thead>\n",
       "  <tbody>\n",
       "    <tr>\n",
       "      <th>Adelie</th>\n",
       "      <td>44</td>\n",
       "      <td>56</td>\n",
       "      <td>52</td>\n",
       "    </tr>\n",
       "    <tr>\n",
       "      <th>Chinstrap</th>\n",
       "      <td>0</td>\n",
       "      <td>68</td>\n",
       "      <td>0</td>\n",
       "    </tr>\n",
       "    <tr>\n",
       "      <th>Gentoo</th>\n",
       "      <td>124</td>\n",
       "      <td>0</td>\n",
       "      <td>0</td>\n",
       "    </tr>\n",
       "  </tbody>\n",
       "</table>\n",
       "</div>"
      ],
      "text/plain": [
       "island     Biscoe  Dream  Torgersen\n",
       "species                            \n",
       "Adelie         44     56         52\n",
       "Chinstrap       0     68          0\n",
       "Gentoo        124      0          0"
      ]
     },
     "execution_count": 42,
     "metadata": {},
     "output_type": "execute_result"
    }
   ],
   "source": [
    "crosstab = pd.crosstab(mpg[\"species\"], mpg[\"island\"])\n",
    "crosstab"
   ]
  },
  {
   "cell_type": "code",
   "execution_count": 43,
   "metadata": {},
   "outputs": [
    {
     "name": "stdout",
     "output_type": "stream",
     "text": [
      "stat=299.550, p=0.0000\n"
     ]
    }
   ],
   "source": [
    "stat, p, dof, expected = stats.chi2_contingency(crosstab)\n",
    "print('stat=%.3f, p=%.4f' % (stat, p))"
   ]
  },
  {
   "cell_type": "code",
   "execution_count": 45,
   "metadata": {},
   "outputs": [
    {
     "name": "stdout",
     "output_type": "stream",
     "text": [
      "We reject the null hypothesis. species and island variables are dependent\n"
     ]
    }
   ],
   "source": [
    "if p > 0.05:\n",
    "\tprint('Fail to reject Ho')\n",
    "else:\n",
    "\tprint('We reject the null hypothesis. species and island variables are dependent')"
   ]
  },
  {
   "cell_type": "code",
   "execution_count": 48,
   "metadata": {},
   "outputs": [
    {
     "data": {
      "text/html": [
       "<div>\n",
       "<style scoped>\n",
       "    .dataframe tbody tr th:only-of-type {\n",
       "        vertical-align: middle;\n",
       "    }\n",
       "\n",
       "    .dataframe tbody tr th {\n",
       "        vertical-align: top;\n",
       "    }\n",
       "\n",
       "    .dataframe thead th {\n",
       "        text-align: right;\n",
       "    }\n",
       "</style>\n",
       "<table border=\"1\" class=\"dataframe\">\n",
       "  <thead>\n",
       "    <tr style=\"text-align: right;\">\n",
       "      <th>species</th>\n",
       "      <th>Adelie</th>\n",
       "      <th>Chinstrap</th>\n",
       "      <th>Gentoo</th>\n",
       "    </tr>\n",
       "    <tr>\n",
       "      <th>sex</th>\n",
       "      <th></th>\n",
       "      <th></th>\n",
       "      <th></th>\n",
       "    </tr>\n",
       "  </thead>\n",
       "  <tbody>\n",
       "    <tr>\n",
       "      <th>Female</th>\n",
       "      <td>73</td>\n",
       "      <td>34</td>\n",
       "      <td>58</td>\n",
       "    </tr>\n",
       "    <tr>\n",
       "      <th>Male</th>\n",
       "      <td>73</td>\n",
       "      <td>34</td>\n",
       "      <td>61</td>\n",
       "    </tr>\n",
       "  </tbody>\n",
       "</table>\n",
       "</div>"
      ],
      "text/plain": [
       "species  Adelie  Chinstrap  Gentoo\n",
       "sex                               \n",
       "Female       73         34      58\n",
       "Male         73         34      61"
      ]
     },
     "execution_count": 48,
     "metadata": {},
     "output_type": "execute_result"
    }
   ],
   "source": [
    "crosstab = pd.crosstab(mpg[\"sex\"], mpg[\"species\"])\n",
    "crosstab"
   ]
  },
  {
   "cell_type": "code",
   "execution_count": 49,
   "metadata": {},
   "outputs": [
    {
     "name": "stdout",
     "output_type": "stream",
     "text": [
      "stat=0.049, p=0.9760\n"
     ]
    }
   ],
   "source": [
    "stat, p, dof, expected = stats.chi2_contingency(crosstab)\n",
    "print('stat=%.3f, p=%.4f' % (stat, p))"
   ]
  },
  {
   "cell_type": "code",
   "execution_count": 50,
   "metadata": {},
   "outputs": [
    {
     "name": "stdout",
     "output_type": "stream",
     "text": [
      "Fail to reject Ho\n"
     ]
    }
   ],
   "source": [
    "if p > 0.05:\n",
    "\tprint('Fail to reject Ho')\n",
    "else:\n",
    "\tprint('We reject the null hypothesis. species and sex variables are dependent')"
   ]
  },
  {
   "cell_type": "code",
   "execution_count": null,
   "metadata": {},
   "outputs": [],
   "source": []
  }
 ],
 "metadata": {
  "colab": {
   "provenance": [
    {
     "file_id": "1g0l6wGovUU2sFAbkCcDjhIi44avshlBX",
     "timestamp": 1662894358657
    }
   ]
  },
  "kernelspec": {
   "display_name": "Python 3 (ipykernel)",
   "language": "python",
   "name": "python3"
  },
  "language_info": {
   "codemirror_mode": {
    "name": "ipython",
    "version": 3
   },
   "file_extension": ".py",
   "mimetype": "text/x-python",
   "name": "python",
   "nbconvert_exporter": "python",
   "pygments_lexer": "ipython3",
   "version": "3.9.12"
  }
 },
 "nbformat": 4,
 "nbformat_minor": 1
}
