{
  "nbformat": 4,
  "nbformat_minor": 0,
  "metadata": {
    "colab": {
      "provenance": [],
      "collapsed_sections": [],
      "authorship_tag": "ABX9TyPXoFlgGl7W+sXcgGgrEHw0",
      "include_colab_link": true
    },
    "kernelspec": {
      "name": "python3",
      "display_name": "Python 3"
    },
    "language_info": {
      "name": "python"
    }
  },
  "cells": [
    {
      "cell_type": "markdown",
      "metadata": {
        "id": "view-in-github",
        "colab_type": "text"
      },
      "source": [
        "<a href=\"https://colab.research.google.com/github/mustafaozsahinn/daily-work/blob/main/october27.ipynb\" target=\"_parent\"><img src=\"https://colab.research.google.com/assets/colab-badge.svg\" alt=\"Open In Colab\"/></a>"
      ]
    },
    {
      "cell_type": "markdown",
      "source": [
        "Comparison Operators"
      ],
      "metadata": {
        "id": "1YrlH8ysbSMM"
      }
    },
    {
      "cell_type": "code",
      "execution_count": 1,
      "metadata": {
        "colab": {
          "base_uri": "https://localhost:8080/"
        },
        "id": "ye5caYv_Z30D",
        "outputId": "0b9c4c28-1a5b-41e8-d2a5-9bd919e2ba7c"
      },
      "outputs": [
        {
          "output_type": "execute_result",
          "data": {
            "text/plain": [
              "True"
            ]
          },
          "metadata": {},
          "execution_count": 1
        }
      ],
      "source": [
        "# operators give only True and False\n",
        "1 == 1"
      ]
    },
    {
      "cell_type": "code",
      "source": [
        "3 > 3"
      ],
      "metadata": {
        "colab": {
          "base_uri": "https://localhost:8080/"
        },
        "id": "2ORd1GPcb6-8",
        "outputId": "03316fe0-c617-4bcc-8d89-00d049f9ec81"
      },
      "execution_count": 2,
      "outputs": [
        {
          "output_type": "execute_result",
          "data": {
            "text/plain": [
              "False"
            ]
          },
          "metadata": {},
          "execution_count": 2
        }
      ]
    },
    {
      "cell_type": "code",
      "source": [
        "# >= means > or = \n",
        "3 >= 3"
      ],
      "metadata": {
        "colab": {
          "base_uri": "https://localhost:8080/"
        },
        "id": "dx_vedxdb8gg",
        "outputId": "fee3748f-a58c-406f-b855-fd9bbfa13961"
      },
      "execution_count": 3,
      "outputs": [
        {
          "output_type": "execute_result",
          "data": {
            "text/plain": [
              "True"
            ]
          },
          "metadata": {},
          "execution_count": 3
        }
      ]
    },
    {
      "cell_type": "code",
      "source": [
        "# eder kardeşim eder :)\n",
        "if \"ali\" != \"bali\":\n",
        "  print(\"cibali\")"
      ],
      "metadata": {
        "colab": {
          "base_uri": "https://localhost:8080/"
        },
        "id": "bjTnqyslcFvj",
        "outputId": "852bcc18-bbbb-46b6-dac1-e4040718cbac"
      },
      "execution_count": 4,
      "outputs": [
        {
          "output_type": "stream",
          "name": "stdout",
          "text": [
            "cibali\n"
          ]
        }
      ]
    },
    {
      "cell_type": "code",
      "source": [
        "# if condition and Truty\n",
        "if 1 and \"bir\" and (1):\n",
        "  print(\"works\")\n",
        "\n",
        "print(\"does not work\")"
      ],
      "metadata": {
        "colab": {
          "base_uri": "https://localhost:8080/"
        },
        "id": "kNoxnocJcQq5",
        "outputId": "cd4a6810-6ab9-4a0b-db8b-fb2ab389e813"
      },
      "execution_count": 5,
      "outputs": [
        {
          "output_type": "stream",
          "name": "stdout",
          "text": [
            "works\n",
            "does not work\n"
          ]
        }
      ]
    },
    {
      "cell_type": "code",
      "source": [
        "# python is a case sensetive programming language.\n",
        "if \"alex\" == \"Alex\":\n",
        "  print(\"is the same\")"
      ],
      "metadata": {
        "id": "w-fLwbK1dT4L"
      },
      "execution_count": 6,
      "outputs": []
    },
    {
      "cell_type": "code",
      "source": [
        "if 1 == 1.00:\n",
        "  print(\"is the same\")"
      ],
      "metadata": {
        "colab": {
          "base_uri": "https://localhost:8080/"
        },
        "id": "sGKuIUZzd3yD",
        "outputId": "d3601619-fbd6-44d9-c6f8-b9e1d46ed15f"
      },
      "execution_count": 12,
      "outputs": [
        {
          "output_type": "stream",
          "name": "stdout",
          "text": [
            "is the same\n"
          ]
        }
      ]
    },
    {
      "cell_type": "code",
      "source": [
        "# input gives str. be aware to convert to int.\n",
        "type(int(input(\"enter a number: \")))"
      ],
      "metadata": {
        "colab": {
          "base_uri": "https://localhost:8080/"
        },
        "id": "2gq9vR9FfDl8",
        "outputId": "b31d0a8c-4716-4e09-b429-0ba37a433f54"
      },
      "execution_count": 18,
      "outputs": [
        {
          "name": "stdout",
          "output_type": "stream",
          "text": [
            "enter a number: 123\n"
          ]
        },
        {
          "output_type": "execute_result",
          "data": {
            "text/plain": [
              "int"
            ]
          },
          "metadata": {},
          "execution_count": 18
        }
      ]
    },
    {
      "cell_type": "code",
      "source": [
        "a = set(\"TWELVe PLUSS ONE\")\n",
        "b = set(\"eLEVEN PLUS TWO\")\n",
        "if a == b:\n",
        "  print(\"we are the same\")"
      ],
      "metadata": {
        "colab": {
          "base_uri": "https://localhost:8080/"
        },
        "id": "IIZNz2xjgPZ6",
        "outputId": "17fd0067-bce2-499f-fac2-265d85b68342"
      },
      "execution_count": 22,
      "outputs": [
        {
          "output_type": "stream",
          "name": "stdout",
          "text": [
            "we are the same\n"
          ]
        }
      ]
    },
    {
      "cell_type": "code",
      "source": [
        "a = input(\"Yes or No?: \").replace(\" \", \"\").lower()\n",
        "if a == \"yes\":\n",
        "  print(\"You entered True\")\n",
        "else:\n",
        "  print(\"You entered False\")"
      ],
      "metadata": {
        "colab": {
          "base_uri": "https://localhost:8080/"
        },
        "id": "KHwf_Ki8g4O4",
        "outputId": "28cd3898-7c74-4b82-9d7e-06ea52742278"
      },
      "execution_count": 24,
      "outputs": [
        {
          "output_type": "stream",
          "name": "stdout",
          "text": [
            "Yes or No?: y E s\n",
            "You entered True\n"
          ]
        }
      ]
    },
    {
      "cell_type": "code",
      "source": [
        "x = range(11)\n",
        "if 10 in x:\n",
        "  print(\"hello\")\n",
        "else:\n",
        "  print(\"world\")"
      ],
      "metadata": {
        "colab": {
          "base_uri": "https://localhost:8080/"
        },
        "id": "Wy9aChhkiQWt",
        "outputId": "dbb7da7c-cfb0-41ea-869d-8092690c8791"
      },
      "execution_count": 26,
      "outputs": [
        {
          "output_type": "stream",
          "name": "stdout",
          "text": [
            "hello\n"
          ]
        }
      ]
    },
    {
      "cell_type": "code",
      "source": [
        "number = int(input(\"enter a number: \"))\n",
        "if number % 2 == 0:\n",
        "  print(\"your number\", number, \"is even\")\n",
        "else:\n",
        "  print(f\"your number {number} is odd\")"
      ],
      "metadata": {
        "colab": {
          "base_uri": "https://localhost:8080/"
        },
        "id": "PR71GBeDkN_l",
        "outputId": "3aebf93b-7618-4acd-e935-d7337a7b5bcc"
      },
      "execution_count": 28,
      "outputs": [
        {
          "output_type": "stream",
          "name": "stdout",
          "text": [
            "enter a number: 5\n",
            "your number 5 is odd\n"
          ]
        }
      ]
    },
    {
      "cell_type": "code",
      "source": [
        "number = int(input(\"enter a number: \"))\n",
        "if number > 0:\n",
        "  print(\"your number\", number, \"is positive\")\n",
        "if number < 0:\n",
        "  print(\"your number {} is negative\".format(number))\n",
        "if number == 0:\n",
        "  print(f\"your number {number} is zero\")"
      ],
      "metadata": {
        "colab": {
          "base_uri": "https://localhost:8080/"
        },
        "id": "aBteBX3Yq1rs",
        "outputId": "c6dc186a-4b1c-4659-8568-01b8607cdca9"
      },
      "execution_count": 31,
      "outputs": [
        {
          "output_type": "stream",
          "name": "stdout",
          "text": [
            "enter a number: -4\n",
            "your number -4 is negative\n"
          ]
        }
      ]
    },
    {
      "cell_type": "code",
      "source": [
        "number = int(input(\"enter a number: \"))\n",
        "if number > 0:\n",
        "  print(\"your number\", number, \"is positive\")\n",
        "elif number < 0:\n",
        "  print(\"your number {} is negative\".format(number))\n",
        "else:\n",
        "  print(f\"your number {number} is zero\")"
      ],
      "metadata": {
        "colab": {
          "base_uri": "https://localhost:8080/"
        },
        "id": "cRMTSsrOsSpr",
        "outputId": "7011446b-e543-4e53-8a96-9f6deb25125c"
      },
      "execution_count": 33,
      "outputs": [
        {
          "output_type": "stream",
          "name": "stdout",
          "text": [
            "enter a number: 8\n",
            "your number 8 is positive\n"
          ]
        }
      ]
    },
    {
      "cell_type": "code",
      "source": [
        "# larger number alternative 1\n",
        "number1 = float(input(\"enter a number: \"))\n",
        "number2 = int(input(\"enter a number: \"))\n",
        "if number1 > number2:\n",
        "  print(f\"large number is {number1}\")\n",
        "else:\n",
        "  print(\"large number is {}\".format(number2))"
      ],
      "metadata": {
        "colab": {
          "base_uri": "https://localhost:8080/"
        },
        "id": "tYVwthfBs0wD",
        "outputId": "da3fdf09-c64f-4c94-ab7c-9d53a042ea0c"
      },
      "execution_count": 35,
      "outputs": [
        {
          "output_type": "stream",
          "name": "stdout",
          "text": [
            "enter a number: 6\n",
            "enter a number: 3\n",
            "large number is 6.0\n"
          ]
        }
      ]
    },
    {
      "cell_type": "code",
      "source": [
        "# larger number alternative 2\n",
        "number1 = float(input(\"enter a number: \"))\n",
        "number2 = float(input(\"enter a number: \"))\n",
        "if number1 > number2:\n",
        "  larger = number1\n",
        "else:\n",
        "  larger = number2\n",
        "print(f\"the larger number is {larger}\")"
      ],
      "metadata": {
        "colab": {
          "base_uri": "https://localhost:8080/"
        },
        "id": "vLwz6E8-tPVb",
        "outputId": "91238995-8f1b-42d5-8d75-7f358bc8cf0a"
      },
      "execution_count": 36,
      "outputs": [
        {
          "output_type": "stream",
          "name": "stdout",
          "text": [
            "enter a number: 5\n",
            "enter a number: 8\n",
            "the larger number is 8.0\n"
          ]
        }
      ]
    },
    {
      "cell_type": "code",
      "source": [
        "bool_value = 0\n",
        "if bool_value:\n",
        "  print(\"yes\")\n",
        "else:\n",
        "  print(\"no\")"
      ],
      "metadata": {
        "colab": {
          "base_uri": "https://localhost:8080/"
        },
        "id": "aF8WT1DnuK41",
        "outputId": "86ca1a69-e260-40cd-9781-12daa0e7fdb2"
      },
      "execution_count": 37,
      "outputs": [
        {
          "output_type": "stream",
          "name": "stdout",
          "text": [
            "no\n"
          ]
        }
      ]
    },
    {
      "cell_type": "code",
      "source": [
        "# if - else - elif conditions\n",
        "number = int(input(\"enter a number: \"))\n",
        "if number > 0:\n",
        "  result = \"pozitive\"\n",
        "elif number < 0:\n",
        "  result = \"negative\"\n",
        "else:\n",
        "  result = \"zero\"\n",
        "print(f\"your number {number} is {result}\")"
      ],
      "metadata": {
        "colab": {
          "base_uri": "https://localhost:8080/"
        },
        "id": "qDNasDfUvOJM",
        "outputId": "201013b3-5e61-41fe-9fe0-ccc499b92642"
      },
      "execution_count": 40,
      "outputs": [
        {
          "output_type": "stream",
          "name": "stdout",
          "text": [
            "enter a number: 7\n",
            "your number 7 is pozitive\n"
          ]
        }
      ]
    },
    {
      "cell_type": "code",
      "source": [
        "audience = \"teen\"\n",
        "if audience == \"kid\":\n",
        "  print(0)\n",
        "elif audience == \"teen\":\n",
        "  print(1)\n",
        "elif audience == \"adult\":\n",
        "  print(3)\n",
        "else:\n",
        "  print(\"go home\")"
      ],
      "metadata": {
        "colab": {
          "base_uri": "https://localhost:8080/"
        },
        "id": "HbV656UKw3wx",
        "outputId": "f904a4a0-5027-452e-87d2-3f3ac751a990"
      },
      "execution_count": 43,
      "outputs": [
        {
          "output_type": "stream",
          "name": "stdout",
          "text": [
            "1\n"
          ]
        }
      ]
    },
    {
      "cell_type": "code",
      "source": [
        "# enter three numbers\n",
        "a = int(input(\"enter a number: \"))\n",
        "b = int(input(\"enter a number: \"))\n",
        "c = int(input(\"enter a number: \"))\n",
        "\n",
        "# if doğruysa elif ve else e gitmiyor.\n",
        "if a >= b and a >= c:\n",
        "  print(\"the largest number is a\", a)\n",
        "elif b >= a and b >= c:\n",
        "  print(\"the largest number is b\", b)\n",
        "else:\n",
        "  print(\"the largest number is c\", c)"
      ],
      "metadata": {
        "colab": {
          "base_uri": "https://localhost:8080/"
        },
        "id": "WRo7z5Ec5eK5",
        "outputId": "be0eb403-7a54-45b9-f492-96ef02f4c207"
      },
      "execution_count": 46,
      "outputs": [
        {
          "output_type": "stream",
          "name": "stdout",
          "text": [
            "enter a number: 2\n",
            "enter a number: 3\n",
            "enter a number: 3\n",
            "the largest number is b 3\n"
          ]
        }
      ]
    },
    {
      "cell_type": "code",
      "source": [
        "# nested if- elif- else conditions\n",
        "\n",
        "audience_group = \"kid\", \"teen\", \"adult\"\n",
        "\n",
        "audience = \"teen\"\n",
        "\n",
        "if audience in audience_group:\n",
        "  if audience == \"kid\":\n",
        "    print(\"it is free to go to cinema\")\n",
        "  elif audience == \"teen\":\n",
        "    print(\"discounted price\")\n",
        "  else: #audience == \"adult\":\n",
        "    print(\"normal price\")\n",
        "else:\n",
        "  print(\"no such audience, stay at home!\")"
      ],
      "metadata": {
        "colab": {
          "base_uri": "https://localhost:8080/"
        },
        "id": "byYZ90gq586U",
        "outputId": "a77bfd08-4e34-410d-a7f7-7459660ff282"
      },
      "execution_count": 50,
      "outputs": [
        {
          "output_type": "stream",
          "name": "stdout",
          "text": [
            "discounted price\n"
          ]
        }
      ]
    },
    {
      "cell_type": "code",
      "source": [
        "# marking a no - way 1\n",
        "mark = int(input(\"what is grade: \"))\n",
        "if mark >= 95:\n",
        "  print(\"A+\")\n",
        "elif 94 > mark >= 90:\n",
        "  print(\"A\")\n",
        "elif 89 > mark >= 85:\n",
        "  print(\"B+\")\n",
        "elif 84 > mark >= 80:\n",
        "  print(\"B\")\n",
        "else:\n",
        "  print(\"C\")"
      ],
      "metadata": {
        "colab": {
          "base_uri": "https://localhost:8080/"
        },
        "id": "2mlBOy4z9Hzz",
        "outputId": "f7fd4f25-a833-4c73-e1f7-5fcf0030baae"
      },
      "execution_count": 52,
      "outputs": [
        {
          "output_type": "stream",
          "name": "stdout",
          "text": [
            "what is grade: 90\n",
            "A\n"
          ]
        }
      ]
    },
    {
      "cell_type": "code",
      "source": [
        "# marking a no - way 2\n",
        "mark = int(input(\"what is grade: \"))\n",
        "if mark >= 90:\n",
        "  if mark >= 95:\n",
        "    grade = \"A+\"\n",
        "  else:\n",
        "    grade = \"A\"\n",
        "elif mark >= 80:\n",
        "  if mark >= 85:\n",
        "    grade = \"B+\"\n",
        "  else:\n",
        "    grade = \"B\"\n",
        "elif mark >= 70:\n",
        "  if mark >= 75:\n",
        "    grade = \"C+\"\n",
        "  else:\n",
        "    grade = \"C\"\n",
        "else:\n",
        "  grade = \"D\"\n",
        "\n",
        "print(f\"your grade {grade}\")"
      ],
      "metadata": {
        "colab": {
          "base_uri": "https://localhost:8080/"
        },
        "id": "0WkigayG-Qmo",
        "outputId": "97e3c539-aa06-4be5-9da7-1cba4280397c"
      },
      "execution_count": 54,
      "outputs": [
        {
          "output_type": "stream",
          "name": "stdout",
          "text": [
            "what is grade: 78\n",
            "your grade C+\n"
          ]
        }
      ]
    }
  ]
}